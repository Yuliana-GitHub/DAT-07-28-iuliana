{
 "cells": [
  {
   "cell_type": "code",
   "execution_count": 1,
   "metadata": {},
   "outputs": [],
   "source": [
    "import pandas as pd"
   ]
  },
  {
   "cell_type": "code",
   "execution_count": 16,
   "metadata": {},
   "outputs": [],
   "source": [
    "data1 = {\n",
    "    'Zone': ['West', 'South', 'West', 'North', 'East', 'South'],\n",
    "    'Person': ['Jack', 'Jane', 'Jill', 'Jason', 'Jordan', 'Jenna'],\n",
    "    'Division': ['Sales', 'Marketing', 'Sales', 'Operations', 'Admin', 'Sales']\n",
    "}\n",
    "\n",
    "df1 = pd.DataFrame(data1)"
   ]
  },
  {
   "cell_type": "code",
   "execution_count": 17,
   "metadata": {},
   "outputs": [],
   "source": [
    "data2 = {\n",
    "    'Region'  : ['West', 'East', 'West', 'North', 'East', 'Midwest'],\n",
    "    'Person'  : ['Jack', 'Jackson', 'Jill', 'Jason', 'Jordan', 'Adam'],\n",
    "    'Division': ['Sales', 'Management', 'Sales', 'Operations', 'Admin', 'Admin']\n",
    "}\n",
    "\n",
    "df2 = pd.DataFrame(data2)"
   ]
  },
  {
   "cell_type": "code",
   "execution_count": 23,
   "metadata": {},
   "outputs": [],
   "source": [
    "merged_df =pd.merge(df1,df2, how='left', on=['Person','Division'], indicator = True)"
   ]
  },
  {
   "cell_type": "code",
   "execution_count": 35,
   "metadata": {},
   "outputs": [],
   "source": [
    "existing_vals = merged_df['_merge'] =='both'"
   ]
  },
  {
   "cell_type": "code",
   "execution_count": 36,
   "metadata": {},
   "outputs": [
    {
     "data": {
      "text/plain": [
       "0     True\n",
       "1    False\n",
       "2     True\n",
       "3     True\n",
       "4     True\n",
       "5    False\n",
       "Name: _merge, dtype: bool"
      ]
     },
     "execution_count": 36,
     "metadata": {},
     "output_type": "execute_result"
    }
   ],
   "source": [
    "existing_vals"
   ]
  },
  {
   "cell_type": "code",
   "execution_count": 41,
   "metadata": {},
   "outputs": [],
   "source": [
    "new_values = merged_df.loc[~(merged_df['_merge'] =='both'), ['Person','Division','Region','Zone']]"
   ]
  },
  {
   "cell_type": "code",
   "execution_count": 39,
   "metadata": {},
   "outputs": [
    {
     "data": {
      "text/html": [
       "<div>\n",
       "<style scoped>\n",
       "    .dataframe tbody tr th:only-of-type {\n",
       "        vertical-align: middle;\n",
       "    }\n",
       "\n",
       "    .dataframe tbody tr th {\n",
       "        vertical-align: top;\n",
       "    }\n",
       "\n",
       "    .dataframe thead th {\n",
       "        text-align: right;\n",
       "    }\n",
       "</style>\n",
       "<table border=\"1\" class=\"dataframe\">\n",
       "  <thead>\n",
       "    <tr style=\"text-align: right;\">\n",
       "      <th></th>\n",
       "      <th>Person</th>\n",
       "      <th>Division</th>\n",
       "      <th>Region</th>\n",
       "      <th>Zone</th>\n",
       "    </tr>\n",
       "  </thead>\n",
       "  <tbody>\n",
       "    <tr>\n",
       "      <th>0</th>\n",
       "      <td>Jack</td>\n",
       "      <td>Sales</td>\n",
       "      <td>West</td>\n",
       "      <td>West</td>\n",
       "    </tr>\n",
       "    <tr>\n",
       "      <th>2</th>\n",
       "      <td>Jill</td>\n",
       "      <td>Sales</td>\n",
       "      <td>West</td>\n",
       "      <td>West</td>\n",
       "    </tr>\n",
       "    <tr>\n",
       "      <th>3</th>\n",
       "      <td>Jason</td>\n",
       "      <td>Operations</td>\n",
       "      <td>North</td>\n",
       "      <td>North</td>\n",
       "    </tr>\n",
       "    <tr>\n",
       "      <th>4</th>\n",
       "      <td>Jordan</td>\n",
       "      <td>Admin</td>\n",
       "      <td>East</td>\n",
       "      <td>East</td>\n",
       "    </tr>\n",
       "  </tbody>\n",
       "</table>\n",
       "</div>"
      ],
      "text/plain": [
       "   Person    Division Region   Zone\n",
       "0    Jack       Sales   West   West\n",
       "2    Jill       Sales   West   West\n",
       "3   Jason  Operations  North  North\n",
       "4  Jordan       Admin   East   East"
      ]
     },
     "execution_count": 39,
     "metadata": {},
     "output_type": "execute_result"
    }
   ],
   "source": [
    "new_values"
   ]
  },
  {
   "cell_type": "code",
   "execution_count": 2,
   "metadata": {},
   "outputs": [],
   "source": [
    "df1 = pd.read_excel(r'C:\\Users\\iulia\\DAT-07-28-iuliana\\ClassMaterial\\Unit2\\Data\\superstore.xls',sheet_name=0)\n",
    "df2 = pd.read_excel(r'C:\\Users\\iulia\\DAT-07-28-iuliana\\ClassMaterial\\Unit2\\Data\\superstore.xls',sheet_name=1)"
   ]
  },
  {
   "cell_type": "code",
   "execution_count": 56,
   "metadata": {},
   "outputs": [
    {
     "data": {
      "text/plain": [
       "'C:\\\\Users\\\\iulia\\\\DAT-07-28-iuliana\\\\ClassMaterial\\\\Unit2\\\\Class6'"
      ]
     },
     "execution_count": 56,
     "metadata": {},
     "output_type": "execute_result"
    }
   ],
   "source": [
    "pwd"
   ]
  },
  {
   "cell_type": "code",
   "execution_count": 57,
   "metadata": {},
   "outputs": [
    {
     "name": "stdout",
     "output_type": "stream",
     "text": [
      " Volume in drive C is Local Disk\n",
      " Volume Serial Number is CC42-D571\n",
      "\n",
      " Directory of C:\\Users\\iulia\\DAT-07-28-iuliana\\ClassMaterial\\Unit2\\Class6\n",
      "\n",
      "21/08/2020  21:06    <DIR>          .\n",
      "21/08/2020  21:06    <DIR>          ..\n",
      "21/08/2020  17:41    <DIR>          .ipynb_checkpoints\n",
      "18/08/2020  18:01           155,384 Class Notebook.ipynb\n",
      "21/08/2020  17:40            56,412 Dfs for Merging.ipynb\n",
      "21/08/2020  21:06            22,768 Dfs for Merging-iuliana-r.ipynb\n",
      "20/08/2020  20:29    <DIR>          Labs\n",
      "               3 File(s)        234,564 bytes\n",
      "               4 Dir(s)  75,168,145,408 bytes free\n"
     ]
    }
   ],
   "source": [
    "ls"
   ]
  },
  {
   "cell_type": "code",
   "execution_count": 3,
   "metadata": {},
   "outputs": [],
   "source": [
    "merged = pd.merge(df1,df2, how ='left')"
   ]
  },
  {
   "cell_type": "code",
   "execution_count": 4,
   "metadata": {},
   "outputs": [],
   "source": [
    "merged['Returned'].fillna('no',inplace= True)"
   ]
  },
  {
   "cell_type": "code",
   "execution_count": 5,
   "metadata": {},
   "outputs": [],
   "source": [
    "import numpy as np"
   ]
  },
  {
   "cell_type": "code",
   "execution_count": 6,
   "metadata": {},
   "outputs": [
    {
     "data": {
      "text/plain": [
       "0        No\n",
       "1        No\n",
       "2        No\n",
       "3        No\n",
       "4        No\n",
       "       ... \n",
       "9989     No\n",
       "9990    Yes\n",
       "9991    Yes\n",
       "9992    Yes\n",
       "9993     No\n",
       "Name: Returned, Length: 9994, dtype: object"
      ]
     },
     "execution_count": 6,
     "metadata": {},
     "output_type": "execute_result"
    }
   ],
   "source": [
    "merged['Returned'].replace('no','No')"
   ]
  },
  {
   "cell_type": "code",
   "execution_count": 7,
   "metadata": {},
   "outputs": [
    {
     "data": {
      "text/html": [
       "<div>\n",
       "<style scoped>\n",
       "    .dataframe tbody tr th:only-of-type {\n",
       "        vertical-align: middle;\n",
       "    }\n",
       "\n",
       "    .dataframe tbody tr th {\n",
       "        vertical-align: top;\n",
       "    }\n",
       "\n",
       "    .dataframe thead th {\n",
       "        text-align: right;\n",
       "    }\n",
       "</style>\n",
       "<table border=\"1\" class=\"dataframe\">\n",
       "  <thead>\n",
       "    <tr style=\"text-align: right;\">\n",
       "      <th></th>\n",
       "      <th></th>\n",
       "      <th>Row ID</th>\n",
       "      <th>Postal Code</th>\n",
       "      <th>Sales</th>\n",
       "      <th>Quantity</th>\n",
       "      <th>Discount</th>\n",
       "      <th>Profit</th>\n",
       "    </tr>\n",
       "    <tr>\n",
       "      <th>Segment</th>\n",
       "      <th>Returned</th>\n",
       "      <th></th>\n",
       "      <th></th>\n",
       "      <th></th>\n",
       "      <th></th>\n",
       "      <th></th>\n",
       "      <th></th>\n",
       "    </tr>\n",
       "  </thead>\n",
       "  <tbody>\n",
       "    <tr>\n",
       "      <th rowspan=\"2\" valign=\"top\">Consumer</th>\n",
       "      <th>Yes</th>\n",
       "      <td>2060730</td>\n",
       "      <td>29489822</td>\n",
       "      <td>1.053853e+05</td>\n",
       "      <td>1614</td>\n",
       "      <td>59.97</td>\n",
       "      <td>17002.1940</td>\n",
       "    </tr>\n",
       "    <tr>\n",
       "      <th>no</th>\n",
       "      <td>23520599</td>\n",
       "      <td>259388787</td>\n",
       "      <td>1.056016e+06</td>\n",
       "      <td>17907</td>\n",
       "      <td>760.94</td>\n",
       "      <td>117117.0152</td>\n",
       "    </tr>\n",
       "    <tr>\n",
       "      <th rowspan=\"2\" valign=\"top\">Corporate</th>\n",
       "      <th>Yes</th>\n",
       "      <td>1240878</td>\n",
       "      <td>18473097</td>\n",
       "      <td>5.191204e+04</td>\n",
       "      <td>984</td>\n",
       "      <td>38.27</td>\n",
       "      <td>5452.4241</td>\n",
       "    </tr>\n",
       "    <tr>\n",
       "      <th>no</th>\n",
       "      <td>14263856</td>\n",
       "      <td>146063233</td>\n",
       "      <td>6.542343e+05</td>\n",
       "      <td>10624</td>\n",
       "      <td>439.58</td>\n",
       "      <td>86526.7099</td>\n",
       "    </tr>\n",
       "    <tr>\n",
       "      <th rowspan=\"2\" valign=\"top\">Home Office</th>\n",
       "      <th>Yes</th>\n",
       "      <td>538387</td>\n",
       "      <td>8264218</td>\n",
       "      <td>2.320698e+04</td>\n",
       "      <td>455</td>\n",
       "      <td>16.50</td>\n",
       "      <td>777.7434</td>\n",
       "    </tr>\n",
       "    <tr>\n",
       "      <th>no</th>\n",
       "      <td>8320565</td>\n",
       "      <td>89893495</td>\n",
       "      <td>4.064462e+05</td>\n",
       "      <td>6289</td>\n",
       "      <td>245.83</td>\n",
       "      <td>59520.9351</td>\n",
       "    </tr>\n",
       "  </tbody>\n",
       "</table>\n",
       "</div>"
      ],
      "text/plain": [
       "                        Row ID  Postal Code         Sales  Quantity  Discount  \\\n",
       "Segment     Returned                                                            \n",
       "Consumer    Yes        2060730     29489822  1.053853e+05      1614     59.97   \n",
       "            no        23520599    259388787  1.056016e+06     17907    760.94   \n",
       "Corporate   Yes        1240878     18473097  5.191204e+04       984     38.27   \n",
       "            no        14263856    146063233  6.542343e+05     10624    439.58   \n",
       "Home Office Yes         538387      8264218  2.320698e+04       455     16.50   \n",
       "            no         8320565     89893495  4.064462e+05      6289    245.83   \n",
       "\n",
       "                           Profit  \n",
       "Segment     Returned               \n",
       "Consumer    Yes        17002.1940  \n",
       "            no        117117.0152  \n",
       "Corporate   Yes         5452.4241  \n",
       "            no         86526.7099  \n",
       "Home Office Yes          777.7434  \n",
       "            no         59520.9351  "
      ]
     },
     "execution_count": 7,
     "metadata": {},
     "output_type": "execute_result"
    }
   ],
   "source": [
    "merged.groupby(['Segment','Returned']).sum()"
   ]
  },
  {
   "cell_type": "code",
   "execution_count": 8,
   "metadata": {},
   "outputs": [
    {
     "data": {
      "text/html": [
       "<div>\n",
       "<style scoped>\n",
       "    .dataframe tbody tr th:only-of-type {\n",
       "        vertical-align: middle;\n",
       "    }\n",
       "\n",
       "    .dataframe tbody tr th {\n",
       "        vertical-align: top;\n",
       "    }\n",
       "\n",
       "    .dataframe thead th {\n",
       "        text-align: right;\n",
       "    }\n",
       "</style>\n",
       "<table border=\"1\" class=\"dataframe\">\n",
       "  <thead>\n",
       "    <tr style=\"text-align: right;\">\n",
       "      <th></th>\n",
       "      <th>Profit</th>\n",
       "      <th>Sales</th>\n",
       "    </tr>\n",
       "    <tr>\n",
       "      <th>Order Date</th>\n",
       "      <th></th>\n",
       "      <th></th>\n",
       "    </tr>\n",
       "  </thead>\n",
       "  <tbody>\n",
       "    <tr>\n",
       "      <th>0</th>\n",
       "      <td>27.531328</td>\n",
       "      <td>229.255914</td>\n",
       "    </tr>\n",
       "    <tr>\n",
       "      <th>1</th>\n",
       "      <td>32.161238</td>\n",
       "      <td>259.683094</td>\n",
       "    </tr>\n",
       "    <tr>\n",
       "      <th>2</th>\n",
       "      <td>39.633075</td>\n",
       "      <td>237.350337</td>\n",
       "    </tr>\n",
       "    <tr>\n",
       "      <th>3</th>\n",
       "      <td>27.124915</td>\n",
       "      <td>220.072302</td>\n",
       "    </tr>\n",
       "    <tr>\n",
       "      <th>4</th>\n",
       "      <td>25.589012</td>\n",
       "      <td>235.254268</td>\n",
       "    </tr>\n",
       "    <tr>\n",
       "      <th>5</th>\n",
       "      <td>24.941160</td>\n",
       "      <td>216.304944</td>\n",
       "    </tr>\n",
       "    <tr>\n",
       "      <th>6</th>\n",
       "      <td>33.409071</td>\n",
       "      <td>225.353127</td>\n",
       "    </tr>\n",
       "  </tbody>\n",
       "</table>\n",
       "</div>"
      ],
      "text/plain": [
       "               Profit       Sales\n",
       "Order Date                       \n",
       "0           27.531328  229.255914\n",
       "1           32.161238  259.683094\n",
       "2           39.633075  237.350337\n",
       "3           27.124915  220.072302\n",
       "4           25.589012  235.254268\n",
       "5           24.941160  216.304944\n",
       "6           33.409071  225.353127"
      ]
     },
     "execution_count": 8,
     "metadata": {},
     "output_type": "execute_result"
    }
   ],
   "source": [
    "merged.groupby(merged['Order Date'].dt.dayofweek)[['Profit','Sales']].mean()"
   ]
  },
  {
   "cell_type": "code",
   "execution_count": 9,
   "metadata": {},
   "outputs": [
    {
     "data": {
      "text/plain": [
       "Order Date\n",
       "2014-03-31     74447.7960\n",
       "2014-06-30     86538.7596\n",
       "2014-09-30    143633.2123\n",
       "2014-12-31    179627.7302\n",
       "2015-03-31     68851.7386\n",
       "2015-06-30     89124.1870\n",
       "2015-09-30    130259.5752\n",
       "2015-12-31    182297.0082\n",
       "2016-03-31     93237.1810\n",
       "2016-06-30    136082.3010\n",
       "2016-09-30    143787.3622\n",
       "2016-12-31    236098.7538\n",
       "2017-03-31    123144.8602\n",
       "2017-06-30    133764.3720\n",
       "2017-09-30    196251.9560\n",
       "2017-12-31    280054.0670\n",
       "Freq: Q-DEC, Name: Sales, dtype: float64"
      ]
     },
     "execution_count": 9,
     "metadata": {},
     "output_type": "execute_result"
    }
   ],
   "source": [
    "merged.resample('q',on = 'Order Date')['Sales'].sum()"
   ]
  },
  {
   "cell_type": "code",
   "execution_count": 31,
   "metadata": {},
   "outputs": [
    {
     "data": {
      "text/html": [
       "<div>\n",
       "<style scoped>\n",
       "    .dataframe tbody tr th:only-of-type {\n",
       "        vertical-align: middle;\n",
       "    }\n",
       "\n",
       "    .dataframe tbody tr th {\n",
       "        vertical-align: top;\n",
       "    }\n",
       "\n",
       "    .dataframe thead th {\n",
       "        text-align: right;\n",
       "    }\n",
       "</style>\n",
       "<table border=\"1\" class=\"dataframe\">\n",
       "  <thead>\n",
       "    <tr style=\"text-align: right;\">\n",
       "      <th></th>\n",
       "      <th>Sales</th>\n",
       "      <th>Quantity</th>\n",
       "      <th>Discount</th>\n",
       "      <th>Profit</th>\n",
       "    </tr>\n",
       "    <tr>\n",
       "      <th>Order Date</th>\n",
       "      <th></th>\n",
       "      <th></th>\n",
       "      <th></th>\n",
       "      <th></th>\n",
       "    </tr>\n",
       "  </thead>\n",
       "  <tbody>\n",
       "    <tr>\n",
       "      <th>2014</th>\n",
       "      <td>484247.4981</td>\n",
       "      <td>7581</td>\n",
       "      <td>315.46</td>\n",
       "      <td>49543.9741</td>\n",
       "    </tr>\n",
       "    <tr>\n",
       "      <th>2015</th>\n",
       "      <td>470532.5090</td>\n",
       "      <td>7979</td>\n",
       "      <td>327.09</td>\n",
       "      <td>61618.6037</td>\n",
       "    </tr>\n",
       "    <tr>\n",
       "      <th>2016</th>\n",
       "      <td>609205.5980</td>\n",
       "      <td>9837</td>\n",
       "      <td>400.32</td>\n",
       "      <td>81795.1743</td>\n",
       "    </tr>\n",
       "    <tr>\n",
       "      <th>2017</th>\n",
       "      <td>733215.2552</td>\n",
       "      <td>12476</td>\n",
       "      <td>518.22</td>\n",
       "      <td>93439.2696</td>\n",
       "    </tr>\n",
       "  </tbody>\n",
       "</table>\n",
       "</div>"
      ],
      "text/plain": [
       "                  Sales  Quantity  Discount      Profit\n",
       "Order Date                                             \n",
       "2014        484247.4981      7581    315.46  49543.9741\n",
       "2015        470532.5090      7979    327.09  61618.6037\n",
       "2016        609205.5980      9837    400.32  81795.1743\n",
       "2017        733215.2552     12476    518.22  93439.2696"
      ]
     },
     "execution_count": 31,
     "metadata": {},
     "output_type": "execute_result"
    }
   ],
   "source": [
    "merged.groupby(merged['Order Date'].dt.year)[['Sales','Quantity','Discount','Profit']].sum()"
   ]
  },
  {
   "cell_type": "code",
   "execution_count": 27,
   "metadata": {},
   "outputs": [
    {
     "data": {
      "text/plain": [
       "0       False\n",
       "1       False\n",
       "2       False\n",
       "3       False\n",
       "4       False\n",
       "        ...  \n",
       "9989    False\n",
       "9990    False\n",
       "9991    False\n",
       "9992    False\n",
       "9993    False\n",
       "Name: Order Date, Length: 9994, dtype: bool"
      ]
     },
     "execution_count": 27,
     "metadata": {},
     "output_type": "execute_result"
    }
   ],
   "source": [
    "merged['Order Date'].dt.is_month_end"
   ]
  },
  {
   "cell_type": "code",
   "execution_count": 35,
   "metadata": {},
   "outputs": [
    {
     "data": {
      "text/plain": [
       "Order Date\n",
       "2014-03-31     74447.7960\n",
       "2014-06-30     86538.7596\n",
       "2014-09-30    143633.2123\n",
       "2014-12-31    179627.7302\n",
       "2015-03-31     68851.7386\n",
       "2015-06-30     89124.1870\n",
       "2015-09-30    130259.5752\n",
       "2015-12-31    182297.0082\n",
       "2016-03-31     93237.1810\n",
       "2016-06-30    136082.3010\n",
       "2016-09-30    143787.3622\n",
       "2016-12-31    236098.7538\n",
       "2017-03-31    123144.8602\n",
       "2017-06-30    133764.3720\n",
       "2017-09-30    196251.9560\n",
       "2017-12-31    280054.0670\n",
       "Freq: Q-DEC, Name: Sales, dtype: float64"
      ]
     },
     "execution_count": 35,
     "metadata": {},
     "output_type": "execute_result"
    }
   ],
   "source": [
    "merged.resample('Q', on='Order Date')['Sales'].sum()"
   ]
  },
  {
   "cell_type": "code",
   "execution_count": 45,
   "metadata": {},
   "outputs": [
    {
     "data": {
      "text/plain": [
       "Order Date\n",
       "1    359681.5758\n",
       "2    445509.6196\n",
       "3    613932.1057\n",
       "4    878077.5592\n",
       "Name: Sales, dtype: float64"
      ]
     },
     "execution_count": 45,
     "metadata": {},
     "output_type": "execute_result"
    }
   ],
   "source": [
    "merged.groupby(merged['Order Date'].dt.quarter)['Sales'].sum()"
   ]
  },
  {
   "cell_type": "code",
   "execution_count": null,
   "metadata": {},
   "outputs": [],
   "source": []
  }
 ],
 "metadata": {
  "kernelspec": {
   "display_name": "Python 3",
   "language": "python",
   "name": "python3"
  },
  "language_info": {
   "codemirror_mode": {
    "name": "ipython",
    "version": 3
   },
   "file_extension": ".py",
   "mimetype": "text/x-python",
   "name": "python",
   "nbconvert_exporter": "python",
   "pygments_lexer": "ipython3",
   "version": "3.8.3"
  }
 },
 "nbformat": 4,
 "nbformat_minor": 2
}

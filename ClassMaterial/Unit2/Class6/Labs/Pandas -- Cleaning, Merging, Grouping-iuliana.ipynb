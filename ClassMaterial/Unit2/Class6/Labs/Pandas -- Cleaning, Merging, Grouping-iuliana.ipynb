{
 "cells": [
  {
   "cell_type": "markdown",
   "metadata": {},
   "source": [
    "### Pandas Lab -- Cleaning, Merging, & Grouping\n",
    "\n",
    "This lab is designed to introduce students to common use cases for Pandas when working with data:\n",
    "\n",
    " - Creating new information out of your existing data set\n",
    " - Merging, concatenating, and joining different data sources\n",
    " - Grouping -- With both time & non-time based data"
   ]
  },
  {
   "cell_type": "markdown",
   "metadata": {},
   "source": [
    "### Section I: Creating Data Out of Your Existing Columns\n",
    "\n",
    "Go ahead and create the following columns in your dataset."
   ]
  },
  {
   "cell_type": "code",
   "execution_count": 189,
   "metadata": {},
   "outputs": [],
   "source": [
    "import pandas as pd\n",
    "import numpy as np"
   ]
  },
  {
   "cell_type": "code",
   "execution_count": 190,
   "metadata": {},
   "outputs": [],
   "source": [
    "path = r\"C:\\Users\\iulia\\OneDrive\\Documents\\Data Science\\superstore.xlsm\"\n",
    "orders = pd.read_excel(path, sheet_name =0)\n",
    "returns = pd.read_excel(path,sheet_name=1)\n",
    "person = pd.read_excel(path,sheet_name=2)"
   ]
  },
  {
   "cell_type": "markdown",
   "metadata": {},
   "source": [
    "**Column 1:**\n",
    "\n",
    "  - **Column Name:** Profitable\n",
    "  - **Values:** `True` if `Profit` > 0, `False` if not."
   ]
  },
  {
   "cell_type": "code",
   "execution_count": 191,
   "metadata": {},
   "outputs": [],
   "source": [
    "orders['Profitable'] = np.where(orders['Profit']>0,True,False)"
   ]
  },
  {
   "cell_type": "markdown",
   "metadata": {},
   "source": [
    "**Column 2:**\n",
    "\n",
    " - **Column Name:** Expected Ship Time\n",
    " - **Values:**\n",
    "   - `0` if `Ship Mode` == `Same Day`\n",
    "   - `2` if `Ship Mode` == `First Class`\n",
    "   - `3` if `Ship Mode` == `Second Class`\n",
    "   - `6` if `Ship Mode` == `Standard Class`\n",
    "   - `-1` if none of the above."
   ]
  },
  {
   "cell_type": "code",
   "execution_count": 192,
   "metadata": {},
   "outputs": [],
   "source": [
    "conditions = [\n",
    "    orders['Ship Mode'] == 'Same Day',\n",
    "    orders['Ship Mode'] == 'First Class',\n",
    "    orders['Ship Mode'] == 'Second Class',\n",
    "    orders['Ship Mode'] == 'Standard Class'\n",
    "]\n",
    "results = [0,2,3,6]\n",
    "orders['Expected Ship Time'] = np.select(conditions, results,-1)"
   ]
  },
  {
   "cell_type": "markdown",
   "metadata": {},
   "source": [
    "**Column 3:**\n",
    "\n",
    " - **Column Name:** Actual Ship Time\n",
    " - **Values:**\n",
    "   - `Ship Date` - `Order Date`\n",
    " - **Note:** When you subtract these columns, your column will be a **time delta**.  See if you can use the `dt` attribute to convert these values into an integer.  Ie, if your value reads `3 days`, you want that to be 3 instead.  You can read more about different time periods in pandas here:  https://pandas.pydata.org/pandas-docs/stable/user_guide/timeseries.html#time-date-components"
   ]
  },
  {
   "cell_type": "code",
   "execution_count": 193,
   "metadata": {},
   "outputs": [],
   "source": [
    "#orders['Actual Ship Time']=orders['Ship Date'] - orders['Order Date']\n",
    "orders['Actual Ship Time'] = (orders['Ship Date'] - orders['Order Date']).dt.days"
   ]
  },
  {
   "cell_type": "markdown",
   "metadata": {},
   "source": [
    "**Column 4:**\n",
    "\n",
    " - **Column Name:** Late\n",
    " - **Values:** `True` if `Actual Ship Time` > `Expected Ship Time`, `False` otherwise"
   ]
  },
  {
   "cell_type": "code",
   "execution_count": 194,
   "metadata": {},
   "outputs": [],
   "source": [
    "orders['Late']=orders['Actual Ship Time']>orders['Expected Ship Time']"
   ]
  },
  {
   "cell_type": "markdown",
   "metadata": {},
   "source": [
    "### Section II: Merging Dataframes"
   ]
  },
  {
   "cell_type": "markdown",
   "metadata": {},
   "source": [
    "This excel spreadsheet has 3 separate sheets.  Look up the documentation on the `pd.read_excel` method on how to load in the other two.  \n",
    "\n",
    "After that, merge the other two dataframes into your original one, and make sure your original dataset now has the following columns:\n",
    "\n",
    " - **Salesperson:** This is the Salesperson in charge of each region.\n",
    " - **Returned:** This details whether or not the order was returned.  Fill in null values with the value `no`.\n",
    " \n",
    "Use the `drop()` method if you need to get rid of redundant columns.\n",
    "\n",
    "**Important:** We want to keep all of the rows in the dataset we first loaded in.  After each merge, it's a good idea to make sure your dataset hasn't shrunk, which will happen if you don't choose the right merge type.  Make sure you have 9,994 rows when you're finished!"
   ]
  },
  {
   "cell_type": "code",
   "execution_count": 195,
   "metadata": {},
   "outputs": [],
   "source": [
    "orders = orders.merge(person, on = 'Region', how = 'left')\n",
    "orders = orders.merge(returns, on = 'Order ID',how ='left')"
   ]
  },
  {
   "cell_type": "code",
   "execution_count": 196,
   "metadata": {},
   "outputs": [],
   "source": [
    "orders['Returned'].fillna('No',inplace=True)"
   ]
  },
  {
   "cell_type": "code",
   "execution_count": 197,
   "metadata": {},
   "outputs": [],
   "source": [
    "orders.rename({'Person':'Salesperson'},axis=1, inplace = True)"
   ]
  },
  {
   "cell_type": "markdown",
   "metadata": {},
   "source": [
    "### Section III: Grouping\n",
    "\n",
    "Use the `groupby` or `resample` method to answer the following questions."
   ]
  },
  {
   "cell_type": "markdown",
   "metadata": {},
   "source": [
    "**Question 1:** What salesperson had the highest average sales amount? "
   ]
  },
  {
   "cell_type": "code",
   "execution_count": 198,
   "metadata": {},
   "outputs": [
    {
     "data": {
      "text/plain": [
       "Salesperson\n",
       "Anna Andreadi        226.493233\n",
       "Cassandra Brandow    241.803645\n",
       "Chuck Magee          238.336110\n",
       "Kelly Williams       215.772661\n",
       "Name: Sales, dtype: float64"
      ]
     },
     "execution_count": 198,
     "metadata": {},
     "output_type": "execute_result"
    }
   ],
   "source": [
    "orders.groupby('Salesperson')['Sales'].mean()"
   ]
  },
  {
   "cell_type": "markdown",
   "metadata": {},
   "source": [
    "**Question 2:** Within each ship mode, compare how likely late orders were to be profitable or not"
   ]
  },
  {
   "cell_type": "code",
   "execution_count": 199,
   "metadata": {},
   "outputs": [
    {
     "data": {
      "text/plain": [
       "Ship Mode       Late \n",
       "First Class     False    0.795405\n",
       "                True     0.814103\n",
       "Same Day        False    0.813102\n",
       "                True     0.916667\n",
       "Second Class    False    0.845415\n",
       "                True     0.827500\n",
       "Standard Class  False    0.794651\n",
       "                True     0.805153\n",
       "Name: Profitable, dtype: float64"
      ]
     },
     "execution_count": 199,
     "metadata": {},
     "output_type": "execute_result"
    }
   ],
   "source": [
    "orders.groupby(['Ship Mode','Late'])['Profitable'].mean()"
   ]
  },
  {
   "cell_type": "markdown",
   "metadata": {},
   "source": [
    "**Question 3:** What ship mode had the most consistently on time orders?"
   ]
  },
  {
   "cell_type": "code",
   "execution_count": 200,
   "metadata": {},
   "outputs": [
    {
     "data": {
      "text/plain": [
       "Ship Mode\n",
       "First Class       0.405722\n",
       "Same Day          0.044199\n",
       "Second Class      0.411311\n",
       "Standard Class    0.104055\n",
       "Name: Late, dtype: float64"
      ]
     },
     "execution_count": 200,
     "metadata": {},
     "output_type": "execute_result"
    }
   ],
   "source": [
    "orders.groupby('Ship Mode')['Late'].mean()"
   ]
  },
  {
   "cell_type": "markdown",
   "metadata": {},
   "source": [
    "**Question 4:** For each sales person, get their average, median, max, and count of their sales."
   ]
  },
  {
   "cell_type": "code",
   "execution_count": 201,
   "metadata": {},
   "outputs": [
    {
     "data": {
      "text/html": [
       "<div>\n",
       "<style scoped>\n",
       "    .dataframe tbody tr th:only-of-type {\n",
       "        vertical-align: middle;\n",
       "    }\n",
       "\n",
       "    .dataframe tbody tr th {\n",
       "        vertical-align: top;\n",
       "    }\n",
       "\n",
       "    .dataframe thead th {\n",
       "        text-align: right;\n",
       "    }\n",
       "</style>\n",
       "<table border=\"1\" class=\"dataframe\">\n",
       "  <thead>\n",
       "    <tr style=\"text-align: right;\">\n",
       "      <th></th>\n",
       "      <th>mean</th>\n",
       "      <th>median</th>\n",
       "      <th>max</th>\n",
       "      <th>count</th>\n",
       "    </tr>\n",
       "    <tr>\n",
       "      <th>Salesperson</th>\n",
       "      <th></th>\n",
       "      <th></th>\n",
       "      <th></th>\n",
       "      <th></th>\n",
       "    </tr>\n",
       "  </thead>\n",
       "  <tbody>\n",
       "    <tr>\n",
       "      <th>Anna Andreadi</th>\n",
       "      <td>226.493233</td>\n",
       "      <td>60.840</td>\n",
       "      <td>13999.960</td>\n",
       "      <td>3203</td>\n",
       "    </tr>\n",
       "    <tr>\n",
       "      <th>Cassandra Brandow</th>\n",
       "      <td>241.803645</td>\n",
       "      <td>54.594</td>\n",
       "      <td>22638.480</td>\n",
       "      <td>1620</td>\n",
       "    </tr>\n",
       "    <tr>\n",
       "      <th>Chuck Magee</th>\n",
       "      <td>238.336110</td>\n",
       "      <td>54.900</td>\n",
       "      <td>11199.968</td>\n",
       "      <td>2848</td>\n",
       "    </tr>\n",
       "    <tr>\n",
       "      <th>Kelly Williams</th>\n",
       "      <td>215.772661</td>\n",
       "      <td>45.980</td>\n",
       "      <td>17499.950</td>\n",
       "      <td>2323</td>\n",
       "    </tr>\n",
       "  </tbody>\n",
       "</table>\n",
       "</div>"
      ],
      "text/plain": [
       "                         mean  median        max  count\n",
       "Salesperson                                            \n",
       "Anna Andreadi      226.493233  60.840  13999.960   3203\n",
       "Cassandra Brandow  241.803645  54.594  22638.480   1620\n",
       "Chuck Magee        238.336110  54.900  11199.968   2848\n",
       "Kelly Williams     215.772661  45.980  17499.950   2323"
      ]
     },
     "execution_count": 201,
     "metadata": {},
     "output_type": "execute_result"
    }
   ],
   "source": [
    "orders.groupby('Salesperson')['Sales'].agg([np.mean,np.median,'max','count'])"
   ]
  },
  {
   "cell_type": "markdown",
   "metadata": {},
   "source": [
    "**Question 5:** Group your dataset according to  `Region`, and `Category`, and then call the `describe()` method to get the summary statistics for each subgroup."
   ]
  },
  {
   "cell_type": "code",
   "execution_count": 202,
   "metadata": {},
   "outputs": [
    {
     "data": {
      "text/html": [
       "<div>\n",
       "<style scoped>\n",
       "    .dataframe tbody tr th:only-of-type {\n",
       "        vertical-align: middle;\n",
       "    }\n",
       "\n",
       "    .dataframe tbody tr th {\n",
       "        vertical-align: top;\n",
       "    }\n",
       "\n",
       "    .dataframe thead tr th {\n",
       "        text-align: left;\n",
       "    }\n",
       "\n",
       "    .dataframe thead tr:last-of-type th {\n",
       "        text-align: right;\n",
       "    }\n",
       "</style>\n",
       "<table border=\"1\" class=\"dataframe\">\n",
       "  <thead>\n",
       "    <tr>\n",
       "      <th></th>\n",
       "      <th></th>\n",
       "      <th colspan=\"8\" halign=\"left\">Row ID</th>\n",
       "      <th colspan=\"2\" halign=\"left\">Postal Code</th>\n",
       "      <th>...</th>\n",
       "      <th colspan=\"2\" halign=\"left\">Expected Ship Time</th>\n",
       "      <th colspan=\"8\" halign=\"left\">Actual Ship Time</th>\n",
       "    </tr>\n",
       "    <tr>\n",
       "      <th></th>\n",
       "      <th></th>\n",
       "      <th>count</th>\n",
       "      <th>mean</th>\n",
       "      <th>std</th>\n",
       "      <th>min</th>\n",
       "      <th>25%</th>\n",
       "      <th>50%</th>\n",
       "      <th>75%</th>\n",
       "      <th>max</th>\n",
       "      <th>count</th>\n",
       "      <th>mean</th>\n",
       "      <th>...</th>\n",
       "      <th>75%</th>\n",
       "      <th>max</th>\n",
       "      <th>count</th>\n",
       "      <th>mean</th>\n",
       "      <th>std</th>\n",
       "      <th>min</th>\n",
       "      <th>25%</th>\n",
       "      <th>50%</th>\n",
       "      <th>75%</th>\n",
       "      <th>max</th>\n",
       "    </tr>\n",
       "    <tr>\n",
       "      <th>Region</th>\n",
       "      <th>Category</th>\n",
       "      <th></th>\n",
       "      <th></th>\n",
       "      <th></th>\n",
       "      <th></th>\n",
       "      <th></th>\n",
       "      <th></th>\n",
       "      <th></th>\n",
       "      <th></th>\n",
       "      <th></th>\n",
       "      <th></th>\n",
       "      <th></th>\n",
       "      <th></th>\n",
       "      <th></th>\n",
       "      <th></th>\n",
       "      <th></th>\n",
       "      <th></th>\n",
       "      <th></th>\n",
       "      <th></th>\n",
       "      <th></th>\n",
       "      <th></th>\n",
       "      <th></th>\n",
       "    </tr>\n",
       "  </thead>\n",
       "  <tbody>\n",
       "    <tr>\n",
       "      <th rowspan=\"3\" valign=\"top\">Central</th>\n",
       "      <th>Furniture</th>\n",
       "      <td>481.0</td>\n",
       "      <td>5198.831601</td>\n",
       "      <td>2965.518718</td>\n",
       "      <td>37.0</td>\n",
       "      <td>2788.0</td>\n",
       "      <td>5168.0</td>\n",
       "      <td>7949.00</td>\n",
       "      <td>9963.0</td>\n",
       "      <td>481.0</td>\n",
       "      <td>65486.453222</td>\n",
       "      <td>...</td>\n",
       "      <td>6.0</td>\n",
       "      <td>6.0</td>\n",
       "      <td>481.0</td>\n",
       "      <td>3.979210</td>\n",
       "      <td>1.713787</td>\n",
       "      <td>0.0</td>\n",
       "      <td>3.0</td>\n",
       "      <td>4.0</td>\n",
       "      <td>5.0</td>\n",
       "      <td>7.0</td>\n",
       "    </tr>\n",
       "    <tr>\n",
       "      <th>Office Supplies</th>\n",
       "      <td>1422.0</td>\n",
       "      <td>5025.764416</td>\n",
       "      <td>2890.995980</td>\n",
       "      <td>15.0</td>\n",
       "      <td>2601.5</td>\n",
       "      <td>4948.0</td>\n",
       "      <td>7584.50</td>\n",
       "      <td>9983.0</td>\n",
       "      <td>1422.0</td>\n",
       "      <td>65275.734880</td>\n",
       "      <td>...</td>\n",
       "      <td>6.0</td>\n",
       "      <td>6.0</td>\n",
       "      <td>1422.0</td>\n",
       "      <td>4.120253</td>\n",
       "      <td>1.707383</td>\n",
       "      <td>0.0</td>\n",
       "      <td>3.0</td>\n",
       "      <td>4.0</td>\n",
       "      <td>5.0</td>\n",
       "      <td>7.0</td>\n",
       "    </tr>\n",
       "    <tr>\n",
       "      <th>Technology</th>\n",
       "      <td>420.0</td>\n",
       "      <td>4854.019048</td>\n",
       "      <td>2980.905419</td>\n",
       "      <td>36.0</td>\n",
       "      <td>2045.0</td>\n",
       "      <td>4793.0</td>\n",
       "      <td>7373.75</td>\n",
       "      <td>9984.0</td>\n",
       "      <td>420.0</td>\n",
       "      <td>65393.026190</td>\n",
       "      <td>...</td>\n",
       "      <td>6.0</td>\n",
       "      <td>6.0</td>\n",
       "      <td>420.0</td>\n",
       "      <td>3.938095</td>\n",
       "      <td>1.586331</td>\n",
       "      <td>0.0</td>\n",
       "      <td>3.0</td>\n",
       "      <td>4.0</td>\n",
       "      <td>5.0</td>\n",
       "      <td>7.0</td>\n",
       "    </tr>\n",
       "    <tr>\n",
       "      <th rowspan=\"3\" valign=\"top\">East</th>\n",
       "      <th>Furniture</th>\n",
       "      <td>601.0</td>\n",
       "      <td>4976.960067</td>\n",
       "      <td>2927.036861</td>\n",
       "      <td>24.0</td>\n",
       "      <td>2330.0</td>\n",
       "      <td>4826.0</td>\n",
       "      <td>7562.00</td>\n",
       "      <td>9965.0</td>\n",
       "      <td>601.0</td>\n",
       "      <td>17317.247920</td>\n",
       "      <td>...</td>\n",
       "      <td>6.0</td>\n",
       "      <td>6.0</td>\n",
       "      <td>601.0</td>\n",
       "      <td>3.850250</td>\n",
       "      <td>1.747628</td>\n",
       "      <td>0.0</td>\n",
       "      <td>3.0</td>\n",
       "      <td>4.0</td>\n",
       "      <td>5.0</td>\n",
       "      <td>7.0</td>\n",
       "    </tr>\n",
       "    <tr>\n",
       "      <th>Office Supplies</th>\n",
       "      <td>1712.0</td>\n",
       "      <td>4926.139019</td>\n",
       "      <td>2971.616543</td>\n",
       "      <td>29.0</td>\n",
       "      <td>2194.5</td>\n",
       "      <td>4929.0</td>\n",
       "      <td>7513.25</td>\n",
       "      <td>9986.0</td>\n",
       "      <td>1712.0</td>\n",
       "      <td>17401.548481</td>\n",
       "      <td>...</td>\n",
       "      <td>6.0</td>\n",
       "      <td>6.0</td>\n",
       "      <td>1712.0</td>\n",
       "      <td>3.937500</td>\n",
       "      <td>1.724834</td>\n",
       "      <td>0.0</td>\n",
       "      <td>3.0</td>\n",
       "      <td>4.0</td>\n",
       "      <td>5.0</td>\n",
       "      <td>7.0</td>\n",
       "    </tr>\n",
       "    <tr>\n",
       "      <th>Technology</th>\n",
       "      <td>535.0</td>\n",
       "      <td>4951.805607</td>\n",
       "      <td>2892.183235</td>\n",
       "      <td>48.0</td>\n",
       "      <td>2432.5</td>\n",
       "      <td>5040.0</td>\n",
       "      <td>7420.00</td>\n",
       "      <td>9947.0</td>\n",
       "      <td>535.0</td>\n",
       "      <td>18640.338318</td>\n",
       "      <td>...</td>\n",
       "      <td>6.0</td>\n",
       "      <td>6.0</td>\n",
       "      <td>535.0</td>\n",
       "      <td>3.882243</td>\n",
       "      <td>1.720977</td>\n",
       "      <td>0.0</td>\n",
       "      <td>3.0</td>\n",
       "      <td>4.0</td>\n",
       "      <td>5.0</td>\n",
       "      <td>7.0</td>\n",
       "    </tr>\n",
       "    <tr>\n",
       "      <th rowspan=\"3\" valign=\"top\">South</th>\n",
       "      <th>Furniture</th>\n",
       "      <td>332.0</td>\n",
       "      <td>5019.783133</td>\n",
       "      <td>2848.584072</td>\n",
       "      <td>1.0</td>\n",
       "      <td>2699.5</td>\n",
       "      <td>5322.0</td>\n",
       "      <td>7405.50</td>\n",
       "      <td>9990.0</td>\n",
       "      <td>332.0</td>\n",
       "      <td>34552.117470</td>\n",
       "      <td>...</td>\n",
       "      <td>6.0</td>\n",
       "      <td>6.0</td>\n",
       "      <td>332.0</td>\n",
       "      <td>4.024096</td>\n",
       "      <td>1.690392</td>\n",
       "      <td>0.0</td>\n",
       "      <td>3.0</td>\n",
       "      <td>4.0</td>\n",
       "      <td>5.0</td>\n",
       "      <td>7.0</td>\n",
       "    </tr>\n",
       "    <tr>\n",
       "      <th>Office Supplies</th>\n",
       "      <td>995.0</td>\n",
       "      <td>5105.296482</td>\n",
       "      <td>2778.947757</td>\n",
       "      <td>5.0</td>\n",
       "      <td>2693.0</td>\n",
       "      <td>5053.0</td>\n",
       "      <td>7519.50</td>\n",
       "      <td>9972.0</td>\n",
       "      <td>995.0</td>\n",
       "      <td>34243.389950</td>\n",
       "      <td>...</td>\n",
       "      <td>6.0</td>\n",
       "      <td>6.0</td>\n",
       "      <td>995.0</td>\n",
       "      <td>3.955779</td>\n",
       "      <td>1.723916</td>\n",
       "      <td>0.0</td>\n",
       "      <td>3.0</td>\n",
       "      <td>4.0</td>\n",
       "      <td>5.0</td>\n",
       "      <td>7.0</td>\n",
       "    </tr>\n",
       "    <tr>\n",
       "      <th>Technology</th>\n",
       "      <td>293.0</td>\n",
       "      <td>5006.679181</td>\n",
       "      <td>2774.039447</td>\n",
       "      <td>107.0</td>\n",
       "      <td>2780.0</td>\n",
       "      <td>4912.0</td>\n",
       "      <td>7479.00</td>\n",
       "      <td>9989.0</td>\n",
       "      <td>293.0</td>\n",
       "      <td>35261.351536</td>\n",
       "      <td>...</td>\n",
       "      <td>6.0</td>\n",
       "      <td>6.0</td>\n",
       "      <td>293.0</td>\n",
       "      <td>3.890785</td>\n",
       "      <td>1.836190</td>\n",
       "      <td>0.0</td>\n",
       "      <td>3.0</td>\n",
       "      <td>4.0</td>\n",
       "      <td>5.0</td>\n",
       "      <td>7.0</td>\n",
       "    </tr>\n",
       "    <tr>\n",
       "      <th rowspan=\"3\" valign=\"top\">West</th>\n",
       "      <th>Furniture</th>\n",
       "      <td>707.0</td>\n",
       "      <td>4999.953324</td>\n",
       "      <td>2814.077939</td>\n",
       "      <td>6.0</td>\n",
       "      <td>2614.5</td>\n",
       "      <td>5145.0</td>\n",
       "      <td>7360.00</td>\n",
       "      <td>9991.0</td>\n",
       "      <td>707.0</td>\n",
       "      <td>91680.442716</td>\n",
       "      <td>...</td>\n",
       "      <td>6.0</td>\n",
       "      <td>6.0</td>\n",
       "      <td>707.0</td>\n",
       "      <td>3.881188</td>\n",
       "      <td>1.818235</td>\n",
       "      <td>0.0</td>\n",
       "      <td>2.0</td>\n",
       "      <td>4.0</td>\n",
       "      <td>5.0</td>\n",
       "      <td>7.0</td>\n",
       "    </tr>\n",
       "    <tr>\n",
       "      <th>Office Supplies</th>\n",
       "      <td>1897.0</td>\n",
       "      <td>4929.139694</td>\n",
       "      <td>2841.198338</td>\n",
       "      <td>3.0</td>\n",
       "      <td>2450.0</td>\n",
       "      <td>4895.0</td>\n",
       "      <td>7319.00</td>\n",
       "      <td>9994.0</td>\n",
       "      <td>1897.0</td>\n",
       "      <td>91769.716921</td>\n",
       "      <td>...</td>\n",
       "      <td>6.0</td>\n",
       "      <td>6.0</td>\n",
       "      <td>1897.0</td>\n",
       "      <td>3.936742</td>\n",
       "      <td>1.804590</td>\n",
       "      <td>0.0</td>\n",
       "      <td>3.0</td>\n",
       "      <td>4.0</td>\n",
       "      <td>5.0</td>\n",
       "      <td>7.0</td>\n",
       "    </tr>\n",
       "    <tr>\n",
       "      <th>Technology</th>\n",
       "      <td>599.0</td>\n",
       "      <td>5152.409015</td>\n",
       "      <td>2910.770129</td>\n",
       "      <td>8.0</td>\n",
       "      <td>2720.5</td>\n",
       "      <td>5401.0</td>\n",
       "      <td>7669.50</td>\n",
       "      <td>9992.0</td>\n",
       "      <td>599.0</td>\n",
       "      <td>91543.449082</td>\n",
       "      <td>...</td>\n",
       "      <td>6.0</td>\n",
       "      <td>6.0</td>\n",
       "      <td>599.0</td>\n",
       "      <td>3.964942</td>\n",
       "      <td>1.809610</td>\n",
       "      <td>0.0</td>\n",
       "      <td>3.0</td>\n",
       "      <td>4.0</td>\n",
       "      <td>5.0</td>\n",
       "      <td>7.0</td>\n",
       "    </tr>\n",
       "  </tbody>\n",
       "</table>\n",
       "<p>12 rows × 64 columns</p>\n",
       "</div>"
      ],
      "text/plain": [
       "                         Row ID                                           \\\n",
       "                          count         mean          std    min     25%   \n",
       "Region  Category                                                           \n",
       "Central Furniture         481.0  5198.831601  2965.518718   37.0  2788.0   \n",
       "        Office Supplies  1422.0  5025.764416  2890.995980   15.0  2601.5   \n",
       "        Technology        420.0  4854.019048  2980.905419   36.0  2045.0   \n",
       "East    Furniture         601.0  4976.960067  2927.036861   24.0  2330.0   \n",
       "        Office Supplies  1712.0  4926.139019  2971.616543   29.0  2194.5   \n",
       "        Technology        535.0  4951.805607  2892.183235   48.0  2432.5   \n",
       "South   Furniture         332.0  5019.783133  2848.584072    1.0  2699.5   \n",
       "        Office Supplies   995.0  5105.296482  2778.947757    5.0  2693.0   \n",
       "        Technology        293.0  5006.679181  2774.039447  107.0  2780.0   \n",
       "West    Furniture         707.0  4999.953324  2814.077939    6.0  2614.5   \n",
       "        Office Supplies  1897.0  4929.139694  2841.198338    3.0  2450.0   \n",
       "        Technology        599.0  5152.409015  2910.770129    8.0  2720.5   \n",
       "\n",
       "                                                 Postal Code                \\\n",
       "                            50%      75%     max       count          mean   \n",
       "Region  Category                                                             \n",
       "Central Furniture        5168.0  7949.00  9963.0       481.0  65486.453222   \n",
       "        Office Supplies  4948.0  7584.50  9983.0      1422.0  65275.734880   \n",
       "        Technology       4793.0  7373.75  9984.0       420.0  65393.026190   \n",
       "East    Furniture        4826.0  7562.00  9965.0       601.0  17317.247920   \n",
       "        Office Supplies  4929.0  7513.25  9986.0      1712.0  17401.548481   \n",
       "        Technology       5040.0  7420.00  9947.0       535.0  18640.338318   \n",
       "South   Furniture        5322.0  7405.50  9990.0       332.0  34552.117470   \n",
       "        Office Supplies  5053.0  7519.50  9972.0       995.0  34243.389950   \n",
       "        Technology       4912.0  7479.00  9989.0       293.0  35261.351536   \n",
       "West    Furniture        5145.0  7360.00  9991.0       707.0  91680.442716   \n",
       "        Office Supplies  4895.0  7319.00  9994.0      1897.0  91769.716921   \n",
       "        Technology       5401.0  7669.50  9992.0       599.0  91543.449082   \n",
       "\n",
       "                         ... Expected Ship Time      Actual Ship Time  \\\n",
       "                         ...                75%  max            count   \n",
       "Region  Category         ...                                            \n",
       "Central Furniture        ...                6.0  6.0            481.0   \n",
       "        Office Supplies  ...                6.0  6.0           1422.0   \n",
       "        Technology       ...                6.0  6.0            420.0   \n",
       "East    Furniture        ...                6.0  6.0            601.0   \n",
       "        Office Supplies  ...                6.0  6.0           1712.0   \n",
       "        Technology       ...                6.0  6.0            535.0   \n",
       "South   Furniture        ...                6.0  6.0            332.0   \n",
       "        Office Supplies  ...                6.0  6.0            995.0   \n",
       "        Technology       ...                6.0  6.0            293.0   \n",
       "West    Furniture        ...                6.0  6.0            707.0   \n",
       "        Office Supplies  ...                6.0  6.0           1897.0   \n",
       "        Technology       ...                6.0  6.0            599.0   \n",
       "\n",
       "                                                                      \n",
       "                             mean       std  min  25%  50%  75%  max  \n",
       "Region  Category                                                      \n",
       "Central Furniture        3.979210  1.713787  0.0  3.0  4.0  5.0  7.0  \n",
       "        Office Supplies  4.120253  1.707383  0.0  3.0  4.0  5.0  7.0  \n",
       "        Technology       3.938095  1.586331  0.0  3.0  4.0  5.0  7.0  \n",
       "East    Furniture        3.850250  1.747628  0.0  3.0  4.0  5.0  7.0  \n",
       "        Office Supplies  3.937500  1.724834  0.0  3.0  4.0  5.0  7.0  \n",
       "        Technology       3.882243  1.720977  0.0  3.0  4.0  5.0  7.0  \n",
       "South   Furniture        4.024096  1.690392  0.0  3.0  4.0  5.0  7.0  \n",
       "        Office Supplies  3.955779  1.723916  0.0  3.0  4.0  5.0  7.0  \n",
       "        Technology       3.890785  1.836190  0.0  3.0  4.0  5.0  7.0  \n",
       "West    Furniture        3.881188  1.818235  0.0  2.0  4.0  5.0  7.0  \n",
       "        Office Supplies  3.936742  1.804590  0.0  3.0  4.0  5.0  7.0  \n",
       "        Technology       3.964942  1.809610  0.0  3.0  4.0  5.0  7.0  \n",
       "\n",
       "[12 rows x 64 columns]"
      ]
     },
     "execution_count": 202,
     "metadata": {},
     "output_type": "execute_result"
    }
   ],
   "source": [
    "orders.groupby(['Region','Category']).describe()"
   ]
  },
  {
   "cell_type": "markdown",
   "metadata": {},
   "source": [
    "**Question 6:** Use the `Resample()` method to get the sum of sales for each quarter."
   ]
  },
  {
   "cell_type": "code",
   "execution_count": 203,
   "metadata": {},
   "outputs": [
    {
     "data": {
      "text/plain": [
       "Order Date\n",
       "2014-03-31     74447.7960\n",
       "2014-06-30     86538.7596\n",
       "2014-09-30    143633.2123\n",
       "2014-12-31    179627.7302\n",
       "2015-03-31     68851.7386\n",
       "2015-06-30     89124.1870\n",
       "2015-09-30    130259.5752\n",
       "2015-12-31    182297.0082\n",
       "2016-03-31     93237.1810\n",
       "2016-06-30    136082.3010\n",
       "2016-09-30    143787.3622\n",
       "2016-12-31    236098.7538\n",
       "2017-03-31    123144.8602\n",
       "2017-06-30    133764.3720\n",
       "2017-09-30    196251.9560\n",
       "2017-12-31    280054.0670\n",
       "Freq: Q-DEC, Name: Sales, dtype: float64"
      ]
     },
     "execution_count": 203,
     "metadata": {},
     "output_type": "execute_result"
    }
   ],
   "source": [
    "orders.resample('Q', on='Order Date')['Sales'].sum()"
   ]
  },
  {
   "cell_type": "markdown",
   "metadata": {},
   "source": [
    "**Question 7:** What quarter had the highest total sales amount?"
   ]
  },
  {
   "cell_type": "code",
   "execution_count": 204,
   "metadata": {},
   "outputs": [
    {
     "data": {
      "text/plain": [
       "Timestamp('2017-12-31 00:00:00', freq='Q-DEC')"
      ]
     },
     "execution_count": 204,
     "metadata": {},
     "output_type": "execute_result"
    }
   ],
   "source": [
    "orders.resample('Q',on ='Order Date')['Sales'].sum().idxmax()"
   ]
  },
  {
   "cell_type": "markdown",
   "metadata": {},
   "source": [
    "**Question 8:** See if you can use the `groupby` method to get a list of yearly sales for each region inside the dataset.\n",
    "\n",
    "**Hint:** Try using the `dt` attribute of the `Order Date` column."
   ]
  },
  {
   "cell_type": "code",
   "execution_count": 205,
   "metadata": {},
   "outputs": [
    {
     "data": {
      "text/plain": [
       "Order Date\n",
       "2014-12-31    484247.4981\n",
       "2015-12-31    470532.5090\n",
       "2016-12-31    609205.5980\n",
       "2017-12-31    733215.2552\n",
       "Freq: A-DEC, Name: Sales, dtype: float64"
      ]
     },
     "execution_count": 205,
     "metadata": {},
     "output_type": "execute_result"
    }
   ],
   "source": [
    "orders.resample('y',on='Order Date')['Sales'].sum()"
   ]
  },
  {
   "cell_type": "code",
   "execution_count": 206,
   "metadata": {},
   "outputs": [
    {
     "data": {
      "text/plain": [
       "Order Date\n",
       "2014    484247.4981\n",
       "2015    470532.5090\n",
       "2016    609205.5980\n",
       "2017    733215.2552\n",
       "Name: Sales, dtype: float64"
      ]
     },
     "execution_count": 206,
     "metadata": {},
     "output_type": "execute_result"
    }
   ],
   "source": [
    "orders.groupby(orders['Order Date'].dt.year)['Sales'].sum()"
   ]
  },
  {
   "cell_type": "markdown",
   "metadata": {},
   "source": [
    "**Bonus:** Creating summary statistics with a `groupby` statement.  \n",
    "\n",
    "Lots of times it's very useful to be able to create a summary statistic for a particular category to compare with individual samples.\n",
    "\n",
    "For example, if you were doing fraud detection, and someone were making a purchase at a 7-11, a transaction amount of $175 would be unusually large for someone making a purchase at a convenience store, essentially setting off a red flag that the transaction might be suspicious.\n",
    "\n",
    "Creating such comparisons is easily done using the `groupby` method and then merging it back into the original dataframe.  \n",
    "\n",
    "For example, if you wanted to compare every single purchase amount with the average amount for that category, you could do it in the following way:"
   ]
  },
  {
   "cell_type": "code",
   "execution_count": 211,
   "metadata": {},
   "outputs": [],
   "source": [
    "import pandas as pd\n",
    "df = pd.read_excel(r'C:\\Users\\iulia\\OneDrive\\Documents\\Data Science\\superstore.xlsm')\n",
    "# create the grouping\n",
    "cat_grouping = df.groupby('Category')[['Sales']].mean()\n",
    "# this step is mostly just to make the merged dataframe more tidy\n",
    "cat_grouping.rename({'Sales': 'Cat_Average'}, axis=1, inplace=True)"
   ]
  },
  {
   "cell_type": "code",
   "execution_count": 212,
   "metadata": {},
   "outputs": [],
   "source": [
    "# join them\n",
    "df = df.merge(cat_grouping, left_on='Category', right_index=True)"
   ]
  },
  {
   "cell_type": "code",
   "execution_count": 209,
   "metadata": {},
   "outputs": [
    {
     "ename": "NameError",
     "evalue": "name 'df' is not defined",
     "output_type": "error",
     "traceback": [
      "\u001b[1;31m---------------------------------------------------------------------------\u001b[0m",
      "\u001b[1;31mNameError\u001b[0m                                 Traceback (most recent call last)",
      "\u001b[1;32m<ipython-input-209-ee862de60389>\u001b[0m in \u001b[0;36m<module>\u001b[1;34m\u001b[0m\n\u001b[0;32m      1\u001b[0m \u001b[1;31m# and now we can see each purchase amount compared to the average amt\u001b[0m\u001b[1;33m\u001b[0m\u001b[1;33m\u001b[0m\u001b[1;33m\u001b[0m\u001b[0m\n\u001b[0;32m      2\u001b[0m \u001b[1;31m# for that category\u001b[0m\u001b[1;33m\u001b[0m\u001b[1;33m\u001b[0m\u001b[1;33m\u001b[0m\u001b[0m\n\u001b[1;32m----> 3\u001b[1;33m \u001b[0mdf\u001b[0m\u001b[1;33m.\u001b[0m\u001b[0mhead\u001b[0m\u001b[1;33m(\u001b[0m\u001b[1;33m)\u001b[0m\u001b[1;33m\u001b[0m\u001b[1;33m\u001b[0m\u001b[0m\n\u001b[0m",
      "\u001b[1;31mNameError\u001b[0m: name 'df' is not defined"
     ]
    }
   ],
   "source": [
    "# and now we can see each purchase amount compared to the average amt\n",
    "# for that category\n",
    "df.head()"
   ]
  },
  {
   "cell_type": "markdown",
   "metadata": {},
   "source": [
    "So for instance, if wanted to ask ourselves, \"which customers consistently punch above their weight when it comes to the actual items that they buy?\"\n",
    "\n",
    "We could easily do the following:"
   ]
  },
  {
   "cell_type": "code",
   "execution_count": 210,
   "metadata": {},
   "outputs": [
    {
     "ename": "NameError",
     "evalue": "name 'df' is not defined",
     "output_type": "error",
     "traceback": [
      "\u001b[1;31m---------------------------------------------------------------------------\u001b[0m",
      "\u001b[1;31mNameError\u001b[0m                                 Traceback (most recent call last)",
      "\u001b[1;32m<ipython-input-210-d103dd1cf9d8>\u001b[0m in \u001b[0;36m<module>\u001b[1;34m\u001b[0m\n\u001b[0;32m      1\u001b[0m \u001b[1;31m# turn the difference between the two columns into a percent\u001b[0m\u001b[1;33m\u001b[0m\u001b[1;33m\u001b[0m\u001b[1;33m\u001b[0m\u001b[0m\n\u001b[1;32m----> 2\u001b[1;33m \u001b[0mdf\u001b[0m\u001b[1;33m[\u001b[0m\u001b[1;34m'Cat Difference'\u001b[0m\u001b[1;33m]\u001b[0m \u001b[1;33m=\u001b[0m \u001b[1;33m(\u001b[0m\u001b[1;33m(\u001b[0m\u001b[0mdf\u001b[0m\u001b[1;33m[\u001b[0m\u001b[1;34m'Sales'\u001b[0m\u001b[1;33m]\u001b[0m \u001b[1;33m/\u001b[0m \u001b[0mdf\u001b[0m\u001b[1;33m[\u001b[0m\u001b[1;34m'Cat_Average'\u001b[0m\u001b[1;33m]\u001b[0m\u001b[1;33m)\u001b[0m \u001b[1;33m-\u001b[0m \u001b[1;36m1\u001b[0m\u001b[1;33m)\u001b[0m \u001b[1;33m*\u001b[0m \u001b[1;36m100\u001b[0m\u001b[1;33m\u001b[0m\u001b[1;33m\u001b[0m\u001b[0m\n\u001b[0m",
      "\u001b[1;31mNameError\u001b[0m: name 'df' is not defined"
     ]
    }
   ],
   "source": [
    "# turn the difference between the two columns into a percent\n",
    "df['Cat Difference'] = ((df['Sales'] / df['Cat_Average']) - 1) * 100"
   ]
  },
  {
   "cell_type": "code",
   "execution_count": 6,
   "metadata": {},
   "outputs": [
    {
     "data": {
      "text/plain": [
       "Customer Name\n",
       "Mitch Willingham        845.569285\n",
       "Christopher Martinez    636.313301\n",
       "Andy Reiter             449.654450\n",
       "Adrian Barton           418.548520\n",
       "Sanjit Chand            386.906876\n",
       "Amy Cox                 363.031889\n",
       "Yoseph Carroll          344.794116\n",
       "Yana Sorensen           317.572571\n",
       "Sean Miller             308.018602\n",
       "Tamara Chand            304.928500\n",
       "Alex Avila              296.561353\n",
       "Greg Maxwell            292.917810\n",
       "Grant Thornton          291.980410\n",
       "Jane Waco               272.432920\n",
       "Tom Ashbrook            270.172385\n",
       "Paul Knutson            244.824972\n",
       "Robert Dilbeck          239.904239\n",
       "Gary Hwang              231.081468\n",
       "Ken Lonsdale            216.273514\n",
       "Dennis Pardue           213.919098\n",
       "Justin Hirsh            205.806859\n",
       "Stefanie Holloman       199.625920\n",
       "Cathy Prescott          194.089483\n",
       "Bill Shonely            194.068945\n",
       "Erica Smith             193.504802\n",
       "Neil Ducich             174.357173\n",
       "Adam Bellavance         174.177216\n",
       "Hunter Lopez            170.364451\n",
       "Karen Ferguson          167.056592\n",
       "Joseph Holt             161.192437\n",
       "                           ...    \n",
       "MaryBeth Skach          -78.548915\n",
       "Roland Murray           -78.659791\n",
       "Khloe Miller            -79.436773\n",
       "Robert Barroso          -80.299122\n",
       "Andy Yotov              -80.305228\n",
       "Allen Goldenen          -80.313608\n",
       "Dorothy Dickinson       -80.385819\n",
       "Joy Daniels             -80.663448\n",
       "Vivian Mathis           -80.829326\n",
       "Andrew Roberts          -81.087952\n",
       "Stuart Calhoun          -81.124445\n",
       "Sonia Sunley            -82.311845\n",
       "Paul Lucas              -82.962814\n",
       "Clay Cheatham           -83.552902\n",
       "Karen Seio              -84.052304\n",
       "Pete Takahito           -84.241958\n",
       "Adrian Shami            -84.337966\n",
       "Muhammed Lee            -85.941572\n",
       "Carl Jackson            -86.155353\n",
       "Larry Blacks            -86.345848\n",
       "Dianna Arnett           -86.422383\n",
       "Michael Oakman          -86.512827\n",
       "Erin Mull               -87.263207\n",
       "Fred Wasserman          -90.104054\n",
       "Jasper Cacioppo         -91.687617\n",
       "Susan Gilcrest          -91.963736\n",
       "Roy Skaria              -93.762646\n",
       "Lela Donovan            -95.554963\n",
       "Mitch Gastineau         -96.387490\n",
       "Thais Sissman           -97.974843\n",
       "Name: Cat Difference, Length: 793, dtype: float64"
      ]
     },
     "execution_count": 6,
     "metadata": {},
     "output_type": "execute_result"
    }
   ],
   "source": [
    "# now group and sort the values\n",
    "df.groupby('Customer Name')['Cat Difference'].mean().sort_values(ascending=False)"
   ]
  },
  {
   "cell_type": "markdown",
   "metadata": {},
   "source": [
    "**Your Turn:** Using a similar methodology as above, figure out the 10 customers who are the most profitable on average, when compared to the subcategory that they purchased from.\n",
    "\n",
    "If you wanted, you could also limit this to customers who only made a minimum number of purchases as well."
   ]
  },
  {
   "cell_type": "code",
   "execution_count": null,
   "metadata": {},
   "outputs": [],
   "source": [
    "# your answer here"
   ]
  }
 ],
 "metadata": {
  "kernelspec": {
   "display_name": "Python 3",
   "language": "python",
   "name": "python3"
  },
  "language_info": {
   "codemirror_mode": {
    "name": "ipython",
    "version": 3
   },
   "file_extension": ".py",
   "mimetype": "text/x-python",
   "name": "python",
   "nbconvert_exporter": "python",
   "pygments_lexer": "ipython3",
   "version": "3.8.3"
  }
 },
 "nbformat": 4,
 "nbformat_minor": 2
}

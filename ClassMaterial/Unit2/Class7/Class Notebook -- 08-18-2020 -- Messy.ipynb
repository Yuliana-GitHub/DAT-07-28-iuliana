{
 "cells": [
  {
   "cell_type": "code",
   "execution_count": 1,
   "metadata": {},
   "outputs": [],
   "source": [
    "import pandas as pd\n",
    "import numpy as np"
   ]
  },
  {
   "cell_type": "code",
   "execution_count": 13,
   "metadata": {},
   "outputs": [
    {
     "data": {
      "text/html": [
       "<div>\n",
       "<style scoped>\n",
       "    .dataframe tbody tr th:only-of-type {\n",
       "        vertical-align: middle;\n",
       "    }\n",
       "\n",
       "    .dataframe tbody tr th {\n",
       "        vertical-align: top;\n",
       "    }\n",
       "\n",
       "    .dataframe thead th {\n",
       "        text-align: right;\n",
       "    }\n",
       "</style>\n",
       "<table border=\"1\" class=\"dataframe\">\n",
       "  <thead>\n",
       "    <tr style=\"text-align: right;\">\n",
       "      <th></th>\n",
       "      <th></th>\n",
       "      <th>Row ID</th>\n",
       "      <th>Postal Code</th>\n",
       "      <th>Sales</th>\n",
       "      <th>Quantity</th>\n",
       "      <th>Discount</th>\n",
       "      <th>Profit</th>\n",
       "    </tr>\n",
       "    <tr>\n",
       "      <th>Segment</th>\n",
       "      <th>Category</th>\n",
       "      <th></th>\n",
       "      <th></th>\n",
       "      <th></th>\n",
       "      <th></th>\n",
       "      <th></th>\n",
       "      <th></th>\n",
       "    </tr>\n",
       "  </thead>\n",
       "  <tbody>\n",
       "    <tr>\n",
       "      <th rowspan=\"3\" valign=\"top\">Consumer</th>\n",
       "      <th>Furniture</th>\n",
       "      <td>5588575</td>\n",
       "      <td>62981731</td>\n",
       "      <td>391049.3120</td>\n",
       "      <td>4166</td>\n",
       "      <td>196.71</td>\n",
       "      <td>6991.0786</td>\n",
       "    </tr>\n",
       "    <tr>\n",
       "      <th>Office Supplies</th>\n",
       "      <td>15337834</td>\n",
       "      <td>173024849</td>\n",
       "      <td>363952.1360</td>\n",
       "      <td>11758</td>\n",
       "      <td>496.40</td>\n",
       "      <td>56330.3210</td>\n",
       "    </tr>\n",
       "    <tr>\n",
       "      <th>Technology</th>\n",
       "      <td>4654920</td>\n",
       "      <td>52872029</td>\n",
       "      <td>406399.8970</td>\n",
       "      <td>3597</td>\n",
       "      <td>127.80</td>\n",
       "      <td>70797.8096</td>\n",
       "    </tr>\n",
       "    <tr>\n",
       "      <th rowspan=\"3\" valign=\"top\">Corporate</th>\n",
       "      <th>Furniture</th>\n",
       "      <td>3360455</td>\n",
       "      <td>34746521</td>\n",
       "      <td>229019.7858</td>\n",
       "      <td>2495</td>\n",
       "      <td>112.45</td>\n",
       "      <td>7584.8158</td>\n",
       "    </tr>\n",
       "    <tr>\n",
       "      <th>Office Supplies</th>\n",
       "      <td>9283262</td>\n",
       "      <td>98400611</td>\n",
       "      <td>230676.4620</td>\n",
       "      <td>7018</td>\n",
       "      <td>292.30</td>\n",
       "      <td>40227.3202</td>\n",
       "    </tr>\n",
       "    <tr>\n",
       "      <th>Technology</th>\n",
       "      <td>2861017</td>\n",
       "      <td>31389198</td>\n",
       "      <td>246450.1190</td>\n",
       "      <td>2095</td>\n",
       "      <td>73.10</td>\n",
       "      <td>44166.9980</td>\n",
       "    </tr>\n",
       "    <tr>\n",
       "      <th rowspan=\"3\" valign=\"top\">Home Office</th>\n",
       "      <th>Furniture</th>\n",
       "      <td>1744296</td>\n",
       "      <td>20467774</td>\n",
       "      <td>121930.6975</td>\n",
       "      <td>1367</td>\n",
       "      <td>59.73</td>\n",
       "      <td>3875.3784</td>\n",
       "    </tr>\n",
       "    <tr>\n",
       "      <th>Office Supplies</th>\n",
       "      <td>5389439</td>\n",
       "      <td>59347412</td>\n",
       "      <td>124418.4340</td>\n",
       "      <td>4130</td>\n",
       "      <td>159.10</td>\n",
       "      <td>25933.1596</td>\n",
       "    </tr>\n",
       "    <tr>\n",
       "      <th>Technology</th>\n",
       "      <td>1725217</td>\n",
       "      <td>18342527</td>\n",
       "      <td>183304.0170</td>\n",
       "      <td>1247</td>\n",
       "      <td>43.50</td>\n",
       "      <td>30490.1405</td>\n",
       "    </tr>\n",
       "  </tbody>\n",
       "</table>\n",
       "</div>"
      ],
      "text/plain": [
       "                               Row ID  Postal Code        Sales  Quantity  \\\n",
       "Segment     Category                                                        \n",
       "Consumer    Furniture         5588575     62981731  391049.3120      4166   \n",
       "            Office Supplies  15337834    173024849  363952.1360     11758   \n",
       "            Technology        4654920     52872029  406399.8970      3597   \n",
       "Corporate   Furniture         3360455     34746521  229019.7858      2495   \n",
       "            Office Supplies   9283262     98400611  230676.4620      7018   \n",
       "            Technology        2861017     31389198  246450.1190      2095   \n",
       "Home Office Furniture         1744296     20467774  121930.6975      1367   \n",
       "            Office Supplies   5389439     59347412  124418.4340      4130   \n",
       "            Technology        1725217     18342527  183304.0170      1247   \n",
       "\n",
       "                             Discount      Profit  \n",
       "Segment     Category                               \n",
       "Consumer    Furniture          196.71   6991.0786  \n",
       "            Office Supplies    496.40  56330.3210  \n",
       "            Technology         127.80  70797.8096  \n",
       "Corporate   Furniture          112.45   7584.8158  \n",
       "            Office Supplies    292.30  40227.3202  \n",
       "            Technology          73.10  44166.9980  \n",
       "Home Office Furniture           59.73   3875.3784  \n",
       "            Office Supplies    159.10  25933.1596  \n",
       "            Technology          43.50  30490.1405  "
      ]
     },
     "execution_count": 13,
     "metadata": {},
     "output_type": "execute_result"
    }
   ],
   "source": [
    "df.groupby(['Segment', 'Category']).sum()"
   ]
  },
  {
   "cell_type": "code",
   "execution_count": 14,
   "metadata": {},
   "outputs": [
    {
     "name": "stdout",
     "output_type": "stream",
     "text": [
      "<class 'pandas.core.frame.DataFrame'>\n",
      "RangeIndex: 9994 entries, 0 to 9993\n",
      "Data columns (total 21 columns):\n",
      " #   Column         Non-Null Count  Dtype         \n",
      "---  ------         --------------  -----         \n",
      " 0   Row ID         9994 non-null   int64         \n",
      " 1   Order ID       9994 non-null   object        \n",
      " 2   Order Date     9994 non-null   datetime64[ns]\n",
      " 3   Ship Date      9994 non-null   datetime64[ns]\n",
      " 4   Ship Mode      9994 non-null   object        \n",
      " 5   Customer ID    9994 non-null   object        \n",
      " 6   Customer Name  9994 non-null   object        \n",
      " 7   Segment        9994 non-null   object        \n",
      " 8   Country        9994 non-null   object        \n",
      " 9   City           9994 non-null   object        \n",
      " 10  State          9994 non-null   object        \n",
      " 11  Postal Code    9994 non-null   int64         \n",
      " 12  Region         9994 non-null   object        \n",
      " 13  Product ID     9994 non-null   object        \n",
      " 14  Category       9994 non-null   object        \n",
      " 15  Sub-Category   9994 non-null   object        \n",
      " 16  Product Name   9994 non-null   object        \n",
      " 17  Sales          9994 non-null   float64       \n",
      " 18  Quantity       9994 non-null   int64         \n",
      " 19  Discount       9994 non-null   float64       \n",
      " 20  Profit         9994 non-null   float64       \n",
      "dtypes: datetime64[ns](2), float64(3), int64(3), object(13)\n",
      "memory usage: 1.6+ MB\n"
     ]
    }
   ],
   "source": [
    "df.info()"
   ]
  },
  {
   "cell_type": "code",
   "execution_count": 24,
   "metadata": {},
   "outputs": [
    {
     "data": {
      "text/html": [
       "<div>\n",
       "<style scoped>\n",
       "    .dataframe tbody tr th:only-of-type {\n",
       "        vertical-align: middle;\n",
       "    }\n",
       "\n",
       "    .dataframe tbody tr th {\n",
       "        vertical-align: top;\n",
       "    }\n",
       "\n",
       "    .dataframe thead th {\n",
       "        text-align: right;\n",
       "    }\n",
       "</style>\n",
       "<table border=\"1\" class=\"dataframe\">\n",
       "  <thead>\n",
       "    <tr style=\"text-align: right;\">\n",
       "      <th></th>\n",
       "      <th>Profit</th>\n",
       "      <th>Sales</th>\n",
       "    </tr>\n",
       "    <tr>\n",
       "      <th>Order Date</th>\n",
       "      <th></th>\n",
       "      <th></th>\n",
       "    </tr>\n",
       "  </thead>\n",
       "  <tbody>\n",
       "    <tr>\n",
       "      <th>0</th>\n",
       "      <td>27.531328</td>\n",
       "      <td>229.255914</td>\n",
       "    </tr>\n",
       "    <tr>\n",
       "      <th>1</th>\n",
       "      <td>32.161238</td>\n",
       "      <td>259.683094</td>\n",
       "    </tr>\n",
       "    <tr>\n",
       "      <th>2</th>\n",
       "      <td>39.633075</td>\n",
       "      <td>237.350337</td>\n",
       "    </tr>\n",
       "    <tr>\n",
       "      <th>3</th>\n",
       "      <td>27.124915</td>\n",
       "      <td>220.072302</td>\n",
       "    </tr>\n",
       "    <tr>\n",
       "      <th>4</th>\n",
       "      <td>25.589012</td>\n",
       "      <td>235.254268</td>\n",
       "    </tr>\n",
       "    <tr>\n",
       "      <th>5</th>\n",
       "      <td>24.941160</td>\n",
       "      <td>216.304944</td>\n",
       "    </tr>\n",
       "    <tr>\n",
       "      <th>6</th>\n",
       "      <td>33.409071</td>\n",
       "      <td>225.353127</td>\n",
       "    </tr>\n",
       "  </tbody>\n",
       "</table>\n",
       "</div>"
      ],
      "text/plain": [
       "               Profit       Sales\n",
       "Order Date                       \n",
       "0           27.531328  229.255914\n",
       "1           32.161238  259.683094\n",
       "2           39.633075  237.350337\n",
       "3           27.124915  220.072302\n",
       "4           25.589012  235.254268\n",
       "5           24.941160  216.304944\n",
       "6           33.409071  225.353127"
      ]
     },
     "execution_count": 24,
     "metadata": {},
     "output_type": "execute_result"
    }
   ],
   "source": [
    "df.groupby(df['Order Date'].dt.dayofweek)[['Profit', 'Sales']].mean()"
   ]
  },
  {
   "cell_type": "code",
   "execution_count": 25,
   "metadata": {},
   "outputs": [
    {
     "data": {
      "text/plain": [
       "0       1\n",
       "1       1\n",
       "2       6\n",
       "3       6\n",
       "4       6\n",
       "       ..\n",
       "9989    1\n",
       "9990    6\n",
       "9991    6\n",
       "9992    6\n",
       "9993    3\n",
       "Name: Order Date, Length: 9994, dtype: int64"
      ]
     },
     "execution_count": 25,
     "metadata": {},
     "output_type": "execute_result"
    }
   ],
   "source": [
    "df['Order Date'].dt.dayofweek"
   ]
  },
  {
   "cell_type": "code",
   "execution_count": 32,
   "metadata": {},
   "outputs": [
    {
     "data": {
      "text/plain": [
       "Order Date\n",
       "2014-01-05     64.808800\n",
       "2014-01-12    287.473250\n",
       "2014-01-19    204.960318\n",
       "2014-01-26    132.496138\n",
       "2014-02-02    149.300909\n",
       "                 ...    \n",
       "2017-12-03    248.881308\n",
       "2017-12-10    183.259221\n",
       "2017-12-17    136.311208\n",
       "2017-12-24    239.013778\n",
       "2017-12-31    133.997490\n",
       "Freq: W-SUN, Name: Sales, Length: 209, dtype: float64"
      ]
     },
     "execution_count": 32,
     "metadata": {},
     "output_type": "execute_result"
    }
   ],
   "source": [
    "df.resample('W', on='Order Date')['Sales'].mean()"
   ]
  },
  {
   "cell_type": "code",
   "execution_count": 29,
   "metadata": {},
   "outputs": [
    {
     "data": {
      "text/plain": [
       "Order Date\n",
       "1    359681.5758\n",
       "2    445509.6196\n",
       "3    613932.1057\n",
       "4    878077.5592\n",
       "Name: Sales, dtype: float64"
      ]
     },
     "execution_count": 29,
     "metadata": {},
     "output_type": "execute_result"
    }
   ],
   "source": [
    "df.groupby(df['Order Date'].dt.quarter)['Sales'].sum()"
   ]
  },
  {
   "cell_type": "code",
   "execution_count": null,
   "metadata": {},
   "outputs": [],
   "source": []
  }
 ],
 "metadata": {
  "kernelspec": {
   "display_name": "Python 3",
   "language": "python",
   "name": "python3"
  },
  "language_info": {
   "codemirror_mode": {
    "name": "ipython",
    "version": 3
   },
   "file_extension": ".py",
   "mimetype": "text/x-python",
   "name": "python",
   "nbconvert_exporter": "python",
   "pygments_lexer": "ipython3",
   "version": "3.7.3"
  }
 },
 "nbformat": 4,
 "nbformat_minor": 4
}

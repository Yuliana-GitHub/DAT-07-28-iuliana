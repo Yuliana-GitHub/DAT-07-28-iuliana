{
 "cells": [
  {
   "cell_type": "markdown",
   "metadata": {},
   "source": [
    "### Resampling and Horizontal Data Extraction Workbook Answers\n",
    "\n",
    "This notebook is designed to give you more practice on using Pandas to group data according to intervals of time.  \n",
    "\n",
    "It's built to reinforce lessons covered during the class on working with the `groupby` function, as well as the following one that covered window statistics.\n",
    "\n",
    "All questions from this notebook are built upon the Sample Superstore dataset."
   ]
  },
  {
   "cell_type": "code",
   "execution_count": 5,
   "metadata": {},
   "outputs": [],
   "source": [
    "# load the libraries and dataset\n",
    "import numpy as np\n",
    "import pandas as pd\n",
    "import matplotlib.pyplot as plt\n",
    "plt.style.use('fivethirtyeight')\n",
    "\n",
    "df = pd.read_excel('superstore.xls', index_col='Order Date', parse_dates=['Order Date'])"
   ]
  },
  {
   "cell_type": "markdown",
   "metadata": {},
   "source": [
    "**Question 1:** What is the median monthly sum of sales in our dataset?"
   ]
  },
  {
   "cell_type": "code",
   "execution_count": 6,
   "metadata": {},
   "outputs": [
    {
     "data": {
      "text/plain": [
       "39803.2485"
      ]
     },
     "execution_count": 6,
     "metadata": {},
     "output_type": "execute_result"
    }
   ],
   "source": [
    "# take the sum of sales for each month in the dataset, find its mean\n",
    "df.resample('M')['Sales'].sum().median()"
   ]
  },
  {
   "cell_type": "markdown",
   "metadata": {},
   "source": [
    "**Question 2:** What month in the dataset had the highest median sale amount?"
   ]
  },
  {
   "cell_type": "code",
   "execution_count": 7,
   "metadata": {
    "scrolled": true
   },
   "outputs": [
    {
     "data": {
      "text/plain": [
       "Order Date\n",
       "2016-02-29    89.97\n",
       "Freq: M, Name: Sales, dtype: float64"
      ]
     },
     "execution_count": 7,
     "metadata": {},
     "output_type": "execute_result"
    }
   ],
   "source": [
    "# your code here\n",
    "df.resample('M')['Sales'].median().nlargest(1)"
   ]
  },
  {
   "cell_type": "markdown",
   "metadata": {},
   "source": [
    "**Note:** Notice how the `nlargest()` method returns a **series**, which means it returns an index value along with the answer.  In this case this means we'll get the actual month returned along with the max value, which makes it a bit more informative.  \n",
    "\n",
    "Calling `max()` would have given us the same answer, but we would have only gotten the value `89.97` returned.  This makes it useful if we want to use this value as an argument into another function, but not necessarily for just doing exploratory data analysis."
   ]
  },
  {
   "cell_type": "markdown",
   "metadata": {},
   "source": [
    "**Question 3:** How does this compare with the median sale amount for the dataset as a whole?"
   ]
  },
  {
   "cell_type": "code",
   "execution_count": 8,
   "metadata": {},
   "outputs": [
    {
     "data": {
      "text/plain": [
       "54.489999999999995"
      ]
     },
     "execution_count": 8,
     "metadata": {},
     "output_type": "execute_result"
    }
   ],
   "source": [
    "# median amount of sales column\n",
    "df['Sales'].median()"
   ]
  },
  {
   "cell_type": "markdown",
   "metadata": {},
   "source": [
    "It's 65% larger than the median sale amount for the entire dataset."
   ]
  },
  {
   "cell_type": "markdown",
   "metadata": {},
   "source": [
    "**Question 4:** What were the top 3 months in total units sold? (Hint:  there is a Quantity column)"
   ]
  },
  {
   "cell_type": "code",
   "execution_count": 9,
   "metadata": {},
   "outputs": [
    {
     "data": {
      "text/plain": [
       "Order Date\n",
       "2017-11-30    1840\n",
       "2017-12-31    1723\n",
       "2017-09-30    1660\n",
       "Name: Quantity, dtype: int64"
      ]
     },
     "execution_count": 9,
     "metadata": {},
     "output_type": "execute_result"
    }
   ],
   "source": [
    "# your code here\n",
    "df.resample('M')['Quantity'].sum().nlargest(3)"
   ]
  },
  {
   "cell_type": "markdown",
   "metadata": {},
   "source": [
    "**Question 5:** What was the difference in total sales between the highest and lowest grossing quarters?"
   ]
  },
  {
   "cell_type": "code",
   "execution_count": 10,
   "metadata": {},
   "outputs": [
    {
     "data": {
      "text/plain": [
       "211202.32840000003"
      ]
     },
     "execution_count": 10,
     "metadata": {},
     "output_type": "execute_result"
    }
   ],
   "source": [
    "# your code here\n",
    "df.resample('Q')['Sales'].sum().max() - df.resample('Q')['Sales'].sum().min()"
   ]
  },
  {
   "cell_type": "markdown",
   "metadata": {},
   "source": [
    "**Note:** Do you understand why I called `.sum().max()` and `.sum().min()` vs. just using `df.resample('Q')['Sales'].sum()`? \n",
    "\n",
    "It has to do with how and when calculations are applied to a multi-level index in Pandas.  This is a subtle, but important point, and one which has lots of important implications for how you do work in Pandas, so please make sure you understand it.  (And to make sure you hound me down if you have a question!)"
   ]
  },
  {
   "cell_type": "markdown",
   "metadata": {},
   "source": [
    "**Question 6:** What day of the week has the highest volatility in profits, as measured by standard deviation?"
   ]
  },
  {
   "cell_type": "code",
   "execution_count": 11,
   "metadata": {},
   "outputs": [
    {
     "data": {
      "text/plain": [
       "Order Date\n",
       "1    897.519391\n",
       "6    664.187150\n",
       "3    599.258709\n",
       "2    563.722611\n",
       "4    561.111113\n",
       "5    549.906887\n",
       "0    527.940826\n",
       "Name: Sales, dtype: float64"
      ]
     },
     "execution_count": 11,
     "metadata": {},
     "output_type": "execute_result"
    }
   ],
   "source": [
    "# your code here\n",
    "df.groupby(df.index.dayofweek)['Sales'].std().sort_values(ascending=False)"
   ]
  },
  {
   "cell_type": "markdown",
   "metadata": {},
   "source": [
    "In Pandas, the weeks start on a Monday.  So apparently Tuesday is where the roller coaster is."
   ]
  },
  {
   "cell_type": "markdown",
   "metadata": {},
   "source": [
    "**Question 7a:** What is the middle 50% range of weekly sales for the Superstore? (ie, from the 25th to the 75th percentile?)"
   ]
  },
  {
   "cell_type": "code",
   "execution_count": 12,
   "metadata": {},
   "outputs": [
    {
     "data": {
      "text/plain": [
       "count      209.000000\n",
       "mean     10991.391676\n",
       "std       7588.743786\n",
       "min        227.236000\n",
       "25%       5277.773500\n",
       "50%       8866.177000\n",
       "75%      14973.249000\n",
       "max      38176.809000\n",
       "Name: Sales, dtype: float64"
      ]
     },
     "execution_count": 12,
     "metadata": {},
     "output_type": "execute_result"
    }
   ],
   "source": [
    "# solution 1: you can use the describe() method\n",
    "df.resample('W')['Sales'].sum().describe()"
   ]
  },
  {
   "cell_type": "code",
   "execution_count": 13,
   "metadata": {},
   "outputs": [
    {
     "data": {
      "text/plain": [
       "9695.4755"
      ]
     },
     "execution_count": 13,
     "metadata": {},
     "output_type": "execute_result"
    }
   ],
   "source": [
    "# solution 2:  you can use the quantile() method to get certain percentile values to return an exact value\n",
    "df.resample('W')['Sales'].sum().quantile(0.75) - df.resample('W')['Sales'].sum().quantile(0.25)"
   ]
  },
  {
   "cell_type": "markdown",
   "metadata": {},
   "source": [
    "**Question 7b:** Can you find this answer graphically?"
   ]
  },
  {
   "cell_type": "code",
   "execution_count": 14,
   "metadata": {},
   "outputs": [
    {
     "data": {
      "image/png": "[encoded data removed]",
      "text/plain": [
       "<Figure size 432x288 with 1 Axes>"
      ]
     },
     "metadata": {},
     "output_type": "display_data"
    }
   ],
   "source": [
    "# you can use boxplots for this -- the box itself represents the middle 50% of values\n",
    "df.resample('W')['Sales'].sum().plot(kind='box');"
   ]
  },
  {
   "cell_type": "markdown",
   "metadata": {},
   "source": [
    "**Question 7c:** Can you write a function to find the middle 50 percent of sales?"
   ]
  },
  {
   "cell_type": "markdown",
   "metadata": {},
   "source": [
    "There are a number of ways you could do this, but here is one."
   ]
  },
  {
   "cell_type": "code",
   "execution_count": 15,
   "metadata": {},
   "outputs": [
    {
     "data": {
      "text/plain": [
       "9695.4755"
      ]
     },
     "execution_count": 15,
     "metadata": {},
     "output_type": "execute_result"
    }
   ],
   "source": [
    "# this is just a function that takes a SINGLE SERIES as an argument, and uses the quantile method to find its values\n",
    "def mid_50(series):\n",
    "    return series.quantile(.75) - series.quantile(0.25)\n",
    "\n",
    "# remember - a grouped object is just a series when it's all said and done\n",
    "grouped = df.resample('W')['Sales'].sum()\n",
    "# so you can just pass it into this and get your result\n",
    "mid_50(grouped)"
   ]
  },
  {
   "cell_type": "markdown",
   "metadata": {},
   "source": [
    "**Question 8:** What is the average daily order volume in the dataset?"
   ]
  },
  {
   "cell_type": "code",
   "execution_count": 16,
   "metadata": {},
   "outputs": [
    {
     "data": {
      "text/plain": [
       "6.854595336076818"
      ]
     },
     "execution_count": 16,
     "metadata": {},
     "output_type": "execute_result"
    }
   ],
   "source": [
    "# resample on day, and then aggregate -- notice the double aggregation\n",
    "df.resample('D')['Order ID'].count().mean()"
   ]
  },
  {
   "cell_type": "markdown",
   "metadata": {},
   "source": [
    "**Question 9:** What is the average number of orders for days in the highest 10% of order volume and the lowest 10% of order volume?"
   ]
  },
  {
   "cell_type": "code",
   "execution_count": 17,
   "metadata": {},
   "outputs": [
    {
     "data": {
      "text/plain": [
       "Order Date\n",
       "2014-01-03    1\n",
       "2014-01-04    3\n",
       "2014-01-05    1\n",
       "2014-01-06    9\n",
       "2014-01-07    2\n",
       "Freq: D, Name: Order ID, dtype: int64"
      ]
     },
     "execution_count": 17,
     "metadata": {},
     "output_type": "execute_result"
    }
   ],
   "source": [
    "# first, let's get a list of all the days in our dataset and their corresponding order volume\n",
    "daily_orders = df.resample('D')['Order ID'].count()\n",
    "# and take a look at what it is\n",
    "daily_orders.head()"
   ]
  },
  {
   "cell_type": "code",
   "execution_count": 18,
   "metadata": {},
   "outputs": [],
   "source": [
    "# now, let's get the cutoff points for the 10th and 90th percentiles\n",
    "top_10    = daily_orders.quantile(.9)\n",
    "bottom_10 = daily_orders.quantile(0.1)"
   ]
  },
  {
   "cell_type": "code",
   "execution_count": 19,
   "metadata": {},
   "outputs": [],
   "source": [
    "# this returns all values greater than 90th percentile -- and takes their average\n",
    "top_10_mean = daily_orders[daily_orders > top_10].mean()"
   ]
  },
  {
   "cell_type": "code",
   "execution_count": 20,
   "metadata": {},
   "outputs": [],
   "source": [
    "# and this does the same for the bottom 10%\n",
    "bottom_10_mean = daily_orders[daily_orders < top_10].mean()"
   ]
  },
  {
   "cell_type": "code",
   "execution_count": 21,
   "metadata": {},
   "outputs": [
    {
     "name": "stdout",
     "output_type": "stream",
     "text": [
      "21.185185185185187 5.17964533538936\n"
     ]
    }
   ],
   "source": [
    "# and now we can see what they are\n",
    "print(top_10_mean, bottom_10_mean)"
   ]
  },
  {
   "cell_type": "markdown",
   "metadata": {},
   "source": [
    "**Question 10:** How does average daily order volume change on weekends vs. weekdays?"
   ]
  },
  {
   "cell_type": "code",
   "execution_count": 22,
   "metadata": {},
   "outputs": [],
   "source": [
    "# test whether or not each day in the daily orders index is on the weekend or not -- Weekends are days 5 & 6\n",
    "is_weekend = np.where(daily_orders.index.dayofweek > 4, True, False)"
   ]
  },
  {
   "cell_type": "code",
   "execution_count": 23,
   "metadata": {},
   "outputs": [],
   "source": [
    "# and then pass this in as a boolean index, and take its average value for both conditions\n",
    "avg_weekend_orders = daily_orders[is_weekend].mean()\n",
    "avg_weekday_orders = daily_orders[~is_weekend].mean()"
   ]
  },
  {
   "cell_type": "code",
   "execution_count": 24,
   "metadata": {},
   "outputs": [
    {
     "name": "stdout",
     "output_type": "stream",
     "text": [
      "8.069544364508394 6.367915465898175\n"
     ]
    }
   ],
   "source": [
    "# and finally compare the two\n",
    "print(avg_weekend_orders, avg_weekday_orders)"
   ]
  }
 ],
 "metadata": {
  "kernelspec": {
   "display_name": "Python 3",
   "language": "python",
   "name": "python3"
  },
  "language_info": {
   "codemirror_mode": {
    "name": "ipython",
    "version": 3
   },
   "file_extension": ".py",
   "mimetype": "text/x-python",
   "name": "python",
   "nbconvert_exporter": "python",
   "pygments_lexer": "ipython3",
   "version": "3.7.3"
  }
 },
 "nbformat": 4,
 "nbformat_minor": 2
}

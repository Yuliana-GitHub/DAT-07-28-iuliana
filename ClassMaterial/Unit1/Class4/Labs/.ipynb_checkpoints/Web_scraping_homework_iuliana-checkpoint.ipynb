{
 "cells": [
  {
   "cell_type": "code",
   "execution_count": 102,
   "metadata": {},
   "outputs": [],
   "source": [
    "from bs4 import BeautifulSoup\n",
    "import requests\n",
    "import pandas as pd"
   ]
  },
  {
   "cell_type": "code",
   "execution_count": 103,
   "metadata": {},
   "outputs": [],
   "source": [
    "base_url ='https://www.yelp.com/search?find_desc=Restaurants&find_loc=London%2C%20United%20Kingdom&ns=1&start='\n",
    "scraper_list =[]\n",
    "for i in range(0,90,30):\n",
    "    page = requests.get(f\"{base_url}{i}\")\n",
    "    scraper_list.append(BeautifulSoup(page.text))"
   ]
  },
  {
   "cell_type": "code",
   "execution_count": 104,
   "metadata": {},
   "outputs": [],
   "source": [
    "all_rest = []\n",
    "all_rev_num = []\n",
    "#all_price = []\n",
    "#all_address =[]\n",
    "#all_phone =[]"
   ]
  },
  {
   "cell_type": "code",
   "execution_count": 110,
   "metadata": {},
   "outputs": [
    {
     "name": "stdout",
     "output_type": "stream",
     "text": [
      "480\n"
     ]
    }
   ],
   "source": [
    "for i in range(3):\n",
    "    restaurant_names = scraper_list[i].find_all('a', { 'class':'lemon--a__373c0__IEZFH','class': 'link__373c0__1G70M', \n",
    "                                 'class': 'link-color--inherit__373c0__3dzpk',\n",
    "                                 'class': 'link-size--inherit__373c0__1VFlE'})\n",
    "    restaurant_names = [str(restaurant) for restaurant in restaurant_names]\n",
    "    restaurant_names = [restaurant.replace('</a>','') for restaurant in restaurant_names]\n",
    "    restaurant_names = [restaurant.split('>')[-1] for restaurant in restaurant_names]\n",
    "    restaurant_names = [restaurant for restaurant in restaurant_names if len(restaurant)>1 and restaurant != 'more']\n",
    "    all_rest.extend(restaurant_names)\n",
    "print (len(all_rest))\n",
    "    \n",
    "\n"
   ]
  },
  {
   "cell_type": "code",
   "execution_count": null,
   "metadata": {},
   "outputs": [],
   "source": [
    "for i in range(3):   \n",
    "    num_reviews = scraper_list[i].find_all('span', {'class': 'lemon--span__373c0__3997G', \n",
    "                                        'class': 'text__373c0__2Kxyz',\n",
    "                                        'class': 'reviewCount__373c0__2r4xT',\n",
    "                                        'class': 'text-color--black-extra-light__373c0__2OyzO'})\n",
    "    num_reviews = [str(review) for review in num_reviews]\n",
    "    num_reviews = [review.replace('</span>','') for review in num_reviews]\n",
    "    num_reviews = [review.split('>')[-1] for review in num_reviews]\n",
    "    num_reviews = [int(review) for review in num_reviews if review.isdigit()]\n",
    "all_rev_num.extend(num_reviews)\n",
    "print (num_reviews)\n",
    "   \n",
    "    \n",
    "#    price_ranges = scraper_list[i].find_all('span', {'class': 'lemon--span__373c0__3997G', \n",
    "#                                        'class': 'text__373c0__2Kxyz',\n",
    "#                                        'class': 'reviewCount__373c0__2r4xT',\n",
    "#                                        'class': 'text-color--black-extra-light__373c0__2OyzO'})\n",
    "\n",
    "#    price_ranges = [str(price) for price in price_ranges]\n",
    "#    price_ranges = [price.replace('</span>', '') for price in price_ranges]\n",
    "#    price_ranges = [price.split('>')[-1] for price in price_ranges]\n",
    "#    price_ranges = [price for price in range(1,200,2)]\n",
    "#    all_price.extend(price_ranges)"
   ]
  },
  {
   "cell_type": "code",
   "execution_count": 96,
   "metadata": {},
   "outputs": [],
   "source": [
    "#print(len(all_rest))\n",
    "#print(len(all_rev_num))\n",
    "#print(all_price)\n"
   ]
  },
  {
   "cell_type": "code",
   "execution_count": 97,
   "metadata": {},
   "outputs": [],
   "source": [
    "#all_rest = all_rest [0:74]\n",
    "#all_rev_num = all_rev_num [0:74]\n",
    "#all_price = all_price [0:74]\n",
    "\n",
    "dictionary = {\n",
    "    'restaurant': all_rest,\n",
    "    'number of reviews': all_rev_num\n",
    "        }\n"
   ]
  },
  {
   "cell_type": "code",
   "execution_count": 98,
   "metadata": {},
   "outputs": [
    {
     "data": {
      "text/html": [
       "<div>\n",
       "<style scoped>\n",
       "    .dataframe tbody tr th:only-of-type {\n",
       "        vertical-align: middle;\n",
       "    }\n",
       "\n",
       "    .dataframe tbody tr th {\n",
       "        vertical-align: top;\n",
       "    }\n",
       "\n",
       "    .dataframe thead th {\n",
       "        text-align: right;\n",
       "    }\n",
       "</style>\n",
       "<table border=\"1\" class=\"dataframe\">\n",
       "  <thead>\n",
       "    <tr style=\"text-align: right;\">\n",
       "      <th></th>\n",
       "      <th>restaurant</th>\n",
       "      <th>number of reviews</th>\n",
       "    </tr>\n",
       "  </thead>\n",
       "  <tbody>\n",
       "    <tr>\n",
       "      <th>0</th>\n",
       "      <td>Ffiona’s Restaurant</td>\n",
       "      <td>270</td>\n",
       "    </tr>\n",
       "    <tr>\n",
       "      <th>1</th>\n",
       "      <td>Restaurant Gordon Ramsay</td>\n",
       "      <td>204</td>\n",
       "    </tr>\n",
       "    <tr>\n",
       "      <th>2</th>\n",
       "      <td>The Mayfair Chippy</td>\n",
       "      <td>277</td>\n",
       "    </tr>\n",
       "    <tr>\n",
       "      <th>3</th>\n",
       "      <td>Duck &amp;amp; Waffle</td>\n",
       "      <td>701</td>\n",
       "    </tr>\n",
       "    <tr>\n",
       "      <th>4</th>\n",
       "      <td>Dishoom</td>\n",
       "      <td>1842</td>\n",
       "    </tr>\n",
       "    <tr>\n",
       "      <th>...</th>\n",
       "      <td>...</td>\n",
       "      <td>...</td>\n",
       "    </tr>\n",
       "    <tr>\n",
       "      <th>175</th>\n",
       "      <td>Jasmine</td>\n",
       "      <td>35</td>\n",
       "    </tr>\n",
       "    <tr>\n",
       "      <th>176</th>\n",
       "      <td>Flat Iron</td>\n",
       "      <td>3</td>\n",
       "    </tr>\n",
       "    <tr>\n",
       "      <th>177</th>\n",
       "      <td>Wright Brothers</td>\n",
       "      <td>89</td>\n",
       "    </tr>\n",
       "    <tr>\n",
       "      <th>178</th>\n",
       "      <td>Smoking Goat</td>\n",
       "      <td>30</td>\n",
       "    </tr>\n",
       "    <tr>\n",
       "      <th>179</th>\n",
       "      <td>Kerbisher &amp;amp; Malt</td>\n",
       "      <td>92</td>\n",
       "    </tr>\n",
       "  </tbody>\n",
       "</table>\n",
       "<p>180 rows × 2 columns</p>\n",
       "</div>"
      ],
      "text/plain": [
       "                   restaurant  number of reviews\n",
       "0         Ffiona’s Restaurant                270\n",
       "1    Restaurant Gordon Ramsay                204\n",
       "2          The Mayfair Chippy                277\n",
       "3           Duck &amp; Waffle                701\n",
       "4                     Dishoom               1842\n",
       "..                        ...                ...\n",
       "175                   Jasmine                 35\n",
       "176                 Flat Iron                  3\n",
       "177           Wright Brothers                 89\n",
       "178              Smoking Goat                 30\n",
       "179      Kerbisher &amp; Malt                 92\n",
       "\n",
       "[180 rows x 2 columns]"
      ]
     },
     "execution_count": 98,
     "metadata": {},
     "output_type": "execute_result"
    }
   ],
   "source": [
    "df = pd.DataFrame(dictionary)\n",
    "df"
   ]
  },
  {
   "cell_type": "code",
   "execution_count": null,
   "metadata": {},
   "outputs": [],
   "source": []
  },
  {
   "cell_type": "code",
   "execution_count": null,
   "metadata": {},
   "outputs": [],
   "source": []
  },
  {
   "cell_type": "code",
   "execution_count": null,
   "metadata": {},
   "outputs": [],
   "source": []
  }
 ],
 "metadata": {
  "kernelspec": {
   "display_name": "Python 3",
   "language": "python",
   "name": "python3"
  },
  "language_info": {
   "codemirror_mode": {
    "name": "ipython",
    "version": 3
   },
   "file_extension": ".py",
   "mimetype": "text/x-python",
   "name": "python",
   "nbconvert_exporter": "python",
   "pygments_lexer": "ipython3",
   "version": "3.8.3"
  }
 },
 "nbformat": 4,
 "nbformat_minor": 4
}

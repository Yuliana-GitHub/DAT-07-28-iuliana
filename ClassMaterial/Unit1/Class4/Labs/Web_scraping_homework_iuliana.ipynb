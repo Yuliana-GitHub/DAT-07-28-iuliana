{
 "cells": [
  {
   "cell_type": "code",
   "execution_count": 6,
   "metadata": {},
   "outputs": [],
   "source": [
    "from bs4 import BeautifulSoup\n",
    "import requests\n",
    "import pandas as pd"
   ]
  },
  {
   "cell_type": "code",
   "execution_count": 22,
   "metadata": {},
   "outputs": [],
   "source": [
    "base_url ='https://www.yelp.com/search?find_desc=Restaurants&find_loc=London%2C%20United%20Kingdom&ns=1&start='\n",
    "scraper_list =[]\n",
    "for i in range(0,120,30):\n",
    "    page = requests.get(f\"{base_url}{i}\")\n",
    "    scraper_list.append(BeautifulSoup(page.text))"
   ]
  },
  {
   "cell_type": "code",
   "execution_count": 15,
   "metadata": {},
   "outputs": [],
   "source": [
    "all_rest = []\n",
    "all_rev_num = []\n",
    "#all_price = []\n",
    "#all_address =[]\n",
    "#all_phone =[]"
   ]
  },
  {
   "cell_type": "code",
   "execution_count": 23,
   "metadata": {},
   "outputs": [
    {
     "name": "stdout",
     "output_type": "stream",
     "text": [
      "[]\n"
     ]
    }
   ],
   "source": [
    "for i in range(3):\n",
    "    restaurant_names = scraper_list[i].find_all('a', { 'class':'lemon--a__373c0__IEZFH','class': 'link__373c0__1G70M', \n",
    "                                 'class': 'link-color--inherit__373c0__3dzpk',\n",
    "                                 'class': 'link-size--inherit__373c0__1VFlE'})\n",
    "    restaurant_names = [str(restaurant) for restaurant in restaurant_names]\n",
    "    restaurant_names = [restaurant.replace('</a>','') for restaurant in restaurant_names]\n",
    "    restaurant_names = [restaurant.split('>')[-1] for restaurant in restaurant_names]\n",
    "    restaurant_names = [restaurant for restaurant in restaurant_names if len(restaurant)>1 and restaurant != 'more']\n",
    "    all_rest.extend(restaurant_names)\n",
    "print (all_rest)\n",
    "    \n",
    "\n"
   ]
  },
  {
   "cell_type": "code",
   "execution_count": 10,
   "metadata": {},
   "outputs": [
    {
     "name": "stdout",
     "output_type": "stream",
     "text": [
      "0\n"
     ]
    }
   ],
   "source": [
    "for i in range(3):   \n",
    "    num_reviews = scraper_list[i].find_all('span', {'class': 'lemon--span__373c0__3997G', \n",
    "                                        'class': 'text__373c0__2Kxyz',\n",
    "                                        'class': 'reviewCount__373c0__2r4xT',\n",
    "                                        'class': 'text-color--black-extra-light__373c0__2OyzO'})\n",
    "    num_reviews = [str(review) for review in num_reviews]\n",
    "    num_reviews = [review.replace('</span>','') for review in num_reviews]\n",
    "    num_reviews = [review.split('>')[-1] for review in num_reviews]\n",
    "    num_reviews = [int(review) for review in num_reviews if review.isdigit()]\n",
    "    all_rev_num.extend(num_reviews)\n",
    "print (len(num_reviews))\n",
    "   \n",
    "    \n",
    "#    price_ranges = scraper_list[i].find_all('span', {'class': 'lemon--span__373c0__3997G', \n",
    "#                                        'class': 'text__373c0__2Kxyz',\n",
    "#                                        'class': 'reviewCount__373c0__2r4xT',\n",
    "#                                        'class': 'text-color--black-extra-light__373c0__2OyzO'})\n",
    "\n",
    "#    price_ranges = [str(price) for price in price_ranges]\n",
    "#    price_ranges = [price.replace('</span>', '') for price in price_ranges]\n",
    "#    price_ranges = [price.split('>')[-1] for price in price_ranges]\n",
    "#    price_ranges = [price for price in range(1,200,2)]\n",
    "#    all_price.extend(price_ranges)"
   ]
  },
  {
   "cell_type": "code",
   "execution_count": 11,
   "metadata": {},
   "outputs": [],
   "source": [
    "#print(len(all_rest))\n",
    "#print(len(all_rev_num))\n",
    "#print(all_price)\n"
   ]
  },
  {
   "cell_type": "code",
   "execution_count": 12,
   "metadata": {},
   "outputs": [],
   "source": [
    "#all_rest = all_rest [0:74]\n",
    "#all_rev_num = all_rev_num [0:74]\n",
    "#all_price = all_price [0:74]\n",
    "\n",
    "dictionary = {\n",
    "    'restaurant': all_rest,\n",
    "    'number of reviews': all_rev_num\n",
    "        }\n"
   ]
  },
  {
   "cell_type": "code",
   "execution_count": 13,
   "metadata": {},
   "outputs": [
    {
     "data": {
      "text/html": [
       "<div>\n",
       "<style scoped>\n",
       "    .dataframe tbody tr th:only-of-type {\n",
       "        vertical-align: middle;\n",
       "    }\n",
       "\n",
       "    .dataframe tbody tr th {\n",
       "        vertical-align: top;\n",
       "    }\n",
       "\n",
       "    .dataframe thead th {\n",
       "        text-align: right;\n",
       "    }\n",
       "</style>\n",
       "<table border=\"1\" class=\"dataframe\">\n",
       "  <thead>\n",
       "    <tr style=\"text-align: right;\">\n",
       "      <th></th>\n",
       "      <th>restaurant</th>\n",
       "      <th>number of reviews</th>\n",
       "    </tr>\n",
       "  </thead>\n",
       "  <tbody>\n",
       "  </tbody>\n",
       "</table>\n",
       "</div>"
      ],
      "text/plain": [
       "Empty DataFrame\n",
       "Columns: [restaurant, number of reviews]\n",
       "Index: []"
      ]
     },
     "execution_count": 13,
     "metadata": {},
     "output_type": "execute_result"
    }
   ],
   "source": [
    "df = pd.DataFrame(dictionary)\n",
    "df"
   ]
  },
  {
   "cell_type": "code",
   "execution_count": null,
   "metadata": {},
   "outputs": [],
   "source": []
  },
  {
   "cell_type": "code",
   "execution_count": null,
   "metadata": {},
   "outputs": [],
   "source": []
  },
  {
   "cell_type": "code",
   "execution_count": null,
   "metadata": {},
   "outputs": [],
   "source": []
  }
 ],
 "metadata": {
  "kernelspec": {
   "display_name": "Python 3",
   "language": "python",
   "name": "python3"
  },
  "language_info": {
   "codemirror_mode": {
    "name": "ipython",
    "version": 3
   },
   "file_extension": ".py",
   "mimetype": "text/x-python",
   "name": "python",
   "nbconvert_exporter": "python",
   "pygments_lexer": "ipython3",
   "version": "3.8.3"
  }
 },
 "nbformat": 4,
 "nbformat_minor": 4
}

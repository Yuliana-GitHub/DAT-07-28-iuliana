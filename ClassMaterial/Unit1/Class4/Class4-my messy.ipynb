{
 "cells": [
  {
   "cell_type": "code",
   "execution_count": 26,
   "metadata": {},
   "outputs": [],
   "source": [
    "from bs4 import BeautifulSoup\n",
    "import requests"
   ]
  },
  {
   "cell_type": "code",
   "execution_count": 27,
   "metadata": {},
   "outputs": [],
   "source": [
    "url='https://www.yelp.com/search?find_desc=Restaurants&find_loc=London%2C%20United%20Kingdom&ns=1'"
   ]
  },
  {
   "cell_type": "code",
   "execution_count": 28,
   "metadata": {},
   "outputs": [],
   "source": [
    "req = requests.get(url)"
   ]
  },
  {
   "cell_type": "code",
   "execution_count": 29,
   "metadata": {},
   "outputs": [],
   "source": [
    "yelp_scraper = BeautifulSoup(req.text)"
   ]
  },
  {
   "cell_type": "code",
   "execution_count": 37,
   "metadata": {},
   "outputs": [],
   "source": [
    "num_reviews = yelp_scraper.find_all('span', {'class': 'lemon--span__373c0__3997G', \n",
    "                                        'class': 'text__373c0__2Kxyz',\n",
    "                                        'class': 'reviewCount__373c0__2r4xT',\n",
    "                                        'class': 'text-color--black-extra-light__373c0__2OyzO'})"
   ]
  },
  {
   "cell_type": "code",
   "execution_count": 38,
   "metadata": {},
   "outputs": [
    {
     "data": {
      "text/plain": [
       "[<span class=\"lemon--span__373c0__3997G text__373c0__2Kxyz reviewCount__373c0__2r4xT text-color--black-extra-light__373c0__2OyzO text-align--left__373c0__2XGa-\">277</span>,\n",
       " <span class=\"lemon--span__373c0__3997G text__373c0__2Kxyz priceRange__373c0__2DY87 text-color--black-extra-light__373c0__2OyzO text-align--left__373c0__2XGa- text-bullet--after__373c0__3fS1Z\">££</span>,\n",
       " <span class=\"lemon--span__373c0__3997G text__373c0__2Kxyz text-color--black-extra-light__373c0__2OyzO text-align--left__373c0__2XGa-\"><a class=\"lemon--a__373c0__IEZFH link__373c0__1G70M link-color--inherit__373c0__3dzpk link-size--default__373c0__7tls6\" href=\"/search?cflt=fishnchips&amp;find_desc=Restaurants&amp;find_loc=London%2C+United+Kingdom\" name=\"\" rel=\"\" role=\"link\" target=\"\">Fish &amp; Chips</a></span>,\n",
       " <span class=\"lemon--span__373c0__3997G text__373c0__2Kxyz reviewCount__373c0__2r4xT text-color--black-extra-light__373c0__2OyzO text-align--left__373c0__2XGa-\">1842</span>,\n",
       " <span class=\"lemon--span__373c0__3997G text__373c0__2Kxyz priceRange__373c0__2DY87 text-color--black-extra-light__373c0__2OyzO text-align--left__373c0__2XGa- text-bullet--after__373c0__3fS1Z\">££</span>,\n",
       " <span class=\"lemon--span__373c0__3997G text__373c0__2Kxyz text-color--black-extra-light__373c0__2OyzO text-align--left__373c0__2XGa-\"><a class=\"lemon--a__373c0__IEZFH link__373c0__1G70M link-color--inherit__373c0__3dzpk link-size--default__373c0__7tls6\" href=\"/search?cflt=indpak&amp;find_desc=Restaurants&amp;find_loc=London%2C+United+Kingdom\" name=\"\" rel=\"\" role=\"link\" target=\"\">Indian</a></span>,\n",
       " <span class=\"lemon--span__373c0__3997G text__373c0__2Kxyz reviewCount__373c0__2r4xT text-color--black-extra-light__373c0__2OyzO text-align--left__373c0__2XGa-\">378</span>,\n",
       " <span class=\"lemon--span__373c0__3997G text__373c0__2Kxyz priceRange__373c0__2DY87 text-color--black-extra-light__373c0__2OyzO text-align--left__373c0__2XGa- text-bullet--after__373c0__3fS1Z\">££</span>,\n",
       " <span class=\"lemon--span__373c0__3997G text__373c0__2Kxyz text-color--black-extra-light__373c0__2OyzO text-align--left__373c0__2XGa-\"><a class=\"lemon--a__373c0__IEZFH link__373c0__1G70M link-color--inherit__373c0__3dzpk link-size--default__373c0__7tls6\" href=\"/search?cflt=steak&amp;find_desc=Restaurants&amp;find_loc=London%2C+United+Kingdom\" name=\"\" rel=\"\" role=\"link\" target=\"\">Steakhouses</a></span>,\n",
       " <span class=\"lemon--span__373c0__3997G text__373c0__2Kxyz reviewCount__373c0__2r4xT text-color--black-extra-light__373c0__2OyzO text-align--left__373c0__2XGa-\">204</span>,\n",
       " <span class=\"lemon--span__373c0__3997G text__373c0__2Kxyz priceRange__373c0__2DY87 text-color--black-extra-light__373c0__2OyzO text-align--left__373c0__2XGa- text-bullet--after__373c0__3fS1Z\">££££</span>,\n",
       " <span class=\"lemon--span__373c0__3997G text__373c0__2Kxyz text-color--black-extra-light__373c0__2OyzO text-align--left__373c0__2XGa-\"><a class=\"lemon--a__373c0__IEZFH link__373c0__1G70M link-color--inherit__373c0__3dzpk link-size--default__373c0__7tls6\" href=\"/search?cflt=french&amp;find_desc=Restaurants&amp;find_loc=London%2C+United+Kingdom\" name=\"\" rel=\"\" role=\"link\" target=\"\">French</a>, </span>,\n",
       " <span class=\"lemon--span__373c0__3997G text__373c0__2Kxyz text-color--black-extra-light__373c0__2OyzO text-align--left__373c0__2XGa-\"><a class=\"lemon--a__373c0__IEZFH link__373c0__1G70M link-color--inherit__373c0__3dzpk link-size--default__373c0__7tls6\" href=\"/search?cflt=british&amp;find_desc=Restaurants&amp;find_loc=London%2C+United+Kingdom\" name=\"\" rel=\"\" role=\"link\" target=\"\">British</a></span>,\n",
       " <span class=\"lemon--span__373c0__3997G text__373c0__2Kxyz reviewCount__373c0__2r4xT text-color--black-extra-light__373c0__2OyzO text-align--left__373c0__2XGa-\">270</span>,\n",
       " <span class=\"lemon--span__373c0__3997G text__373c0__2Kxyz priceRange__373c0__2DY87 text-color--black-extra-light__373c0__2OyzO text-align--left__373c0__2XGa- text-bullet--after__373c0__3fS1Z\">££</span>,\n",
       " <span class=\"lemon--span__373c0__3997G text__373c0__2Kxyz text-color--black-extra-light__373c0__2OyzO text-align--left__373c0__2XGa-\"><a class=\"lemon--a__373c0__IEZFH link__373c0__1G70M link-color--inherit__373c0__3dzpk link-size--default__373c0__7tls6\" href=\"/search?cflt=british&amp;find_desc=Restaurants&amp;find_loc=London%2C+United+Kingdom\" name=\"\" rel=\"\" role=\"link\" target=\"\">British</a></span>,\n",
       " <span class=\"lemon--span__373c0__3997G text__373c0__2Kxyz reviewCount__373c0__2r4xT text-color--black-extra-light__373c0__2OyzO text-align--left__373c0__2XGa-\">468</span>,\n",
       " <span class=\"lemon--span__373c0__3997G text__373c0__2Kxyz priceRange__373c0__2DY87 text-color--black-extra-light__373c0__2OyzO text-align--left__373c0__2XGa- text-bullet--after__373c0__3fS1Z\">££</span>,\n",
       " <span class=\"lemon--span__373c0__3997G text__373c0__2Kxyz text-color--black-extra-light__373c0__2OyzO text-align--left__373c0__2XGa-\"><a class=\"lemon--a__373c0__IEZFH link__373c0__1G70M link-color--inherit__373c0__3dzpk link-size--default__373c0__7tls6\" href=\"/search?cflt=british&amp;find_desc=Restaurants&amp;find_loc=London%2C+United+Kingdom\" name=\"\" rel=\"\" role=\"link\" target=\"\">British</a></span>,\n",
       " <span class=\"lemon--span__373c0__3997G text__373c0__2Kxyz reviewCount__373c0__2r4xT text-color--black-extra-light__373c0__2OyzO text-align--left__373c0__2XGa-\">119</span>,\n",
       " <span class=\"lemon--span__373c0__3997G text__373c0__2Kxyz priceRange__373c0__2DY87 text-color--black-extra-light__373c0__2OyzO text-align--left__373c0__2XGa- text-bullet--after__373c0__3fS1Z\">££</span>,\n",
       " <span class=\"lemon--span__373c0__3997G text__373c0__2Kxyz text-color--black-extra-light__373c0__2OyzO text-align--left__373c0__2XGa-\"><a class=\"lemon--a__373c0__IEZFH link__373c0__1G70M link-color--inherit__373c0__3dzpk link-size--default__373c0__7tls6\" href=\"/search?cflt=british&amp;find_desc=Restaurants&amp;find_loc=London%2C+United+Kingdom\" name=\"\" rel=\"\" role=\"link\" target=\"\">British</a>, </span>,\n",
       " <span class=\"lemon--span__373c0__3997G text__373c0__2Kxyz text-color--black-extra-light__373c0__2OyzO text-align--left__373c0__2XGa-\"><a class=\"lemon--a__373c0__IEZFH link__373c0__1G70M link-color--inherit__373c0__3dzpk link-size--default__373c0__7tls6\" href=\"/search?cflt=pubs&amp;find_desc=Restaurants&amp;find_loc=London%2C+United+Kingdom\" name=\"\" rel=\"\" role=\"link\" target=\"\">Pubs</a>, </span>,\n",
       " <span class=\"lemon--span__373c0__3997G text__373c0__2Kxyz text-color--black-extra-light__373c0__2OyzO text-align--left__373c0__2XGa-\"><a class=\"lemon--a__373c0__IEZFH link__373c0__1G70M link-color--inherit__373c0__3dzpk link-size--default__373c0__7tls6\" href=\"/search?cflt=gastropubs&amp;find_desc=Restaurants&amp;find_loc=London%2C+United+Kingdom\" name=\"\" rel=\"\" role=\"link\" target=\"\">Gastropubs</a></span>,\n",
       " <span class=\"lemon--span__373c0__3997G text__373c0__2Kxyz reviewCount__373c0__2r4xT text-color--black-extra-light__373c0__2OyzO text-align--left__373c0__2XGa-\">202</span>,\n",
       " <span class=\"lemon--span__373c0__3997G text__373c0__2Kxyz priceRange__373c0__2DY87 text-color--black-extra-light__373c0__2OyzO text-align--left__373c0__2XGa- text-bullet--after__373c0__3fS1Z\">££</span>,\n",
       " <span class=\"lemon--span__373c0__3997G text__373c0__2Kxyz text-color--black-extra-light__373c0__2OyzO text-align--left__373c0__2XGa-\"><a class=\"lemon--a__373c0__IEZFH link__373c0__1G70M link-color--inherit__373c0__3dzpk link-size--default__373c0__7tls6\" href=\"/search?cflt=italian&amp;find_desc=Restaurants&amp;find_loc=London%2C+United+Kingdom\" name=\"\" rel=\"\" role=\"link\" target=\"\">Italian</a></span>,\n",
       " <span class=\"lemon--span__373c0__3997G text__373c0__2Kxyz reviewCount__373c0__2r4xT text-color--black-extra-light__373c0__2OyzO text-align--left__373c0__2XGa-\">239</span>,\n",
       " <span class=\"lemon--span__373c0__3997G text__373c0__2Kxyz priceRange__373c0__2DY87 text-color--black-extra-light__373c0__2OyzO text-align--left__373c0__2XGa- text-bullet--after__373c0__3fS1Z\">££</span>,\n",
       " <span class=\"lemon--span__373c0__3997G text__373c0__2Kxyz text-color--black-extra-light__373c0__2OyzO text-align--left__373c0__2XGa-\"><a class=\"lemon--a__373c0__IEZFH link__373c0__1G70M link-color--inherit__373c0__3dzpk link-size--default__373c0__7tls6\" href=\"/search?cflt=gastropubs&amp;find_desc=Restaurants&amp;find_loc=London%2C+United+Kingdom\" name=\"\" rel=\"\" role=\"link\" target=\"\">Gastropubs</a>, </span>,\n",
       " <span class=\"lemon--span__373c0__3997G text__373c0__2Kxyz text-color--black-extra-light__373c0__2OyzO text-align--left__373c0__2XGa-\"><a class=\"lemon--a__373c0__IEZFH link__373c0__1G70M link-color--inherit__373c0__3dzpk link-size--default__373c0__7tls6\" href=\"/search?cflt=british&amp;find_desc=Restaurants&amp;find_loc=London%2C+United+Kingdom\" name=\"\" rel=\"\" role=\"link\" target=\"\">British</a></span>,\n",
       " <span class=\"lemon--span__373c0__3997G text__373c0__2Kxyz reviewCount__373c0__2r4xT text-color--black-extra-light__373c0__2OyzO text-align--left__373c0__2XGa-\">108</span>,\n",
       " <span class=\"lemon--span__373c0__3997G text__373c0__2Kxyz priceRange__373c0__2DY87 text-color--black-extra-light__373c0__2OyzO text-align--left__373c0__2XGa- text-bullet--after__373c0__3fS1Z\">££</span>,\n",
       " <span class=\"lemon--span__373c0__3997G text__373c0__2Kxyz text-color--black-extra-light__373c0__2OyzO text-align--left__373c0__2XGa-\"><a class=\"lemon--a__373c0__IEZFH link__373c0__1G70M link-color--inherit__373c0__3dzpk link-size--default__373c0__7tls6\" href=\"/search?cflt=fishnchips&amp;find_desc=Restaurants&amp;find_loc=London%2C+United+Kingdom\" name=\"\" rel=\"\" role=\"link\" target=\"\">Fish &amp; Chips</a></span>,\n",
       " <span class=\"lemon--span__373c0__3997G text__373c0__2Kxyz reviewCount__373c0__2r4xT text-color--black-extra-light__373c0__2OyzO text-align--left__373c0__2XGa-\">183</span>,\n",
       " <span class=\"lemon--span__373c0__3997G text__373c0__2Kxyz priceRange__373c0__2DY87 text-color--black-extra-light__373c0__2OyzO text-align--left__373c0__2XGa- text-bullet--after__373c0__3fS1Z\">££</span>,\n",
       " <span class=\"lemon--span__373c0__3997G text__373c0__2Kxyz text-color--black-extra-light__373c0__2OyzO text-align--left__373c0__2XGa-\"><a class=\"lemon--a__373c0__IEZFH link__373c0__1G70M link-color--inherit__373c0__3dzpk link-size--default__373c0__7tls6\" href=\"/search?cflt=taiwanese&amp;find_desc=Restaurants&amp;find_loc=London%2C+United+Kingdom\" name=\"\" rel=\"\" role=\"link\" target=\"\">Taiwanese</a></span>,\n",
       " <span class=\"lemon--span__373c0__3997G text__373c0__2Kxyz reviewCount__373c0__2r4xT text-color--black-extra-light__373c0__2OyzO text-align--left__373c0__2XGa-\">701</span>,\n",
       " <span class=\"lemon--span__373c0__3997G text__373c0__2Kxyz priceRange__373c0__2DY87 text-color--black-extra-light__373c0__2OyzO text-align--left__373c0__2XGa- text-bullet--after__373c0__3fS1Z\">£££</span>,\n",
       " <span class=\"lemon--span__373c0__3997G text__373c0__2Kxyz text-color--black-extra-light__373c0__2OyzO text-align--left__373c0__2XGa-\"><a class=\"lemon--a__373c0__IEZFH link__373c0__1G70M link-color--inherit__373c0__3dzpk link-size--default__373c0__7tls6\" href=\"/search?cflt=modern_european&amp;find_desc=Restaurants&amp;find_loc=London%2C+United+Kingdom\" name=\"\" rel=\"\" role=\"link\" target=\"\">Modern European</a>, </span>,\n",
       " <span class=\"lemon--span__373c0__3997G text__373c0__2Kxyz text-color--black-extra-light__373c0__2OyzO text-align--left__373c0__2XGa-\"><a class=\"lemon--a__373c0__IEZFH link__373c0__1G70M link-color--inherit__373c0__3dzpk link-size--default__373c0__7tls6\" href=\"/search?cflt=bars&amp;find_desc=Restaurants&amp;find_loc=London%2C+United+Kingdom\" name=\"\" rel=\"\" role=\"link\" target=\"\">Bars</a>, </span>,\n",
       " <span class=\"lemon--span__373c0__3997G text__373c0__2Kxyz text-color--black-extra-light__373c0__2OyzO text-align--left__373c0__2XGa-\"><a class=\"lemon--a__373c0__IEZFH link__373c0__1G70M link-color--inherit__373c0__3dzpk link-size--default__373c0__7tls6\" href=\"/search?cflt=british&amp;find_desc=Restaurants&amp;find_loc=London%2C+United+Kingdom\" name=\"\" rel=\"\" role=\"link\" target=\"\">British</a></span>,\n",
       " <span class=\"lemon--span__373c0__3997G text__373c0__2Kxyz reviewCount__373c0__2r4xT text-color--black-extra-light__373c0__2OyzO text-align--left__373c0__2XGa-\">353</span>,\n",
       " <span class=\"lemon--span__373c0__3997G text__373c0__2Kxyz priceRange__373c0__2DY87 text-color--black-extra-light__373c0__2OyzO text-align--left__373c0__2XGa- text-bullet--after__373c0__3fS1Z\">££</span>,\n",
       " <span class=\"lemon--span__373c0__3997G text__373c0__2Kxyz text-color--black-extra-light__373c0__2OyzO text-align--left__373c0__2XGa-\"><a class=\"lemon--a__373c0__IEZFH link__373c0__1G70M link-color--inherit__373c0__3dzpk link-size--default__373c0__7tls6\" href=\"/search?cflt=pubs&amp;find_desc=Restaurants&amp;find_loc=London%2C+United+Kingdom\" name=\"\" rel=\"\" role=\"link\" target=\"\">Pubs</a>, </span>,\n",
       " <span class=\"lemon--span__373c0__3997G text__373c0__2Kxyz text-color--black-extra-light__373c0__2OyzO text-align--left__373c0__2XGa-\"><a class=\"lemon--a__373c0__IEZFH link__373c0__1G70M link-color--inherit__373c0__3dzpk link-size--default__373c0__7tls6\" href=\"/search?cflt=british&amp;find_desc=Restaurants&amp;find_loc=London%2C+United+Kingdom\" name=\"\" rel=\"\" role=\"link\" target=\"\">British</a></span>,\n",
       " <span class=\"lemon--span__373c0__3997G text__373c0__2Kxyz reviewCount__373c0__2r4xT text-color--black-extra-light__373c0__2OyzO text-align--left__373c0__2XGa-\">544</span>,\n",
       " <span class=\"lemon--span__373c0__3997G text__373c0__2Kxyz priceRange__373c0__2DY87 text-color--black-extra-light__373c0__2OyzO text-align--left__373c0__2XGa- text-bullet--after__373c0__3fS1Z\">££</span>,\n",
       " <span class=\"lemon--span__373c0__3997G text__373c0__2Kxyz text-color--black-extra-light__373c0__2OyzO text-align--left__373c0__2XGa-\"><a class=\"lemon--a__373c0__IEZFH link__373c0__1G70M link-color--inherit__373c0__3dzpk link-size--default__373c0__7tls6\" href=\"/search?cflt=indpak&amp;find_desc=Restaurants&amp;find_loc=London%2C+United+Kingdom\" name=\"\" rel=\"\" role=\"link\" target=\"\">Indian</a></span>,\n",
       " <span class=\"lemon--span__373c0__3997G text__373c0__2Kxyz reviewCount__373c0__2r4xT text-color--black-extra-light__373c0__2OyzO text-align--left__373c0__2XGa-\">109</span>,\n",
       " <span class=\"lemon--span__373c0__3997G text__373c0__2Kxyz priceRange__373c0__2DY87 text-color--black-extra-light__373c0__2OyzO text-align--left__373c0__2XGa- text-bullet--after__373c0__3fS1Z\">££</span>,\n",
       " <span class=\"lemon--span__373c0__3997G text__373c0__2Kxyz text-color--black-extra-light__373c0__2OyzO text-align--left__373c0__2XGa-\"><a class=\"lemon--a__373c0__IEZFH link__373c0__1G70M link-color--inherit__373c0__3dzpk link-size--default__373c0__7tls6\" href=\"/search?cflt=british&amp;find_desc=Restaurants&amp;find_loc=London%2C+United+Kingdom\" name=\"\" rel=\"\" role=\"link\" target=\"\">British</a>, </span>,\n",
       " <span class=\"lemon--span__373c0__3997G text__373c0__2Kxyz text-color--black-extra-light__373c0__2OyzO text-align--left__373c0__2XGa-\"><a class=\"lemon--a__373c0__IEZFH link__373c0__1G70M link-color--inherit__373c0__3dzpk link-size--default__373c0__7tls6\" href=\"/search?cflt=gastropubs&amp;find_desc=Restaurants&amp;find_loc=London%2C+United+Kingdom\" name=\"\" rel=\"\" role=\"link\" target=\"\">Gastropubs</a></span>,\n",
       " <span class=\"lemon--span__373c0__3997G text__373c0__2Kxyz reviewCount__373c0__2r4xT text-color--black-extra-light__373c0__2OyzO text-align--left__373c0__2XGa-\">830</span>,\n",
       " <span class=\"lemon--span__373c0__3997G text__373c0__2Kxyz priceRange__373c0__2DY87 text-color--black-extra-light__373c0__2OyzO text-align--left__373c0__2XGa- text-bullet--after__373c0__3fS1Z\">£££</span>,\n",
       " <span class=\"lemon--span__373c0__3997G text__373c0__2Kxyz text-color--black-extra-light__373c0__2OyzO text-align--left__373c0__2XGa-\"><a class=\"lemon--a__373c0__IEZFH link__373c0__1G70M link-color--inherit__373c0__3dzpk link-size--default__373c0__7tls6\" href=\"/search?cflt=french&amp;find_desc=Restaurants&amp;find_loc=London%2C+United+Kingdom\" name=\"\" rel=\"\" role=\"link\" target=\"\">French</a>, </span>,\n",
       " <span class=\"lemon--span__373c0__3997G text__373c0__2Kxyz text-color--black-extra-light__373c0__2OyzO text-align--left__373c0__2XGa-\"><a class=\"lemon--a__373c0__IEZFH link__373c0__1G70M link-color--inherit__373c0__3dzpk link-size--default__373c0__7tls6\" href=\"/search?cflt=modern_european&amp;find_desc=Restaurants&amp;find_loc=London%2C+United+Kingdom\" name=\"\" rel=\"\" role=\"link\" target=\"\">Modern European</a>, </span>,\n",
       " <span class=\"lemon--span__373c0__3997G text__373c0__2Kxyz text-color--black-extra-light__373c0__2OyzO text-align--left__373c0__2XGa-\"><a class=\"lemon--a__373c0__IEZFH link__373c0__1G70M link-color--inherit__373c0__3dzpk link-size--default__373c0__7tls6\" href=\"/search?cflt=cocktailbars&amp;find_desc=Restaurants&amp;find_loc=London%2C+United+Kingdom\" name=\"\" rel=\"\" role=\"link\" target=\"\">Cocktail Bars</a></span>,\n",
       " <span class=\"lemon--span__373c0__3997G text__373c0__2Kxyz reviewCount__373c0__2r4xT text-color--black-extra-light__373c0__2OyzO text-align--left__373c0__2XGa-\">271</span>,\n",
       " <span class=\"lemon--span__373c0__3997G text__373c0__2Kxyz priceRange__373c0__2DY87 text-color--black-extra-light__373c0__2OyzO text-align--left__373c0__2XGa- text-bullet--after__373c0__3fS1Z\">£££</span>,\n",
       " <span class=\"lemon--span__373c0__3997G text__373c0__2Kxyz text-color--black-extra-light__373c0__2OyzO text-align--left__373c0__2XGa-\"><a class=\"lemon--a__373c0__IEZFH link__373c0__1G70M link-color--inherit__373c0__3dzpk link-size--default__373c0__7tls6\" href=\"/search?cflt=mediterranean&amp;find_desc=Restaurants&amp;find_loc=London%2C+United+Kingdom\" name=\"\" rel=\"\" role=\"link\" target=\"\">Mediterranean</a></span>,\n",
       " <span class=\"lemon--span__373c0__3997G text__373c0__2Kxyz reviewCount__373c0__2r4xT text-color--black-extra-light__373c0__2OyzO text-align--left__373c0__2XGa-\">358</span>,\n",
       " <span class=\"lemon--span__373c0__3997G text__373c0__2Kxyz priceRange__373c0__2DY87 text-color--black-extra-light__373c0__2OyzO text-align--left__373c0__2XGa- text-bullet--after__373c0__3fS1Z\">££</span>,\n",
       " <span class=\"lemon--span__373c0__3997G text__373c0__2Kxyz text-color--black-extra-light__373c0__2OyzO text-align--left__373c0__2XGa-\"><a class=\"lemon--a__373c0__IEZFH link__373c0__1G70M link-color--inherit__373c0__3dzpk link-size--default__373c0__7tls6\" href=\"/search?cflt=pubs&amp;find_desc=Restaurants&amp;find_loc=London%2C+United+Kingdom\" name=\"\" rel=\"\" role=\"link\" target=\"\">Pubs</a>, </span>,\n",
       " <span class=\"lemon--span__373c0__3997G text__373c0__2Kxyz text-color--black-extra-light__373c0__2OyzO text-align--left__373c0__2XGa-\"><a class=\"lemon--a__373c0__IEZFH link__373c0__1G70M link-color--inherit__373c0__3dzpk link-size--default__373c0__7tls6\" href=\"/search?cflt=thai&amp;find_desc=Restaurants&amp;find_loc=London%2C+United+Kingdom\" name=\"\" rel=\"\" role=\"link\" target=\"\">Thai</a></span>,\n",
       " <span class=\"lemon--span__373c0__3997G text__373c0__2Kxyz reviewCount__373c0__2r4xT text-color--black-extra-light__373c0__2OyzO text-align--left__373c0__2XGa-\">101</span>,\n",
       " <span class=\"lemon--span__373c0__3997G text__373c0__2Kxyz priceRange__373c0__2DY87 text-color--black-extra-light__373c0__2OyzO text-align--left__373c0__2XGa- text-bullet--after__373c0__3fS1Z\">££</span>,\n",
       " <span class=\"lemon--span__373c0__3997G text__373c0__2Kxyz text-color--black-extra-light__373c0__2OyzO text-align--left__373c0__2XGa-\"><a class=\"lemon--a__373c0__IEZFH link__373c0__1G70M link-color--inherit__373c0__3dzpk link-size--default__373c0__7tls6\" href=\"/search?cflt=japanese&amp;find_desc=Restaurants&amp;find_loc=London%2C+United+Kingdom\" name=\"\" rel=\"\" role=\"link\" target=\"\">Japanese</a></span>,\n",
       " <span class=\"lemon--span__373c0__3997G text__373c0__2Kxyz reviewCount__373c0__2r4xT text-color--black-extra-light__373c0__2OyzO text-align--left__373c0__2XGa-\">212</span>,\n",
       " <span class=\"lemon--span__373c0__3997G text__373c0__2Kxyz priceRange__373c0__2DY87 text-color--black-extra-light__373c0__2OyzO text-align--left__373c0__2XGa- text-bullet--after__373c0__3fS1Z\">££</span>,\n",
       " <span class=\"lemon--span__373c0__3997G text__373c0__2Kxyz text-color--black-extra-light__373c0__2OyzO text-align--left__373c0__2XGa-\"><a class=\"lemon--a__373c0__IEZFH link__373c0__1G70M link-color--inherit__373c0__3dzpk link-size--default__373c0__7tls6\" href=\"/search?cflt=pubs&amp;find_desc=Restaurants&amp;find_loc=London%2C+United+Kingdom\" name=\"\" rel=\"\" role=\"link\" target=\"\">Pubs</a>, </span>,\n",
       " <span class=\"lemon--span__373c0__3997G text__373c0__2Kxyz text-color--black-extra-light__373c0__2OyzO text-align--left__373c0__2XGa-\"><a class=\"lemon--a__373c0__IEZFH link__373c0__1G70M link-color--inherit__373c0__3dzpk link-size--default__373c0__7tls6\" href=\"/search?cflt=british&amp;find_desc=Restaurants&amp;find_loc=London%2C+United+Kingdom\" name=\"\" rel=\"\" role=\"link\" target=\"\">British</a></span>,\n",
       " <span class=\"lemon--span__373c0__3997G text__373c0__2Kxyz reviewCount__373c0__2r4xT text-color--black-extra-light__373c0__2OyzO text-align--left__373c0__2XGa-\">78</span>,\n",
       " <span class=\"lemon--span__373c0__3997G text__373c0__2Kxyz priceRange__373c0__2DY87 text-color--black-extra-light__373c0__2OyzO text-align--left__373c0__2XGa- text-bullet--after__373c0__3fS1Z\">££</span>,\n",
       " <span class=\"lemon--span__373c0__3997G text__373c0__2Kxyz text-color--black-extra-light__373c0__2OyzO text-align--left__373c0__2XGa-\"><a class=\"lemon--a__373c0__IEZFH link__373c0__1G70M link-color--inherit__373c0__3dzpk link-size--default__373c0__7tls6\" href=\"/search?cflt=british&amp;find_desc=Restaurants&amp;find_loc=London%2C+United+Kingdom\" name=\"\" rel=\"\" role=\"link\" target=\"\">British</a></span>,\n",
       " <span class=\"lemon--span__373c0__3997G text__373c0__2Kxyz reviewCount__373c0__2r4xT text-color--black-extra-light__373c0__2OyzO text-align--left__373c0__2XGa-\">375</span>,\n",
       " <span class=\"lemon--span__373c0__3997G text__373c0__2Kxyz priceRange__373c0__2DY87 text-color--black-extra-light__373c0__2OyzO text-align--left__373c0__2XGa- text-bullet--after__373c0__3fS1Z\">££</span>,\n",
       " <span class=\"lemon--span__373c0__3997G text__373c0__2Kxyz text-color--black-extra-light__373c0__2OyzO text-align--left__373c0__2XGa-\"><a class=\"lemon--a__373c0__IEZFH link__373c0__1G70M link-color--inherit__373c0__3dzpk link-size--default__373c0__7tls6\" href=\"/search?cflt=japanese&amp;find_desc=Restaurants&amp;find_loc=London%2C+United+Kingdom\" name=\"\" rel=\"\" role=\"link\" target=\"\">Japanese</a></span>,\n",
       " <span class=\"lemon--span__373c0__3997G text__373c0__2Kxyz reviewCount__373c0__2r4xT text-color--black-extra-light__373c0__2OyzO text-align--left__373c0__2XGa-\">381</span>,\n",
       " <span class=\"lemon--span__373c0__3997G text__373c0__2Kxyz priceRange__373c0__2DY87 text-color--black-extra-light__373c0__2OyzO text-align--left__373c0__2XGa- text-bullet--after__373c0__3fS1Z\">££</span>,\n",
       " <span class=\"lemon--span__373c0__3997G text__373c0__2Kxyz text-color--black-extra-light__373c0__2OyzO text-align--left__373c0__2XGa-\"><a class=\"lemon--a__373c0__IEZFH link__373c0__1G70M link-color--inherit__373c0__3dzpk link-size--default__373c0__7tls6\" href=\"/search?cflt=thai&amp;find_desc=Restaurants&amp;find_loc=London%2C+United+Kingdom\" name=\"\" rel=\"\" role=\"link\" target=\"\">Thai</a></span>,\n",
       " <span class=\"lemon--span__373c0__3997G text__373c0__2Kxyz reviewCount__373c0__2r4xT text-color--black-extra-light__373c0__2OyzO text-align--left__373c0__2XGa-\">26</span>,\n",
       " <span class=\"lemon--span__373c0__3997G text__373c0__2Kxyz priceRange__373c0__2DY87 text-color--black-extra-light__373c0__2OyzO text-align--left__373c0__2XGa- text-bullet--after__373c0__3fS1Z\">££</span>,\n",
       " <span class=\"lemon--span__373c0__3997G text__373c0__2Kxyz text-color--black-extra-light__373c0__2OyzO text-align--left__373c0__2XGa-\"><a class=\"lemon--a__373c0__IEZFH link__373c0__1G70M link-color--inherit__373c0__3dzpk link-size--default__373c0__7tls6\" href=\"/search?cflt=gastropubs&amp;find_desc=Restaurants&amp;find_loc=London%2C+United+Kingdom\" name=\"\" rel=\"\" role=\"link\" target=\"\">Gastropubs</a></span>,\n",
       " <span class=\"lemon--span__373c0__3997G text__373c0__2Kxyz reviewCount__373c0__2r4xT text-color--black-extra-light__373c0__2OyzO text-align--left__373c0__2XGa-\">30</span>,\n",
       " <span class=\"lemon--span__373c0__3997G text__373c0__2Kxyz priceRange__373c0__2DY87 text-color--black-extra-light__373c0__2OyzO text-align--left__373c0__2XGa- text-bullet--after__373c0__3fS1Z\">££</span>,\n",
       " <span class=\"lemon--span__373c0__3997G text__373c0__2Kxyz text-color--black-extra-light__373c0__2OyzO text-align--left__373c0__2XGa-\"><a class=\"lemon--a__373c0__IEZFH link__373c0__1G70M link-color--inherit__373c0__3dzpk link-size--default__373c0__7tls6\" href=\"/search?cflt=pizza&amp;find_desc=Restaurants&amp;find_loc=London%2C+United+Kingdom\" name=\"\" rel=\"\" role=\"link\" target=\"\">Pizza</a>, </span>,\n",
       " <span class=\"lemon--span__373c0__3997G text__373c0__2Kxyz text-color--black-extra-light__373c0__2OyzO text-align--left__373c0__2XGa-\"><a class=\"lemon--a__373c0__IEZFH link__373c0__1G70M link-color--inherit__373c0__3dzpk link-size--default__373c0__7tls6\" href=\"/search?cflt=bars&amp;find_desc=Restaurants&amp;find_loc=London%2C+United+Kingdom\" name=\"\" rel=\"\" role=\"link\" target=\"\">Bars</a></span>,\n",
       " <span class=\"lemon--span__373c0__3997G text__373c0__2Kxyz reviewCount__373c0__2r4xT text-color--black-extra-light__373c0__2OyzO text-align--left__373c0__2XGa-\">292</span>,\n",
       " <span class=\"lemon--span__373c0__3997G text__373c0__2Kxyz priceRange__373c0__2DY87 text-color--black-extra-light__373c0__2OyzO text-align--left__373c0__2XGa- text-bullet--after__373c0__3fS1Z\">££</span>,\n",
       " <span class=\"lemon--span__373c0__3997G text__373c0__2Kxyz text-color--black-extra-light__373c0__2OyzO text-align--left__373c0__2XGa-\"><a class=\"lemon--a__373c0__IEZFH link__373c0__1G70M link-color--inherit__373c0__3dzpk link-size--default__373c0__7tls6\" href=\"/search?cflt=seafood&amp;find_desc=Restaurants&amp;find_loc=London%2C+United+Kingdom\" name=\"\" rel=\"\" role=\"link\" target=\"\">Seafood</a>, </span>,\n",
       " <span class=\"lemon--span__373c0__3997G text__373c0__2Kxyz text-color--black-extra-light__373c0__2OyzO text-align--left__373c0__2XGa-\"><a class=\"lemon--a__373c0__IEZFH link__373c0__1G70M link-color--inherit__373c0__3dzpk link-size--default__373c0__7tls6\" href=\"/search?cflt=burgers&amp;find_desc=Restaurants&amp;find_loc=London%2C+United+Kingdom\" name=\"\" rel=\"\" role=\"link\" target=\"\">Burgers</a></span>,\n",
       " <span class=\"lemon--span__373c0__3997G text__373c0__2Kxyz reviewCount__373c0__2r4xT text-color--black-extra-light__373c0__2OyzO text-align--left__373c0__2XGa-\">342</span>,\n",
       " <span class=\"lemon--span__373c0__3997G text__373c0__2Kxyz priceRange__373c0__2DY87 text-color--black-extra-light__373c0__2OyzO text-align--left__373c0__2XGa- text-bullet--after__373c0__3fS1Z\">£££</span>,\n",
       " <span class=\"lemon--span__373c0__3997G text__373c0__2Kxyz text-color--black-extra-light__373c0__2OyzO text-align--left__373c0__2XGa-\"><a class=\"lemon--a__373c0__IEZFH link__373c0__1G70M link-color--inherit__373c0__3dzpk link-size--default__373c0__7tls6\" href=\"/search?cflt=british&amp;find_desc=Restaurants&amp;find_loc=London%2C+United+Kingdom\" name=\"\" rel=\"\" role=\"link\" target=\"\">British</a>, </span>,\n",
       " <span class=\"lemon--span__373c0__3997G text__373c0__2Kxyz text-color--black-extra-light__373c0__2OyzO text-align--left__373c0__2XGa-\"><a class=\"lemon--a__373c0__IEZFH link__373c0__1G70M link-color--inherit__373c0__3dzpk link-size--default__373c0__7tls6\" href=\"/search?cflt=steak&amp;find_desc=Restaurants&amp;find_loc=London%2C+United+Kingdom\" name=\"\" rel=\"\" role=\"link\" target=\"\">Steakhouses</a>, </span>,\n",
       " <span class=\"lemon--span__373c0__3997G text__373c0__2Kxyz text-color--black-extra-light__373c0__2OyzO text-align--left__373c0__2XGa-\"><a class=\"lemon--a__373c0__IEZFH link__373c0__1G70M link-color--inherit__373c0__3dzpk link-size--default__373c0__7tls6\" href=\"/search?cflt=cocktailbars&amp;find_desc=Restaurants&amp;find_loc=London%2C+United+Kingdom\" name=\"\" rel=\"\" role=\"link\" target=\"\">Cocktail Bars</a></span>,\n",
       " <span class=\"lemon--span__373c0__3997G text__373c0__2Kxyz reviewCount__373c0__2r4xT text-color--black-extra-light__373c0__2OyzO text-align--left__373c0__2XGa-\">194</span>,\n",
       " <span class=\"lemon--span__373c0__3997G text__373c0__2Kxyz priceRange__373c0__2DY87 text-color--black-extra-light__373c0__2OyzO text-align--left__373c0__2XGa- text-bullet--after__373c0__3fS1Z\">££</span>,\n",
       " <span class=\"lemon--span__373c0__3997G text__373c0__2Kxyz text-color--black-extra-light__373c0__2OyzO text-align--left__373c0__2XGa-\"><a class=\"lemon--a__373c0__IEZFH link__373c0__1G70M link-color--inherit__373c0__3dzpk link-size--default__373c0__7tls6\" href=\"/search?cflt=french&amp;find_desc=Restaurants&amp;find_loc=London%2C+United+Kingdom\" name=\"\" rel=\"\" role=\"link\" target=\"\">French</a></span>,\n",
       " <span class=\"lemon--span__373c0__3997G text__373c0__2Kxyz reviewCount__373c0__2r4xT text-color--black-extra-light__373c0__2OyzO text-align--left__373c0__2XGa-\">482</span>,\n",
       " <span class=\"lemon--span__373c0__3997G text__373c0__2Kxyz priceRange__373c0__2DY87 text-color--black-extra-light__373c0__2OyzO text-align--left__373c0__2XGa- text-bullet--after__373c0__3fS1Z\">£££</span>,\n",
       " <span class=\"lemon--span__373c0__3997G text__373c0__2Kxyz text-color--black-extra-light__373c0__2OyzO text-align--left__373c0__2XGa-\"><a class=\"lemon--a__373c0__IEZFH link__373c0__1G70M link-color--inherit__373c0__3dzpk link-size--default__373c0__7tls6\" href=\"/search?cflt=dimsum&amp;find_desc=Restaurants&amp;find_loc=London%2C+United+Kingdom\" name=\"\" rel=\"\" role=\"link\" target=\"\">Dim Sum</a>, </span>,\n",
       " <span class=\"lemon--span__373c0__3997G text__373c0__2Kxyz text-color--black-extra-light__373c0__2OyzO text-align--left__373c0__2XGa-\"><a class=\"lemon--a__373c0__IEZFH link__373c0__1G70M link-color--inherit__373c0__3dzpk link-size--default__373c0__7tls6\" href=\"/search?cflt=seafood&amp;find_desc=Restaurants&amp;find_loc=London%2C+United+Kingdom\" name=\"\" rel=\"\" role=\"link\" target=\"\">Seafood</a>, </span>,\n",
       " <span class=\"lemon--span__373c0__3997G text__373c0__2Kxyz text-color--black-extra-light__373c0__2OyzO text-align--left__373c0__2XGa-\"><a class=\"lemon--a__373c0__IEZFH link__373c0__1G70M link-color--inherit__373c0__3dzpk link-size--default__373c0__7tls6\" href=\"/search?cflt=noodles&amp;find_desc=Restaurants&amp;find_loc=London%2C+United+Kingdom\" name=\"\" rel=\"\" role=\"link\" target=\"\">Noodles</a></span>,\n",
       " <span class=\"lemon--span__373c0__3997G text__373c0__2Kxyz reviewCount__373c0__2r4xT text-color--black-extra-light__373c0__2OyzO text-align--left__373c0__2XGa-\">22</span>,\n",
       " <span class=\"lemon--span__373c0__3997G text__373c0__2Kxyz priceRange__373c0__2DY87 text-color--black-extra-light__373c0__2OyzO text-align--left__373c0__2XGa- text-bullet--after__373c0__3fS1Z\">£££</span>,\n",
       " <span class=\"lemon--span__373c0__3997G text__373c0__2Kxyz text-color--black-extra-light__373c0__2OyzO text-align--left__373c0__2XGa-\"><a class=\"lemon--a__373c0__IEZFH link__373c0__1G70M link-color--inherit__373c0__3dzpk link-size--default__373c0__7tls6\" href=\"/search?cflt=modern_european&amp;find_desc=Restaurants&amp;find_loc=London%2C+United+Kingdom\" name=\"\" rel=\"\" role=\"link\" target=\"\">Modern European</a></span>,\n",
       " <span class=\"lemon--span__373c0__3997G text__373c0__2Kxyz text-color--black-extra-light__373c0__2OyzO text-align--left__373c0__2XGa- text-size--large__373c0__3t60B\"><span aria-hidden=\"true\" class=\"lemon--span__373c0__3997G icon__373c0__ehCWV icon--24-chevron-left-v2 icon--gray-light__373c0__2W-uT icon--v2__373c0__1yp8c navigation-button-icon__373c0__1WyUh navigation-button-icon--disabled__373c0__QPZke\" style=\"width:24px;height:24px\"><svg class=\"icon_svg\" height=\"24\" viewbox=\"0 0 24 24\" width=\"24\" xmlns=\"http://www.w3.org/2000/svg\"><path d=\"M14.25 17.58a1 1 0 0 1-.71-.3L9 12.7a1 1 0 0 1 0-1.4l4.5-4.58A1 1 0 0 1 15 6.7a1 1 0 0 1 0 1.42L11.15 12 15 15.88a1 1 0 0 1 0 1.42 1 1 0 0 1-.75.28z\"></path></svg></span></span>,\n",
       " <span class=\"lemon--span__373c0__3997G text__373c0__2Kxyz text-color--black-extra-light__373c0__2OyzO text-align--left__373c0__2XGa- text-size--large__373c0__3t60B\"><a class=\"lemon--a__373c0__IEZFH link__373c0__1G70M pagination-link-component__373c0__9aHoC link-color--inherit__373c0__3dzpk link-size--inherit__373c0__1VFlE\" href=\"/search?find_desc=Restaurants&amp;find_loc=London%2C%20United%20Kingdom&amp;start=30\" name=\"\" rel=\"\" role=\"link\" target=\"\"><div aria-label=\"Page: 2\" class=\"lemon--div__373c0__1mboc undefined display--inline-block__373c0__1ZKqC border-color--default__373c0__3-ifU\">2</div></a></span>,\n",
       " <span class=\"lemon--span__373c0__3997G text__373c0__2Kxyz text-color--black-extra-light__373c0__2OyzO text-align--left__373c0__2XGa- text-size--large__373c0__3t60B\"><a class=\"lemon--a__373c0__IEZFH link__373c0__1G70M pagination-link-component__373c0__9aHoC link-color--inherit__373c0__3dzpk link-size--inherit__373c0__1VFlE\" href=\"/search?find_desc=Restaurants&amp;find_loc=London%2C%20United%20Kingdom&amp;start=60\" name=\"\" rel=\"\" role=\"link\" target=\"\"><div aria-label=\"Page: 3\" class=\"lemon--div__373c0__1mboc undefined display--inline-block__373c0__1ZKqC border-color--default__373c0__3-ifU\">3</div></a></span>,\n",
       " <span class=\"lemon--span__373c0__3997G text__373c0__2Kxyz text-color--black-extra-light__373c0__2OyzO text-align--left__373c0__2XGa- text-size--large__373c0__3t60B\"><a class=\"lemon--a__373c0__IEZFH link__373c0__1G70M pagination-link-component__373c0__9aHoC link-color--inherit__373c0__3dzpk link-size--inherit__373c0__1VFlE\" href=\"/search?find_desc=Restaurants&amp;find_loc=London%2C%20United%20Kingdom&amp;start=90\" name=\"\" rel=\"\" role=\"link\" target=\"\"><div aria-label=\"Page: 4\" class=\"lemon--div__373c0__1mboc undefined display--inline-block__373c0__1ZKqC border-color--default__373c0__3-ifU\">4</div></a></span>,\n",
       " <span class=\"lemon--span__373c0__3997G text__373c0__2Kxyz text-color--black-extra-light__373c0__2OyzO text-align--left__373c0__2XGa- text-size--large__373c0__3t60B\"><a class=\"lemon--a__373c0__IEZFH link__373c0__1G70M pagination-link-component__373c0__9aHoC link-color--inherit__373c0__3dzpk link-size--inherit__373c0__1VFlE\" href=\"/search?find_desc=Restaurants&amp;find_loc=London%2C%20United%20Kingdom&amp;start=120\" name=\"\" rel=\"\" role=\"link\" target=\"\"><div aria-label=\"Page: 5\" class=\"lemon--div__373c0__1mboc undefined display--inline-block__373c0__1ZKqC border-color--default__373c0__3-ifU\">5</div></a></span>,\n",
       " <span class=\"lemon--span__373c0__3997G text__373c0__2Kxyz text-color--black-extra-light__373c0__2OyzO text-align--left__373c0__2XGa- text-size--large__373c0__3t60B\"><a class=\"lemon--a__373c0__IEZFH link__373c0__1G70M pagination-link-component__373c0__9aHoC link-color--inherit__373c0__3dzpk link-size--inherit__373c0__1VFlE\" href=\"/search?find_desc=Restaurants&amp;find_loc=London%2C%20United%20Kingdom&amp;start=150\" name=\"\" rel=\"\" role=\"link\" target=\"\"><div aria-label=\"Page: 6\" class=\"lemon--div__373c0__1mboc undefined display--inline-block__373c0__1ZKqC border-color--default__373c0__3-ifU\">6</div></a></span>,\n",
       " <span class=\"lemon--span__373c0__3997G text__373c0__2Kxyz text-color--black-extra-light__373c0__2OyzO text-align--left__373c0__2XGa- text-size--large__373c0__3t60B\"><a class=\"lemon--a__373c0__IEZFH link__373c0__1G70M pagination-link-component__373c0__9aHoC link-color--inherit__373c0__3dzpk link-size--inherit__373c0__1VFlE\" href=\"/search?find_desc=Restaurants&amp;find_loc=London%2C%20United%20Kingdom&amp;start=180\" name=\"\" rel=\"\" role=\"link\" target=\"\"><div aria-label=\"Page: 7\" class=\"lemon--div__373c0__1mboc undefined display--inline-block__373c0__1ZKqC border-color--default__373c0__3-ifU\">7</div></a></span>,\n",
       " <span class=\"lemon--span__373c0__3997G text__373c0__2Kxyz text-color--black-extra-light__373c0__2OyzO text-align--left__373c0__2XGa- text-size--large__373c0__3t60B\"><a class=\"lemon--a__373c0__IEZFH link__373c0__1G70M pagination-link-component__373c0__9aHoC link-color--inherit__373c0__3dzpk link-size--inherit__373c0__1VFlE\" href=\"/search?find_desc=Restaurants&amp;find_loc=London%2C%20United%20Kingdom&amp;start=210\" name=\"\" rel=\"\" role=\"link\" target=\"\"><div aria-label=\"Page: 8\" class=\"lemon--div__373c0__1mboc undefined display--inline-block__373c0__1ZKqC border-color--default__373c0__3-ifU\">8</div></a></span>,\n",
       " <span class=\"lemon--span__373c0__3997G text__373c0__2Kxyz text-color--black-extra-light__373c0__2OyzO text-align--left__373c0__2XGa- text-size--large__373c0__3t60B\"><a class=\"lemon--a__373c0__IEZFH link__373c0__1G70M next-link navigation-button__373c0__23BAT link-color--inherit__373c0__3dzpk link-size--inherit__373c0__1VFlE\" href=\"/search?find_desc=Restaurants&amp;find_loc=London%2C%20United%20Kingdom&amp;start=30\" name=\"\" rel=\"\" role=\"link\" target=\"\"><span aria-hidden=\"true\" class=\"lemon--span__373c0__3997G icon__373c0__ehCWV icon--24-chevron-right-v2 icon--currentColor__373c0__x-sG2 icon--v2__373c0__1yp8c navigation-button-icon__373c0__1WyUh\" style=\"width:24px;height:24px\"><svg class=\"icon_svg\" height=\"24\" viewbox=\"0 0 24 24\" width=\"24\" xmlns=\"http://www.w3.org/2000/svg\"><path d=\"M9.75 17.58a1 1 0 0 1-.7-.28 1 1 0 0 1 0-1.42l3.8-3.88L9 8.12a1 1 0 1 1 1.41-1.42L15 11.3a1 1 0 0 1 0 1.4l-4.5 4.58a1 1 0 0 1-.75.3z\"></path></svg></span></a></span>,\n",
       " <span class=\"lemon--span__373c0__3997G text__373c0__2Kxyz text-color--black-extra-light__373c0__2OyzO text-align--left__373c0__2XGa-\">1 of 8</span>,\n",
       " <span class=\"lemon--span__373c0__3997G text__373c0__2Kxyz text-color--black-extra-light__373c0__2OyzO text-align--left__373c0__2XGa-\"><a aria-expanded=\"false\" aria-haspopup=\"listbox\" class=\"lemon--a__373c0__IEZFH link__373c0__1G70M link-color--inherit__373c0__3dzpk link-size--default__373c0__7tls6\" href=\"\" name=\"\" rel=\"\" role=\"button\" target=\"\"><span class=\"lemon--span__373c0__3997G display--inline__373c0__3JqBP margin-r0-5__373c0__3bbaI border-color--default__373c0__3-ifU\"><span class=\"lemon--span__373c0__3997G text__373c0__2Kxyz text-color--inherit__373c0__1lczC text-align--left__373c0__2XGa-\">English</span></span><span aria-hidden=\"true\" class=\"lemon--span__373c0__3997G icon__373c0__ehCWV icon--16-chevron-down-v2 icon--black-extra-light__373c0__jgv5C icon--v2__373c0__1yp8c\" style=\"width:16px;height:16px\"><svg class=\"icon_svg\" height=\"16\" viewbox=\"0 0 16 16\" width=\"16\" xmlns=\"http://www.w3.org/2000/svg\"><path d=\"M8 10.5a1 1 0 0 1-.7-.29l-3.06-3a1 1 0 1 1 1.41-1.42L8 8.1l2.35-2.31a1 1 0 0 1 1.41 1.42l-3.06 3a1 1 0 0 1-.7.29z\"></path></svg></span></a></span>,\n",
       " <span class=\"lemon--span__373c0__3997G text__373c0__2Kxyz text-color--black-extra-light__373c0__2OyzO text-align--left__373c0__2XGa-\"><a aria-expanded=\"false\" aria-haspopup=\"listbox\" class=\"lemon--a__373c0__IEZFH link__373c0__1G70M link-color--inherit__373c0__3dzpk link-size--default__373c0__7tls6\" href=\"\" name=\"\" rel=\"\" role=\"button\" target=\"\"><span class=\"lemon--span__373c0__3997G display--inline__373c0__3JqBP margin-r0-5__373c0__3bbaI border-color--default__373c0__3-ifU\"><span class=\"lemon--span__373c0__3997G text__373c0__2Kxyz text-color--inherit__373c0__1lczC text-align--left__373c0__2XGa-\">United States</span></span><span aria-hidden=\"true\" class=\"lemon--span__373c0__3997G icon__373c0__ehCWV icon--16-chevron-down-v2 icon--black-extra-light__373c0__jgv5C icon--v2__373c0__1yp8c\" style=\"width:16px;height:16px\"><svg class=\"icon_svg\" height=\"16\" viewbox=\"0 0 16 16\" width=\"16\" xmlns=\"http://www.w3.org/2000/svg\"><path d=\"M8 10.5a1 1 0 0 1-.7-.29l-3.06-3a1 1 0 1 1 1.41-1.42L8 8.1l2.35-2.31a1 1 0 0 1 1.41 1.42l-3.06 3a1 1 0 0 1-.7.29z\"></path></svg></span></a></span>]"
      ]
     },
     "execution_count": 38,
     "metadata": {},
     "output_type": "execute_result"
    }
   ],
   "source": [
    "num_reviews"
   ]
  },
  {
   "cell_type": "code",
   "execution_count": 31,
   "metadata": {},
   "outputs": [],
   "source": [
    "#num_reviews = [str(review) for review in num_reviews]\n"
   ]
  },
  {
   "cell_type": "code",
   "execution_count": 32,
   "metadata": {},
   "outputs": [],
   "source": [
    "#num_reviews = [review.replace('</span>', '') for review in num_reviews]\n"
   ]
  },
  {
   "cell_type": "code",
   "execution_count": 39,
   "metadata": {},
   "outputs": [
    {
     "ename": "TypeError",
     "evalue": "'NoneType' object is not callable",
     "output_type": "error",
     "traceback": [
      "\u001b[1;31m---------------------------------------------------------------------------\u001b[0m",
      "\u001b[1;31mTypeError\u001b[0m                                 Traceback (most recent call last)",
      "\u001b[1;32m<ipython-input-39-4ba5fb51a18d>\u001b[0m in \u001b[0;36m<module>\u001b[1;34m\u001b[0m\n\u001b[1;32m----> 1\u001b[1;33m \u001b[0mnum_reviews\u001b[0m \u001b[1;33m=\u001b[0m \u001b[1;33m[\u001b[0m\u001b[0mreview\u001b[0m\u001b[1;33m.\u001b[0m\u001b[0msplit\u001b[0m\u001b[1;33m(\u001b[0m\u001b[1;34m'>'\u001b[0m\u001b[1;33m)\u001b[0m\u001b[1;33m[\u001b[0m\u001b[1;36m1\u001b[0m\u001b[1;33m]\u001b[0m \u001b[1;32mfor\u001b[0m \u001b[0mreview\u001b[0m \u001b[1;32min\u001b[0m \u001b[0mnum_reviews\u001b[0m\u001b[1;33m]\u001b[0m\u001b[1;33m\u001b[0m\u001b[1;33m\u001b[0m\u001b[0m\n\u001b[0m",
      "\u001b[1;32m<ipython-input-39-4ba5fb51a18d>\u001b[0m in \u001b[0;36m<listcomp>\u001b[1;34m(.0)\u001b[0m\n\u001b[1;32m----> 1\u001b[1;33m \u001b[0mnum_reviews\u001b[0m \u001b[1;33m=\u001b[0m \u001b[1;33m[\u001b[0m\u001b[0mreview\u001b[0m\u001b[1;33m.\u001b[0m\u001b[0msplit\u001b[0m\u001b[1;33m(\u001b[0m\u001b[1;34m'>'\u001b[0m\u001b[1;33m)\u001b[0m\u001b[1;33m[\u001b[0m\u001b[1;36m1\u001b[0m\u001b[1;33m]\u001b[0m \u001b[1;32mfor\u001b[0m \u001b[0mreview\u001b[0m \u001b[1;32min\u001b[0m \u001b[0mnum_reviews\u001b[0m\u001b[1;33m]\u001b[0m\u001b[1;33m\u001b[0m\u001b[1;33m\u001b[0m\u001b[0m\n\u001b[0m",
      "\u001b[1;31mTypeError\u001b[0m: 'NoneType' object is not callable"
     ]
    }
   ],
   "source": [
    "num_reviews = [review.split('>')[1] for review in num_reviews]\n"
   ]
  },
  {
   "cell_type": "code",
   "execution_count": 34,
   "metadata": {},
   "outputs": [],
   "source": [
    "#num_reviews = [review for review in num_reviews if review.isdigit()]"
   ]
  },
  {
   "cell_type": "code",
   "execution_count": 36,
   "metadata": {},
   "outputs": [],
   "source": [
    "#num_reviews"
   ]
  },
  {
   "cell_type": "code",
   "execution_count": null,
   "metadata": {},
   "outputs": [],
   "source": []
  }
 ],
 "metadata": {
  "kernelspec": {
   "display_name": "Python 3",
   "language": "python",
   "name": "python3"
  },
  "language_info": {
   "codemirror_mode": {
    "name": "ipython",
    "version": 3
   },
   "file_extension": ".py",
   "mimetype": "text/x-python",
   "name": "python",
   "nbconvert_exporter": "python",
   "pygments_lexer": "ipython3",
   "version": "3.8.3"
  }
 },
 "nbformat": 4,
 "nbformat_minor": 4
}

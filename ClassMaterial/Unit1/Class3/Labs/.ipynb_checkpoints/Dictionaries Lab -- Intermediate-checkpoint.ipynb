{
 "cells": [
  {
   "cell_type": "markdown",
   "metadata": {},
   "source": [
    "## Intermediate Lab:  Creating A Dataset Using the GitHub API\n",
    "\n",
    "In this lab you'll create a dataset containing all the meta information about your classmates github repos, using only the csv file with everyone's url.  \n",
    "\n",
    "The process will be done in these 4 general steps:\n",
    "\n",
    " - load in the csv file\n",
    " - clean the individual lines of each file to get them ready to use\n",
    " - connect to the GitHub api to obtain information about everyone's repos\n",
    " - re-structure this information to turn it into a dataframe.\n",
    " \n",
    "It'll be a great way to work through the first step of many data science problems: creating a workable dataset out of unorganized, messy data.  Let's get started!"
   ]
  },
  {
   "cell_type": "markdown",
   "metadata": {},
   "source": [
    "### Step 1:  Load in the csv file with everyone's github repo\n",
    "\n",
    "**Note:** There are a number of ways to do this, but the easiest way is usually this:\n",
    "\n",
    "    `with open('file.csv') as f:\n",
    "\n",
    "        data = f.readlines()`"
   ]
  },
  {
   "cell_type": "code",
   "execution_count": 55,
   "metadata": {},
   "outputs": [],
   "source": [
    "import requests\n",
    "with open(\"\\\\Users\\iulia\\Downloads\\DAT-07-28 Github Repos - Sheet1.csv\") as f:\n",
    "    the_file = f.readlines()"
   ]
  },
  {
   "cell_type": "markdown",
   "metadata": {},
   "source": [
    "What you should have now is a list, and each item is a string that contains the comma separated values of each cell in the row of that csv file.  \n",
    "\n",
    "It should generically look like this:\n",
    "\n",
    "    `['Name,Repo\\n',\n",
    "      'Person 1,https://github.com/username1\\n',\n",
    "      'Person 2,https://github.com/username2\\n',\n",
    "       ......\n",
    "       ]`\n",
    "\n",
    "Double check this is the case."
   ]
  },
  {
   "cell_type": "code",
   "execution_count": 57,
   "metadata": {},
   "outputs": [
    {
     "data": {
      "text/plain": [
       "['Jonathan Bechtel,https://github.com/JonathanBechtel\\n',\n",
       " 'Luki Elizalde,https://github.com/groovyluki\\n',\n",
       " 'iuliana trufas,https://github.com/Yuliana-GitHub\\n',\n",
       " 'Neraj Thangarajah,https://github.com/nthang1\\n',\n",
       " 'Alina Urs,https://github.com/sprintkayaking\\n',\n",
       " 'Ashleigh Grant,https://github.com/AshleighGrant\\n',\n",
       " 'Nick Hudgell ,Https://github.com/nhudgell/GADS\\n',\n",
       " 'Elisa Scagnetto,https://github.com/lisadt/es_repo280720']"
      ]
     },
     "execution_count": 57,
     "metadata": {},
     "output_type": "execute_result"
    }
   ],
   "source": [
    "the_file[1:]"
   ]
  },
  {
   "cell_type": "markdown",
   "metadata": {},
   "source": [
    "The only thing we need out of each item is the persons username, that part contained in the string at: `https://github.com/username_here`.  Everything else is junk.  \n",
    "\n",
    "We'll need to go through a few steps to get our info down to a usable format.  "
   ]
  },
  {
   "cell_type": "markdown",
   "metadata": {},
   "source": [
    "### Step 2: Remove the `\\n` from each item in the list, as well as the item that contains the header info.\n",
    "\n",
    "When you're done you should have a list that looks like this:\n",
    "\n",
    "      `[\n",
    "      'Person 1,https://github.com/username1',\n",
    "      'Person 2,https://github.com/username2',\n",
    "       ......\n",
    "       ]`\n",
    "\n",
    "**hint:** The `replace()` method for strings is probably one of the more useful options that you have.  If you want to replace something with nothing, you can simply specify `\"\"` for that part."
   ]
  },
  {
   "cell_type": "code",
   "execution_count": 58,
   "metadata": {},
   "outputs": [
    {
     "data": {
      "text/plain": [
       "['Jonathan Bechtel,https://github.com/JonathanBechtel',\n",
       " 'Luki Elizalde,https://github.com/groovyluki',\n",
       " 'iuliana trufas,https://github.com/Yuliana-GitHub',\n",
       " 'Neraj Thangarajah,https://github.com/nthang1',\n",
       " 'Alina Urs,https://github.com/sprintkayaking',\n",
       " 'Ashleigh Grant,https://github.com/AshleighGrant',\n",
       " 'Nick Hudgell ,Https://github.com/nhudgell/GADS',\n",
       " 'Elisa Scagnetto,https://github.com/lisadt/es_repo280720']"
      ]
     },
     "execution_count": 58,
     "metadata": {},
     "output_type": "execute_result"
    }
   ],
   "source": [
    "user_names1 = [row.replace('\\n', \"\") for row in the_file[1:]]\n",
    "user_names1"
   ]
  },
  {
   "cell_type": "markdown",
   "metadata": {},
   "source": [
    "### Step 3:  Separate the url in each string from everything else\n",
    "\n",
    "When you're done you should have a new list that looks like this:\n",
    "\n",
    "    `[\n",
    "       'https://github.com/username1',\n",
    "       'https://github.com/username2',\n",
    "       ...\n",
    "     ]`\n",
    "     \n",
    "**hint:** The `split()` method will help you out here."
   ]
  },
  {
   "cell_type": "code",
   "execution_count": 60,
   "metadata": {},
   "outputs": [
    {
     "data": {
      "text/plain": [
       "['https://github.com/JonathanBechtel',\n",
       " 'https://github.com/groovyluki',\n",
       " 'https://github.com/Yuliana-GitHub',\n",
       " 'https://github.com/nthang1',\n",
       " 'https://github.com/sprintkayaking',\n",
       " 'https://github.com/AshleighGrant',\n",
       " 'Https://github.com/nhudgell/GADS',\n",
       " 'https://github.com/lisadt/es_repo280720']"
      ]
     },
     "execution_count": 60,
     "metadata": {},
     "output_type": "execute_result"
    }
   ],
   "source": [
    "repo_urls = [row.split(',')[1] for row in user_names1]\n",
    "repo_urls"
   ]
  },
  {
   "cell_type": "markdown",
   "metadata": {},
   "source": [
    "### Step 4:  Separate the username in each string from everything else\n",
    "\n",
    "When you're done you should have a new list that looks like this:\n",
    "\n",
    "    `[\n",
    "       'username1',\n",
    "       'username2',\n",
    "       ...\n",
    "     ]`"
   ]
  },
  {
   "cell_type": "code",
   "execution_count": 70,
   "metadata": {},
   "outputs": [
    {
     "data": {
      "text/plain": [
       "'Yuliana-GitHub'"
      ]
     },
     "execution_count": 70,
     "metadata": {},
     "output_type": "execute_result"
    }
   ],
   "source": [
    "user_list = [url.split('/')[-1] for url in repo_urls]\n",
    "user_list[2]"
   ]
  },
  {
   "cell_type": "markdown",
   "metadata": {},
   "source": [
    "### Step 5: Obtain the repo data for every single github username\n",
    "\n",
    "The repository info for every single public account is available via the following url: `https://api.github.com/users/:the_username/repos`\n",
    "\n",
    "So basically, `requests.get('https://api.github.com/users/:the_username/repos').json()` will return a list filled with every single repo that user has.  \n",
    "\n",
    "When you're done, you should have a *list of lists*, with each list containing each users individual repos.  It'll look like this:\n",
    "\n",
    "`[[{user1, repo1}, {user1, repo2}], [{user2, repo1}], [{user3, repo1}, {user3, repo2}, {user3, rep3}], .....]`\n",
    "\n",
    "**Warning:** We're using the free, unauthenticated version of the API here.  That means we can only make 60 API calls per hour before getting throttled.  If we've used up our bandwidth the response you'll get is a dictionary telling you we've exceeded our rate limit or something similar.\n",
    "\n",
    "If that's the case, try using your phone (or your neighbors) as a hotspot and connect from there to get a new IP address."
   ]
  },
  {
   "cell_type": "code",
   "execution_count": 82,
   "metadata": {},
   "outputs": [
    {
     "data": {
      "text/plain": [
       "{'message': \"API rate limit exceeded for 89.32.123.126. (But here's the good news: Authenticated requests get a higher rate limit. Check out the documentation for more details.)\",\n",
       " 'documentation_url': 'https://developer.github.com/v3/#rate-limiting'}"
      ]
     },
     "execution_count": 82,
     "metadata": {},
     "output_type": "execute_result"
    }
   ],
   "source": [
    "base_url = 'https://api.github.com'\n",
    "repo_lists = [requests.get(f\"{base_url}/users/{user}\").json() for user in user_list]\n",
    "repo_lists[7]"
   ]
  },
  {
   "cell_type": "markdown",
   "metadata": {},
   "source": [
    "### Step 6: Create a 'flat' list that contains every unique repo for every single user\n",
    "\n",
    "When you're done you should have a list that looks like this: `[{user1 repo1}, {user1 repo2}, ....{user n, repo m}]`\n",
    "\n",
    "Ie, instead of having a list filled with other lists with dictionaries inside of them, make it a list with just dictionaries on the inside.\n",
    "\n",
    "Ie, no nested levels like you had before.\n",
    "\n",
    "So, go from this:\n",
    "\n",
    "`[[{user1, repo1}, {user1, repo2}, {user1, repo3}], [{user2, repo1}, {user2, repo2}]]`\n",
    "    \n",
    "To this:\n",
    "\n",
    "`[{user1, repo1}, {user1, repo2}, {user1, repo3}, {user2, repo1}, {user2, repo2}]`\n",
    "    \n",
    "If you have questions about what this entails, then please contact me ASAP."
   ]
  },
  {
   "cell_type": "code",
   "execution_count": 74,
   "metadata": {},
   "outputs": [],
   "source": [
    "# for user in repo_lists:\n",
    "#     for repo in user:\n",
    "#         repos.append(repo)\n",
    "# print(repos)"
   ]
  },
  {
   "cell_type": "markdown",
   "metadata": {},
   "source": [
    "### Step 7:  Get information about the name, owner, url, and date of every single repo.\n",
    "\n",
    "In the dictionary for each repo there are keys called `name`, `login`, `html_url`, and `created_at`.  These are going to populate the values for our different columns.\n",
    "\n",
    "Values for each one of these keys will need to exist inside their own lists.\n",
    "\n",
    "**hint:** Notice that the `login` key is nested inside a dictionary that's the value to the `owner` key at the outer level."
   ]
  },
  {
   "cell_type": "code",
   "execution_count": 78,
   "metadata": {},
   "outputs": [
    {
     "data": {
      "text/plain": [
       "[]"
      ]
     },
     "execution_count": 78,
     "metadata": {},
     "output_type": "execute_result"
    }
   ],
   "source": [
    "repo_names = [repo['name'] for repo in repo_lists if type('name')== dict]\n",
    "owners     = [repo['owner']['login'] for repo in repo_lists if type('owner')== dict]\n",
    "urls       = [repo['html_url'] for repo in repo_lists if type('htmp_url')== dict]\n",
    "dates      = [repo['created_at'] for repo in repo_lists if type('created_at')== dict]\n",
    "repo_names"
   ]
  },
  {
   "cell_type": "markdown",
   "metadata": {},
   "source": [
    "### Step 8:  Create a dictionary with the data created from step 7\n",
    "\n",
    "Your final output should look like this:\n",
    "\n",
    "    `{\n",
    "       'Owner': [list with the `login` values for each user],\n",
    "       'Name' : [list with the `name` values for each user],\n",
    "       'URL'  : [list with the `html_url` values for each user],\n",
    "       'Date' : [list with the `created_at` values for each user]\n",
    "     }`"
   ]
  },
  {
   "cell_type": "code",
   "execution_count": 49,
   "metadata": {},
   "outputs": [],
   "source": [
    "data_dict = {\n",
    "    'Owner': owners,\n",
    "    'Name': repo_names,\n",
    "    'URL': urls,\n",
    "    'Date': dates\n",
    "}\n"
   ]
  },
  {
   "cell_type": "markdown",
   "metadata": {},
   "source": [
    "### Step 9:  Pass your dictionary into the `pd.dataframe()` method to get your final dataset  \n",
    "\n",
    "Use the `df.head()` method to confirm that you have something that's formatted appropriately."
   ]
  },
  {
   "cell_type": "code",
   "execution_count": 53,
   "metadata": {},
   "outputs": [
    {
     "data": {
      "text/html": [
       "<div>\n",
       "<style scoped>\n",
       "    .dataframe tbody tr th:only-of-type {\n",
       "        vertical-align: middle;\n",
       "    }\n",
       "\n",
       "    .dataframe tbody tr th {\n",
       "        vertical-align: top;\n",
       "    }\n",
       "\n",
       "    .dataframe thead th {\n",
       "        text-align: right;\n",
       "    }\n",
       "</style>\n",
       "<table border=\"1\" class=\"dataframe\">\n",
       "  <thead>\n",
       "    <tr style=\"text-align: right;\">\n",
       "      <th></th>\n",
       "      <th>Owner</th>\n",
       "      <th>Name</th>\n",
       "      <th>URL</th>\n",
       "      <th>Date</th>\n",
       "    </tr>\n",
       "  </thead>\n",
       "  <tbody>\n",
       "  </tbody>\n",
       "</table>\n",
       "</div>"
      ],
      "text/plain": [
       "Empty DataFrame\n",
       "Columns: [Owner, Name, URL, Date]\n",
       "Index: []"
      ]
     },
     "execution_count": 53,
     "metadata": {},
     "output_type": "execute_result"
    }
   ],
   "source": [
    "import pandas as pd\n",
    "df = pd.DataFrame(data_dict)\n",
    "df.head()"
   ]
  },
  {
   "cell_type": "code",
   "execution_count": null,
   "metadata": {},
   "outputs": [],
   "source": []
  }
 ],
 "metadata": {
  "kernelspec": {
   "display_name": "Python 3",
   "language": "python",
   "name": "python3"
  },
  "language_info": {
   "codemirror_mode": {
    "name": "ipython",
    "version": 3
   },
   "file_extension": ".py",
   "mimetype": "text/x-python",
   "name": "python",
   "nbconvert_exporter": "python",
   "pygments_lexer": "ipython3",
   "version": "3.8.3"
  }
 },
 "nbformat": 4,
 "nbformat_minor": 2
}

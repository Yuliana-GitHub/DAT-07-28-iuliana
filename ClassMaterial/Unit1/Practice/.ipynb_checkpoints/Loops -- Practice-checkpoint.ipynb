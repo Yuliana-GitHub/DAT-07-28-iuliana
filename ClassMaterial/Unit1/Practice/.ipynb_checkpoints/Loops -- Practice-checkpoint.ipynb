{
 "cells": [
  {
   "cell_type": "markdown",
   "metadata": {},
   "source": [
    "### Loops & List Comprehensions:  Practice Notebook"
   ]
  },
  {
   "cell_type": "markdown",
   "metadata": {},
   "source": [
    "This notebook is designed to give newcomers additional practice to work on writing for-loops and list comprehensions.  \n",
    "\n",
    "The examples will begin slowly and gradually get a little more complicated.  Most questions can be concisely answered with a list-comprehensions, but if not then it will be noted.  "
   ]
  },
  {
   "cell_type": "markdown",
   "metadata": {},
   "source": [
    "#### Movies List"
   ]
  },
  {
   "cell_type": "markdown",
   "metadata": {},
   "source": [
    "Similar to class 3, the following questions will ask you to write loops through the list of dictionaries that contain information about various types of movies."
   ]
  },
  {
   "cell_type": "code",
   "execution_count": 3,
   "metadata": {},
   "outputs": [],
   "source": [
    "# List of movies dictionaries:\n",
    "\n",
    "movies = [\n",
    "{\n",
    "\"name\": \"Usual Suspects\", \n",
    "\"imdb\": 7.0,\n",
    "\"category\": \"Thriller\"\n",
    "},\n",
    "{\n",
    "\"name\": \"Hitman\",\n",
    "\"imdb\": 6.3,\n",
    "\"category\": \"Action\"\n",
    "},\n",
    "{\n",
    "\"name\": \"Dark Knight\",\n",
    "\"imdb\": 9.0,\n",
    "\"category\": \"Adventure\"\n",
    "},\n",
    "{\n",
    "\"name\": \"The Help\",\n",
    "\"imdb\": 8.0,\n",
    "\"category\": \"Drama\"\n",
    "},\n",
    "{\n",
    "\"name\": \"The Choice\",\n",
    "\"imdb\": 6.2,\n",
    "\"category\": \"Romance\"\n",
    "},\n",
    "{\n",
    "\"name\": \"Colonia\",\n",
    "\"imdb\": 7.4,\n",
    "\"category\": \"Romance\"\n",
    "},\n",
    "{\n",
    "\"name\": \"Love\",\n",
    "\"imdb\": 6.0,\n",
    "\"category\": \"Romance\"\n",
    "},\n",
    "{\n",
    "\"name\": \"Bride Wars\",\n",
    "\"imdb\": 5.4,\n",
    "\"category\": \"Romance\"\n",
    "},\n",
    "{\n",
    "\"name\": \"AlphaJet\",\n",
    "\"imdb\": 3.2,\n",
    "\"category\": \"War\"\n",
    "},\n",
    "{\n",
    "\"name\": \"Ringing Crime\",\n",
    "\"imdb\": 4.0,\n",
    "\"category\": \"Crime\"\n",
    "},\n",
    "{\n",
    "\"name\": \"Joking muck\",\n",
    "\"imdb\": 7.2,\n",
    "\"category\": \"Comedy\"\n",
    "},\n",
    "{\n",
    "\"name\": \"What is the name\",\n",
    "\"imdb\": 9.2,\n",
    "\"category\": \"Suspense\"\n",
    "},\n",
    "{\n",
    "\"name\": \"Detective\",\n",
    "\"imdb\": 7.0,\n",
    "\"category\": \"Suspense\"\n",
    "},\n",
    "{\n",
    "\"name\": \"Exam\",\n",
    "\"imdb\": 4.2,\n",
    "\"category\": \"Thriller\"\n",
    "},\n",
    "{\n",
    "\"name\": \"We Two\",\n",
    "\"imdb\": 7.2,\n",
    "\"category\": \"Romance\"\n",
    "}\n",
    "]"
   ]
  },
  {
   "cell_type": "markdown",
   "metadata": {},
   "source": [
    "**Question 1:** What is the highest rated movie?  What is the lowest rated movie?  \n",
    "\n",
    "**Hint:** The `max()` function can help you out here, although it's not necessary."
   ]
  },
  {
   "cell_type": "code",
   "execution_count": 41,
   "metadata": {},
   "outputs": [
    {
     "name": "stdout",
     "output_type": "stream",
     "text": [
      "Highest rated movie, 9.2 , is  What is the name\n"
     ]
    }
   ],
   "source": [
    "# highest_rated = max([movie['imdb'] for movie in movies])\n",
    "# name_movie = [movie['name'] for movie in movies if movie['imdb'] == highest_rated]\n",
    "highest_rated = 0\n",
    "name_movie = None\n",
    "for movie in movies:\n",
    "    if movie['imdb'] > highest_rated:\n",
    "        highest_rated = movie['imdb']\n",
    "        name_movie = movie['name']\n",
    "print(\"Highest rated movie,\", highest_rated, \", is \", name_movie)"
   ]
  },
  {
   "cell_type": "markdown",
   "metadata": {},
   "source": [
    "**Question 2:**  How many thriller movies are there? "
   ]
  },
  {
   "cell_type": "code",
   "execution_count": 38,
   "metadata": {},
   "outputs": [
    {
     "name": "stdout",
     "output_type": "stream",
     "text": [
      "there are  2  thrillers\n"
     ]
    }
   ],
   "source": [
    "#thrillers = 0\n",
    "#for movie in movies:\n",
    "#    if movie[\"category\"] == \"Thriller\":\n",
    "#        thrillers +=1        \n",
    "thrillers = sum(1 for movie in movies if movie[\"category\"] == \"Thriller\")\n",
    "print(\"there are \", thrillers, \" thrillers\")"
   ]
  },
  {
   "cell_type": "markdown",
   "metadata": {},
   "source": [
    "**Question 3:**  What is the average rating of all movies?"
   ]
  },
  {
   "cell_type": "code",
   "execution_count": 44,
   "metadata": {},
   "outputs": [
    {
     "name": "stdout",
     "output_type": "stream",
     "text": [
      "6.486666666666667\n"
     ]
    }
   ],
   "source": [
    "# total = 0\n",
    "# for movie in movies:\n",
    "#     total += movie['imdb']\n",
    "# average = total / len(movies)\n",
    "average = sum(movie['imdb'] for movie in movies) / len(movies)\n",
    "print (average)"
   ]
  },
  {
   "cell_type": "markdown",
   "metadata": {},
   "source": [
    "**Question 4:** How many movies have an above average rating?"
   ]
  },
  {
   "cell_type": "code",
   "execution_count": 52,
   "metadata": {},
   "outputs": [
    {
     "name": "stdout",
     "output_type": "stream",
     "text": [
      "8\n"
     ]
    }
   ],
   "source": [
    "above_average = sum(1 for movie in movies if movie['imdb']>average)\n",
    "print(above_average)"
   ]
  },
  {
   "cell_type": "markdown",
   "metadata": {},
   "source": [
    "**Question 5:** Create a list of all movies that have an above average rating."
   ]
  },
  {
   "cell_type": "code",
   "execution_count": 51,
   "metadata": {},
   "outputs": [
    {
     "name": "stdout",
     "output_type": "stream",
     "text": [
      "['Usual Suspects', 'Dark Knight', 'The Help', 'Colonia', 'Joking muck', 'What is the name', 'Detective', 'We Two']\n"
     ]
    }
   ],
   "source": [
    "above_average = []\n",
    "for movie in movies:\n",
    "    if movie[\"imdb\"] > average:\n",
    "       above_average.append(movie['name'])\n",
    "print(above_average)"
   ]
  },
  {
   "cell_type": "markdown",
   "metadata": {},
   "source": [
    "**Question 6:** Create a loop that *stops* as soon as it finds a movie that has a below average rating.\n",
    "\n",
    "**Hint:** the `break` operator is going to be your best bet."
   ]
  },
  {
   "cell_type": "code",
   "execution_count": 59,
   "metadata": {},
   "outputs": [
    {
     "name": "stdout",
     "output_type": "stream",
     "text": [
      "I stop at  Hitman rated at  6.3\n",
      "['Usual Suspects']\n"
     ]
    }
   ],
   "source": [
    "before =[]\n",
    "for movie in movies:\n",
    "    if movie['imdb'] < average:\n",
    "        print (\"I stop at \", movie['name'], \"rated at \", movie['imdb'])\n",
    "        break\n",
    "    else:\n",
    "        before.append(movie['name'])\n",
    "print(before)"
   ]
  },
  {
   "cell_type": "markdown",
   "metadata": {},
   "source": [
    "**Question 7:** Write a loop that prints off the name of every movie title, as well as how many words are in its title.  "
   ]
  },
  {
   "cell_type": "code",
   "execution_count": 65,
   "metadata": {},
   "outputs": [
    {
     "name": "stdout",
     "output_type": "stream",
     "text": [
      "Usual Suspects  is  2 words long\n",
      "Hitman  is  1 words long\n",
      "Dark Knight  is  2 words long\n",
      "The Help  is  2 words long\n",
      "The Choice  is  2 words long\n",
      "Colonia  is  1 words long\n",
      "Love  is  1 words long\n",
      "Bride Wars  is  2 words long\n",
      "AlphaJet  is  1 words long\n",
      "Ringing Crime  is  2 words long\n",
      "Joking muck  is  2 words long\n",
      "What is the name  is  4 words long\n",
      "Detective  is  1 words long\n",
      "Exam  is  1 words long\n",
      "We Two  is  2 words long\n"
     ]
    }
   ],
   "source": [
    "for movie in movies:\n",
    "    print(movie['name'], \" is \", len(movie['name'].split()), \"words long\")"
   ]
  },
  {
   "cell_type": "markdown",
   "metadata": {},
   "source": [
    "**Question 8:** Write a code block that will print off the name of the movie with the highest rating, as well as its title."
   ]
  },
  {
   "cell_type": "code",
   "execution_count": 67,
   "metadata": {},
   "outputs": [
    {
     "name": "stdout",
     "output_type": "stream",
     "text": [
      "What is the name is rated  9.2\n"
     ]
    }
   ],
   "source": [
    "for movie in movies:\n",
    "    if movie['imdb'] == highest_rated:\n",
    "        print(movie['name'], \"is rated \", highest_rated)"
   ]
  },
  {
   "cell_type": "markdown",
   "metadata": {},
   "source": [
    "**Question 9:**  How many movies begin with the word \"The?\"  Make the results case-insensitive."
   ]
  },
  {
   "cell_type": "code",
   "execution_count": 71,
   "metadata": {},
   "outputs": [
    {
     "name": "stdout",
     "output_type": "stream",
     "text": [
      "movies starting with the:  2\n"
     ]
    }
   ],
   "source": [
    "how_many = 0\n",
    "for movie in movies:\n",
    "    if movie['name'].lower().split()[0] == \"the\":\n",
    "        how_many += 1\n",
    "how_many = sum(1 for movie in movies if movie['name'].lower().split()[0] == \"the\")\n",
    "print (\"movies starting with the: \", how_many)  "
   ]
  },
  {
   "cell_type": "markdown",
   "metadata": {},
   "source": [
    "**Question 10:** Create a list that contains movies that have the word 'the' in their title.  Make the results case-insensitive."
   ]
  },
  {
   "cell_type": "code",
   "execution_count": 73,
   "metadata": {},
   "outputs": [
    {
     "name": "stdout",
     "output_type": "stream",
     "text": [
      "['The Help', 'The Choice', 'What is the name']\n"
     ]
    }
   ],
   "source": [
    "list = [movie['name'] for movie in movies if \"the\" in movie['name'].lower().split()]\n",
    "print(list)"
   ]
  },
  {
   "cell_type": "markdown",
   "metadata": {},
   "source": [
    "**Question 11:** Create a list that contains the name and rating of a movie if the word 'the' is contained within its title.  These results should be stored inside a tuple.  Make the results case-insensitive."
   ]
  },
  {
   "cell_type": "code",
   "execution_count": 75,
   "metadata": {},
   "outputs": [
    {
     "name": "stdout",
     "output_type": "stream",
     "text": [
      "[('The Help', 8.0), ('The Choice', 6.2), ('What is the name', 9.2)]\n"
     ]
    }
   ],
   "source": [
    "tuple =[(movie['name'], movie['imdb']) for movie in movies if \"the\" in movie['name'].lower()]\n",
    "print (tuple)"
   ]
  },
  {
   "cell_type": "markdown",
   "metadata": {},
   "source": [
    "**Question 12:** Write a code block that checks to see if the average rating for movies with the word 'the' in its title are higher than the average rating overall.  If they are higher, print a message saying as much.  If not, then print something else."
   ]
  },
  {
   "cell_type": "code",
   "execution_count": 86,
   "metadata": {},
   "outputs": [
    {
     "name": "stdout",
     "output_type": "stream",
     "text": [
      "the tuples ave is higher by:  1.3133333333333326\n"
     ]
    }
   ],
   "source": [
    "sum_tuple = 0\n",
    "for tupl in tuple:\n",
    "    sum_tuple += tupl[1]\n",
    "average_tuple = sum_tuple / len(tuple)\n",
    "if average_tuple > average:\n",
    "    print(\"the tuples ave is higher by: \", average_tuple-average)\n",
    "else:\n",
    "    print(\"something else\")"
   ]
  },
  {
   "cell_type": "markdown",
   "metadata": {},
   "source": [
    "**Question 13:** Create a list that contains the *index positions* of every movie that has an above average rating in our original list."
   ]
  },
  {
   "cell_type": "code",
   "execution_count": 94,
   "metadata": {},
   "outputs": [
    {
     "name": "stdout",
     "output_type": "stream",
     "text": [
      "[0, 2, 3, 5, 10, 11, 12, 14]\n"
     ]
    }
   ],
   "source": [
    "index_position =[]\n",
    "for index, movie in enumerate(movies):\n",
    "    if movie['imdb'] > average:\n",
    "        index_position.append(index)\n",
    "print(index_position)"
   ]
  },
  {
   "cell_type": "markdown",
   "metadata": {},
   "source": [
    "**Question 14 (More Complicated):** What movie *genre* occurs most frequently?  (You will need to do this in a few steps most likely). "
   ]
  },
  {
   "cell_type": "code",
   "execution_count": 125,
   "metadata": {},
   "outputs": [
    {
     "name": "stdout",
     "output_type": "stream",
     "text": [
      "{'Thriller': 2, 'Action': 1, 'Adventure': 1, 'Drama': 1, 'Romance': 5, 'War': 1, 'Crime': 1, 'Comedy': 1, 'Suspense': 2}\n",
      "the most frequent cat is  None\n"
     ]
    }
   ],
   "source": [
    "all_cat = {}\n",
    "for movie in movies:\n",
    "    if movie['category'] in all_cat:\n",
    "        all_cat[movie['category']] +=1\n",
    "    else:\n",
    "        all_cat[movie['category']] = 1\n",
    "print (all_cat)\n",
    "the_frequent = 0\n",
    "the_cat = None\n",
    "for cat, frequent in all_cat.items():\n",
    "    if frequent > most_frequent:\n",
    "        the_frequent = frequent\n",
    "        the_cat = cat\n",
    "print (\"the most frequent cat is \", the_cat)"
   ]
  },
  {
   "cell_type": "markdown",
   "metadata": {},
   "source": [
    "**Question 15 (More Complicated):** What is the average rating for every movie genre?  Return the answer in a dictionary, where each key is a genre and the value is its average rating."
   ]
  },
  {
   "cell_type": "code",
   "execution_count": 133,
   "metadata": {},
   "outputs": [
    {
     "ename": "AttributeError",
     "evalue": "'dict' object has no attribute 'value'",
     "output_type": "error",
     "traceback": [
      "\u001b[1;31m---------------------------------------------------------------------------\u001b[0m",
      "\u001b[1;31mAttributeError\u001b[0m                            Traceback (most recent call last)",
      "\u001b[1;32m<ipython-input-133-a34b3ce11d87>\u001b[0m in \u001b[0;36m<module>\u001b[1;34m\u001b[0m\n\u001b[0;32m      1\u001b[0m \u001b[1;32mfor\u001b[0m \u001b[0mcat\u001b[0m\u001b[1;33m,\u001b[0m \u001b[0mvalue\u001b[0m \u001b[1;32min\u001b[0m \u001b[0mall_cat\u001b[0m\u001b[1;33m.\u001b[0m\u001b[0mitems\u001b[0m\u001b[1;33m(\u001b[0m\u001b[1;33m)\u001b[0m\u001b[1;33m:\u001b[0m\u001b[1;33m\u001b[0m\u001b[1;33m\u001b[0m\u001b[0m\n\u001b[0;32m      2\u001b[0m     \u001b[0mold_value\u001b[0m \u001b[1;33m=\u001b[0m \u001b[0mvalue\u001b[0m\u001b[1;33m\u001b[0m\u001b[1;33m\u001b[0m\u001b[0m\n\u001b[1;32m----> 3\u001b[1;33m     \u001b[0mall_cat\u001b[0m\u001b[1;33m.\u001b[0m\u001b[0mvalue\u001b[0m \u001b[1;33m=\u001b[0m \u001b[0msum\u001b[0m \u001b[1;33m(\u001b[0m\u001b[0mmovie\u001b[0m\u001b[1;33m[\u001b[0m\u001b[1;34m'imdb'\u001b[0m\u001b[1;33m]\u001b[0m \u001b[1;32mfor\u001b[0m \u001b[0mmovie\u001b[0m \u001b[1;32min\u001b[0m \u001b[0mmovies\u001b[0m \u001b[1;32mif\u001b[0m \u001b[0mmovie\u001b[0m \u001b[1;33m==\u001b[0m \u001b[0mcat\u001b[0m\u001b[1;33m)\u001b[0m \u001b[1;33m/\u001b[0m \u001b[0mold_value\u001b[0m\u001b[1;33m\u001b[0m\u001b[1;33m\u001b[0m\u001b[0m\n\u001b[0m\u001b[0;32m      4\u001b[0m \u001b[0mprint\u001b[0m \u001b[1;33m(\u001b[0m\u001b[0mall_cat\u001b[0m\u001b[1;33m)\u001b[0m\u001b[1;33m\u001b[0m\u001b[1;33m\u001b[0m\u001b[0m\n",
      "\u001b[1;31mAttributeError\u001b[0m: 'dict' object has no attribute 'value'"
     ]
    }
   ],
   "source": [
    "for cat, value in all_cat.items():\n",
    "    old_value = value\n",
    "    all_cat.value = sum (movie['imdb'] for movie in movies if movie == cat) / old_value\n",
    "print (all_cat)"
   ]
  },
  {
   "cell_type": "code",
   "execution_count": null,
   "metadata": {},
   "outputs": [],
   "source": []
  }
 ],
 "metadata": {
  "kernelspec": {
   "display_name": "Python 3",
   "language": "python",
   "name": "python3"
  },
  "language_info": {
   "codemirror_mode": {
    "name": "ipython",
    "version": 3
   },
   "file_extension": ".py",
   "mimetype": "text/x-python",
   "name": "python",
   "nbconvert_exporter": "python",
   "pygments_lexer": "ipython3",
   "version": "3.8.3"
  }
 },
 "nbformat": 4,
 "nbformat_minor": 2
}

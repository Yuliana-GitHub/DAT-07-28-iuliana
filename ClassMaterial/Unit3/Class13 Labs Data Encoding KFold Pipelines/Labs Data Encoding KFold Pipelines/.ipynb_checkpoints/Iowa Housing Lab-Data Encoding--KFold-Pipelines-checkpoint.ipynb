{
 "cells": [
  {
   "cell_type": "markdown",
   "metadata": {},
   "source": [
    "### Iowa Housing Lab -- Data Encoding -- KFold + Pipelines\n",
    "\n",
    "Welcome!! This lab will continue where we left off last class -- building a regression model, but this time with new features added in -- using cross validation to evaluate our scores, and building our encoding steps into pipelines.\n",
    "\n",
    "**Important:** A summary of each of the columns in this dataset, and what their values mean, can be found here: https://www.kaggle.com/c/house-prices-advanced-regression-techniques/data"
   ]
  },
  {
   "cell_type": "markdown",
   "metadata": {},
   "source": [
    "**Step 1).  Load in your data set**"
   ]
  },
  {
   "cell_type": "code",
   "execution_count": 11,
   "metadata": {},
   "outputs": [],
   "source": [
    "# your code here"
   ]
  },
  {
   "cell_type": "markdown",
   "metadata": {},
   "source": [
    "**Step 2).  There are missing values throughout this dataset.  Fill them in appropriately**\n",
    "\n",
    "We already covered this in class, but to give you a reminder:\n",
    "\n",
    " - Are the missing values random or not?\n",
    " - Encode them as missing if possible"
   ]
  },
  {
   "cell_type": "code",
   "execution_count": 1,
   "metadata": {},
   "outputs": [],
   "source": [
    "# your code here"
   ]
  },
  {
   "cell_type": "markdown",
   "metadata": {},
   "source": [
    "**Step 3): Create A Pipeline With Your Model And The Column Encoder of Your Choice**\n",
    "\n",
    "For now, you can choose which encoding technique you would want to use.  Later on you'll go back and check to see if it made a large difference.  "
   ]
  },
  {
   "cell_type": "code",
   "execution_count": 12,
   "metadata": {},
   "outputs": [],
   "source": [
    "# your answer here"
   ]
  },
  {
   "cell_type": "markdown",
   "metadata": {},
   "source": [
    "**Step 4).  Create A Training & Test Set**\n",
    "\n",
    "Re-use the same settings that we've completed previously in class"
   ]
  },
  {
   "cell_type": "code",
   "execution_count": 2,
   "metadata": {},
   "outputs": [],
   "source": [
    "# your answer here"
   ]
  },
  {
   "cell_type": "markdown",
   "metadata": {},
   "source": [
    "**Step 5).  Get An Initial 10 Fold Cross Validation Score**\n",
    "\n",
    "This will be your initial baseline for improving your score.  Use your pipeline in this step."
   ]
  },
  {
   "cell_type": "code",
   "execution_count": 26,
   "metadata": {},
   "outputs": [],
   "source": [
    "# your answer here"
   ]
  },
  {
   "cell_type": "markdown",
   "metadata": {},
   "source": [
    "**Step 6).  Do Parameter Exploration With Your Model To Find the Best Combination On Your Validation Set**\n",
    "\n",
    "Use pipelines here to make processing easier.\n",
    "\n",
    "Parameters to explore:\n",
    "\n",
    " - `n_estimators` (would not go above 1000 for now)\n",
    " - `max_depth`  (usually up to 5 levels deep is okay)\n",
    " - `learning_rate` (.001 - 0.1 is a good range)\n",
    " \n",
    "It's a good idea to refer to previous lab exercises to see how best to do this.\n",
    "\n",
    "Use 5 folds to get your validation score (this is for time)\n",
    "\n",
    "**Hint:** Use the `steps` attribute in the pipeline to grab the `GradientBoostingRegressor()` in your pipeline and set its params.\n"
   ]
  },
  {
   "cell_type": "code",
   "execution_count": 4,
   "metadata": {},
   "outputs": [],
   "source": [
    "# your answer here"
   ]
  },
  {
   "cell_type": "markdown",
   "metadata": {},
   "source": [
    "**Step 7).  Take the *best* parameter versions and fit this on your *entire* training set**"
   ]
  },
  {
   "cell_type": "code",
   "execution_count": 3,
   "metadata": {},
   "outputs": [],
   "source": [
    "# your answer here\n"
   ]
  },
  {
   "cell_type": "markdown",
   "metadata": {},
   "source": [
    "**Step 8).  Score the model on your test set**\n",
    "\n",
    "How did the two compare?"
   ]
  },
  {
   "cell_type": "code",
   "execution_count": 5,
   "metadata": {},
   "outputs": [],
   "source": [
    "# your answer here"
   ]
  }
 ],
 "metadata": {
  "kernelspec": {
   "display_name": "Python 3",
   "language": "python",
   "name": "python3"
  },
  "language_info": {
   "codemirror_mode": {
    "name": "ipython",
    "version": 3
   },
   "file_extension": ".py",
   "mimetype": "text/x-python",
   "name": "python",
   "nbconvert_exporter": "python",
   "pygments_lexer": "ipython3",
   "version": "3.8.3"
  }
 },
 "nbformat": 4,
 "nbformat_minor": 4
}

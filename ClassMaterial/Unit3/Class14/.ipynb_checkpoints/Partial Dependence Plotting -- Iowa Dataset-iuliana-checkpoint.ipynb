{
 "cells": [
  {
   "cell_type": "code",
   "execution_count": null,
   "metadata": {},
   "outputs": [],
   "source": [
    "# imports\n",
    "import pandas as pd\n",
    "import numpy as np\n",
    "from pdpbox import pdp, info_plots\n",
    "from sklearn.ensemble import GradientBoostingRegressor\n",
    "from sklearn.model_selection import train_test_split\n",
    "from sklearn.pipeline import make_pipeline\n",
    "import category_encoders as ce"
   ]
  },
  {
   "cell_type": "code",
   "execution_count": null,
   "metadata": {},
   "outputs": [],
   "source": [
    "# load in the dataset\n",
    "df = pd.read_csv(r\"C:\\Users\\Jonat\\dat-07-28\\DAT-07-28\\ClassMaterial\\Unit3\\data\\iowa_train2.csv\")"
   ]
  },
  {
   "cell_type": "code",
   "execution_count": null,
   "metadata": {},
   "outputs": [],
   "source": [
    "# fill in missing values\n",
    "missing_cols_query   = df.isnull().sum() > 0\n",
    "missing_cols_num     = df.loc[:, missing_cols_query].select_dtypes(include=np.number).columns.tolist()\n",
    "missing_cols_cat     = df.loc[:, missing_cols_query].select_dtypes(include=np.object).columns.tolist()\n",
    "df[missing_cols_num] = df[missing_cols_num].fillna(0)\n",
    "df[missing_cols_cat] = df[missing_cols_cat].fillna('None')"
   ]
  },
  {
   "cell_type": "code",
   "execution_count": null,
   "metadata": {},
   "outputs": [],
   "source": [
    "# set up pipeline\n",
    "ohe  = ce.OneHotEncoder(use_cat_names=True)\n",
    "gbm  = GradientBoostingRegressor()\n",
    "\n",
    "X    = ohe.fit_transform(df.drop('SalePrice', axis=1))\n",
    "y    = df['SalePrice']\n",
    "\n",
    "# create training & test sets\n",
    "X_train, X_test, y_train, y_test = train_test_split(X, y, test_size=0.2, random_state=1985)"
   ]
  },
  {
   "cell_type": "code",
   "execution_count": null,
   "metadata": {},
   "outputs": [],
   "source": [
    "# fit the model\n",
    "gbm.fit(X_train, y_train)"
   ]
  },
  {
   "cell_type": "code",
   "execution_count": null,
   "metadata": {},
   "outputs": [],
   "source": [
    "# what was the impact of overall quality on the housing price?\n",
    "fig, axes, summary_df = info_plots.actual_plot(\n",
    "    model=gbm, X=X_train, \n",
    "    feature='OverallQual', feature_name='OverallQual', predict_kwds={}\n",
    ")"
   ]
  },
  {
   "cell_type": "code",
   "execution_count": null,
   "metadata": {},
   "outputs": [],
   "source": [
    "# chart is being created from this variable\n",
    "summary_df"
   ]
  },
  {
   "cell_type": "code",
   "execution_count": null,
   "metadata": {},
   "outputs": [],
   "source": [
    "# what was the additive impact of EACH unique value of OverallQual?  What was its marginal impact?\n",
    "pdp_overall_qual = pdp.pdp_isolate(\n",
    "    model=gbm, dataset=X_train, model_features=X.columns.tolist(), \n",
    "    feature='OverallQual', cust_grid_points=X_train['OverallQual'].unique().tolist()\n",
    ")\n",
    "fig, axes = pdp.pdp_plot(pdp_overall_qual, 'Overall Quality', plot_lines=True, frac_to_plot=100)"
   ]
  },
  {
   "cell_type": "code",
   "execution_count": null,
   "metadata": {},
   "outputs": [],
   "source": [
    "# where do these values come from? -- average values if you changed OverallQual to each particular value\n",
    "pdp_overall_qual.pdp"
   ]
  },
  {
   "cell_type": "code",
   "execution_count": null,
   "metadata": {},
   "outputs": [],
   "source": [
    "# a small example\n",
    "# copy the dataframe\n",
    "X_train_copy = X_train.copy()\n",
    "# change the value of OverallQual to 10 for EVERY value\n",
    "X_train_copy['OverallQual'] = 10\n",
    "# and now look at what we have\n",
    "X_train_copy['OverallQual']"
   ]
  },
  {
   "cell_type": "code",
   "execution_count": null,
   "metadata": {},
   "outputs": [],
   "source": [
    "# and now look at our predictions\n",
    "preds = gbm.predict(X_train_copy)\n",
    "# and note the average\n",
    "preds.mean()"
   ]
  },
  {
   "cell_type": "code",
   "execution_count": null,
   "metadata": {},
   "outputs": [],
   "source": [
    "# and what about the lines?\n",
    "pdp_overall_qual.ice_lines"
   ]
  },
  {
   "cell_type": "markdown",
   "metadata": {},
   "source": [
    "### And What About Neighborhoods?"
   ]
  },
  {
   "cell_type": "code",
   "execution_count": null,
   "metadata": {},
   "outputs": [],
   "source": [
    "# our column labels\n",
    "ohe.get_feature_names()"
   ]
  },
  {
   "cell_type": "code",
   "execution_count": null,
   "metadata": {},
   "outputs": [],
   "source": [
    "# first, let's grab neighborhood columns\n",
    "neighborhood_cols = [col for col in ohe.get_feature_names() if 'Neighborhood' in col]\n",
    "neighborhood_cols"
   ]
  },
  {
   "cell_type": "code",
   "execution_count": null,
   "metadata": {},
   "outputs": [],
   "source": [
    "pdp_neighborhood.display_columns"
   ]
  },
  {
   "cell_type": "code",
   "execution_count": null,
   "metadata": {},
   "outputs": [],
   "source": [
    "# and what about categorical variables?\n",
    "# what was the impact of neighborhood on the housing price? \n",
    "pdp_neighborhood = pdp.pdp_isolate(\n",
    "    model=gbm, dataset=X_train, model_features=X.columns.tolist(), \n",
    "    feature=neighborhood_cols\n",
    ")\n",
    "fig, axes = pdp.pdp_plot(pdp_neighborhood, 'Neighborhood', plot_lines=True, frac_to_plot=100)\n",
    "# this code is just for formatting -- getting the labels to format correctly\n",
    "xtick_labels = [label.split('_')[-1] for label in neighborhood_cols]\n",
    "axes['pdp_ax'].set_xticklabels(xtick_labels, rotation='vertical');"
   ]
  },
  {
   "cell_type": "code",
   "execution_count": null,
   "metadata": {},
   "outputs": [],
   "source": [
    "# and what about interactions?\n",
    "fig, axes, summary_df = info_plots.actual_plot_interact(\n",
    "    model=gbm, X=X_train, \n",
    "    features=['OverallQual', neighborhood_cols], \n",
    "    feature_names=['Housing Quality', 'Neighborhood']\n",
    ")\n",
    "\n",
    "axes['value_ax'].set_yticklabels(xtick_labels);"
   ]
  },
  {
   "cell_type": "code",
   "execution_count": null,
   "metadata": {},
   "outputs": [],
   "source": [
    "# and a slightly different look at the same problem\n",
    "gbm_inter = pdp.pdp_interact(\n",
    "    model=gbm, dataset=X_train, model_features=X_train.columns, \n",
    "    features=['OverallQual', 'GrLivArea']\n",
    ")\n",
    "\n",
    "\n",
    "fig, axes = pdp.pdp_interact_plot(\n",
    "    gbm_inter, ['Overall Quality', 'LivingArea'], x_quantile=True, plot_type='grid', plot_pdp=True\n",
    ")"
   ]
  }
 ],
 "metadata": {
  "kernelspec": {
   "display_name": "Python 3",
   "language": "python",
   "name": "python3"
  },
  "language_info": {
   "codemirror_mode": {
    "name": "ipython",
    "version": 3
   },
   "file_extension": ".py",
   "mimetype": "text/x-python",
   "name": "python",
   "nbconvert_exporter": "python",
   "pygments_lexer": "ipython3",
   "version": "3.8.3"
  }
 },
 "nbformat": 4,
 "nbformat_minor": 4
}

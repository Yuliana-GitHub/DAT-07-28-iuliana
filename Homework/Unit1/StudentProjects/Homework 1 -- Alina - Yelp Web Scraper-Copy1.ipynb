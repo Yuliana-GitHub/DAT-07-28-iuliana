{
 "cells": [
  {
   "cell_type": "markdown",
   "metadata": {},
   "source": [
    "### Unit 1 Homework:  Scraping the Yelp Website\n",
    "\n",
    "Welcome!  For this homework assignment you'll be tasked with building a web scraper in a manner that builds on what was covered in our web scraping class.\n",
    "\n",
    "The assignment will extend the lab work done during that time, where we built a dataset that listed the name, number of reviews and price range for restaurant on the following web page: https://www.yelp.com/search?find_desc=Restaurants&find_loc=London%2C%20United%20Kingdom&ns=1\n",
    "\n",
    "Your most basic task is to build a dataset from the above website that has the following characteristics:\n",
    "\n",
    " - Has at least 5 columns (they can overlap with what we created in class)\n",
    " - Has at least 100 rows (this means you will have to scrape more than 1 page)\n",
    " \n",
    "Your final product will be a jupyter notebook that has the following characteristics:\n",
    "\n",
    " - It results in the creation of a pandas dataframe\n",
    " - You should write comments in every cell explaining what you are doing and your line of thinking\n",
    " \n",
    "**Bonus:**\n",
    "\n",
    " - If you'd like you can cycle through different pages manually, but see if you can do so programmatically -- ie, using loops (**hint: ** `while` loops can help here, as well as `try/except` blocks to catch errors)\n",
    " - Some values are not consistent across every entry so you might have to provide checks to see if a value exists at all"
   ]
  },
  {
   "cell_type": "code",
   "execution_count": 79,
   "metadata": {},
   "outputs": [],
   "source": [
    "# imports\n",
    "from bs4 import BeautifulSoup\n",
    "import pandas as pd\n",
    "import requests"
   ]
  },
  {
   "cell_type": "code",
   "execution_count": 80,
   "metadata": {},
   "outputs": [],
   "source": [
    "#initialize the request\n",
    "#use {} as page number holder (base_url.format('2')) for page 2\n",
    "base_url = (\"https://www.yelp.com/search?find_desc=Restaurants&find_loc=London%2C%20United%20Kingdom&ns=1&start={}\")\n"
   ]
  },
  {
   "cell_type": "code",
   "execution_count": 81,
   "metadata": {},
   "outputs": [],
   "source": [
    "req = requests.get(base_url.format(1))"
   ]
  },
  {
   "cell_type": "code",
   "execution_count": null,
   "metadata": {},
   "outputs": [],
   "source": [
    "scraper = bs4.BeautifulSoup(req.text,'lxml')"
   ]
  },
  {
   "cell_type": "code",
   "execution_count": 82,
   "metadata": {},
   "outputs": [
    {
     "data": {
      "text/plain": [
       "<Response [200]>"
      ]
     },
     "execution_count": 82,
     "metadata": {},
     "output_type": "execute_result"
    }
   ],
   "source": [
    "req"
   ]
  },
  {
   "cell_type": "code",
   "execution_count": 83,
   "metadata": {},
   "outputs": [],
   "source": [
    "# feed the text into a scraper\n",
    "yelp_scraper = BeautifulSoup(req.text)"
   ]
  },
  {
   "cell_type": "code",
   "execution_count": 84,
   "metadata": {},
   "outputs": [],
   "source": [
    "#class titles are separated by spaces\n",
    "#find every single link\n",
    "## use the find_all method to select every <a> tag, along with its accompanying classes\n",
    "titles = yelp_scraper.find_all('a', {'class': 'lemon--a__373c0__IEZFH', 'class': 'link__373c0__1G70M',\n",
    "                                'class': 'link-color--inherit__373c0__3dzpk',\n",
    "                                'class':  'link-size--inherit__373c0__1VFlE'})"
   ]
  },
  {
   "cell_type": "code",
   "execution_count": 85,
   "metadata": {},
   "outputs": [
    {
     "data": {
      "text/plain": [
       "<a class=\"lemon--a__373c0__IEZFH link__373c0__1G70M link-color--inherit__373c0__3dzpk link-size--inherit__373c0__1VFlE\" href=\"/biz/the-champion-notting-hill-london?osq=Restaurants\" name=\"The Champion- Notting Hill\" rel=\"\" target=\"\">The Champion- Notting Hill</a>"
      ]
     },
     "execution_count": 85,
     "metadata": {},
     "output_type": "execute_result"
    }
   ],
   "source": [
    "titles[0]"
   ]
  },
  {
   "cell_type": "code",
   "execution_count": 86,
   "metadata": {},
   "outputs": [
    {
     "data": {
      "text/plain": [
       "bs4.element.Tag"
      ]
     },
     "execution_count": 86,
     "metadata": {},
     "output_type": "execute_result"
    }
   ],
   "source": [
    "#bs for element tag\n",
    "## the data type of the item,it's not a string, \n",
    "#but a specialized scraper object\n",
    "type(titles[0])"
   ]
  },
  {
   "cell_type": "code",
   "execution_count": 87,
   "metadata": {},
   "outputs": [],
   "source": [
    "# first convert everything into a string\n",
    "titles = [str(title) for title in titles]"
   ]
  },
  {
   "cell_type": "code",
   "execution_count": 88,
   "metadata": {},
   "outputs": [],
   "source": [
    "# remove the </a> tag at the end\n",
    "titles = [title.replace('</a>', '') for title in titles]"
   ]
  },
  {
   "cell_type": "code",
   "execution_count": 89,
   "metadata": {},
   "outputs": [],
   "source": [
    "# and then split the items and grab the appropriate spot in the list to get the actual title\n",
    "titles = [title.split('>')[1] for title in titles]"
   ]
  },
  {
   "cell_type": "code",
   "execution_count": 90,
   "metadata": {},
   "outputs": [
    {
     "data": {
      "text/plain": [
       "['The Champion- Notting Hill',\n",
       " 'more',\n",
       " 'Escudo de Cuba',\n",
       " 'more',\n",
       " 'BunBunBun Vietnamese Food',\n",
       " 'more',\n",
       " 'Goddards at Greenwich',\n",
       " 'more',\n",
       " 'Piccolino',\n",
       " 'more',\n",
       " 'Xi’An BiangBiang Noodles',\n",
       " 'more',\n",
       " 'Hoppers',\n",
       " 'more',\n",
       " 'Greenberry Café',\n",
       " 'more',\n",
       " 'Fish in a Tie',\n",
       " 'more',\n",
       " 'Chokhi Dhani',\n",
       " 'more',\n",
       " 'Da Mario Restaurant',\n",
       " 'more',\n",
       " 'Texas Joe’s',\n",
       " 'more',\n",
       " 'Bizzarro',\n",
       " 'more',\n",
       " 'Dinerama',\n",
       " 'more',\n",
       " 'The Barbary',\n",
       " 'more',\n",
       " 'Flat Iron',\n",
       " 'more',\n",
       " 'Black Axe Mangal',\n",
       " 'more',\n",
       " 'Busaba Soho',\n",
       " 'more',\n",
       " 'Cambridge Street',\n",
       " 'more',\n",
       " 'Restaurante Santafereño',\n",
       " 'more',\n",
       " 'Circolo Popolare',\n",
       " 'more',\n",
       " 'The Ivy',\n",
       " 'more',\n",
       " 'Fondue Factory London',\n",
       " 'more',\n",
       " 'The Lion &amp; Unicorn',\n",
       " 'more',\n",
       " 'Phat Phuc Noodle Bar',\n",
       " 'more',\n",
       " 'Balaio Brazilian Grill',\n",
       " 'more',\n",
       " 'Electric Diner',\n",
       " 'more',\n",
       " 'Bird of Smithfield',\n",
       " 'more',\n",
       " 'Kiln',\n",
       " 'more',\n",
       " 'CASK Pub and Kitchen',\n",
       " 'more',\n",
       " '<span aria-hidden=\"true\" class=\"lemon--span__373c0__3997G icon__373c0__ehCWV icon--24-chevron-left-v2 icon--currentColor__373c0__x-sG2 icon--v2__373c0__1yp8c navigation-button-icon__373c0__1WyUh\" style=\"width:24px;height:24px\"',\n",
       " '<div aria-label=\"Page: 1\" class=\"lemon--div__373c0__1mboc undefined display--inline-block__373c0__1ZKqC border-color--default__373c0__3-ifU\"',\n",
       " '<div aria-label=\"Page: 2\" class=\"lemon--div__373c0__1mboc undefined display--inline-block__373c0__1ZKqC border-color--default__373c0__3-ifU\"',\n",
       " '<div aria-label=\"Page: 3\" class=\"lemon--div__373c0__1mboc undefined display--inline-block__373c0__1ZKqC border-color--default__373c0__3-ifU\"',\n",
       " '<div aria-label=\"Page: 5\" class=\"lemon--div__373c0__1mboc undefined display--inline-block__373c0__1ZKqC border-color--default__373c0__3-ifU\"',\n",
       " '<div aria-label=\"Page: 6\" class=\"lemon--div__373c0__1mboc undefined display--inline-block__373c0__1ZKqC border-color--default__373c0__3-ifU\"',\n",
       " '<div aria-label=\"Page: 7\" class=\"lemon--div__373c0__1mboc undefined display--inline-block__373c0__1ZKqC border-color--default__373c0__3-ifU\"',\n",
       " '<div aria-label=\"Page: 8\" class=\"lemon--div__373c0__1mboc undefined display--inline-block__373c0__1ZKqC border-color--default__373c0__3-ifU\"',\n",
       " '<span aria-hidden=\"true\" class=\"lemon--span__373c0__3997G icon__373c0__ehCWV icon--24-chevron-right-v2 icon--currentColor__373c0__x-sG2 icon--v2__373c0__1yp8c navigation-button-icon__373c0__1WyUh\" style=\"width:24px;height:24px\"']"
      ]
     },
     "execution_count": 90,
     "metadata": {},
     "output_type": "execute_result"
    }
   ],
   "source": [
    "titles"
   ]
  },
  {
   "cell_type": "code",
   "execution_count": 91,
   "metadata": {},
   "outputs": [],
   "source": [
    "#get rid of more and the extra quotation \n",
    "titles = [title for title in titles if title != 'more']"
   ]
  },
  {
   "cell_type": "code",
   "execution_count": 92,
   "metadata": {},
   "outputs": [],
   "source": [
    "titles = titles[:-8]"
   ]
  },
  {
   "cell_type": "code",
   "execution_count": 93,
   "metadata": {},
   "outputs": [
    {
     "data": {
      "text/plain": [
       "['The Champion- Notting Hill',\n",
       " 'Escudo de Cuba',\n",
       " 'BunBunBun Vietnamese Food',\n",
       " 'Goddards at Greenwich',\n",
       " 'Piccolino',\n",
       " 'Xi’An BiangBiang Noodles',\n",
       " 'Hoppers',\n",
       " 'Greenberry Café',\n",
       " 'Fish in a Tie',\n",
       " 'Chokhi Dhani',\n",
       " 'Da Mario Restaurant',\n",
       " 'Texas Joe’s',\n",
       " 'Bizzarro',\n",
       " 'Dinerama',\n",
       " 'The Barbary',\n",
       " 'Flat Iron',\n",
       " 'Black Axe Mangal',\n",
       " 'Busaba Soho',\n",
       " 'Cambridge Street',\n",
       " 'Restaurante Santafereño',\n",
       " 'Circolo Popolare',\n",
       " 'The Ivy',\n",
       " 'Fondue Factory London',\n",
       " 'The Lion &amp; Unicorn',\n",
       " 'Phat Phuc Noodle Bar',\n",
       " 'Balaio Brazilian Grill',\n",
       " 'Electric Diner',\n",
       " 'Bird of Smithfield',\n",
       " 'Kiln',\n",
       " 'CASK Pub and Kitchen',\n",
       " '<span aria-hidden=\"true\" class=\"lemon--span__373c0__3997G icon__373c0__ehCWV icon--24-chevron-left-v2 icon--currentColor__373c0__x-sG2 icon--v2__373c0__1yp8c navigation-button-icon__373c0__1WyUh\" style=\"width:24px;height:24px\"']"
      ]
     },
     "execution_count": 93,
     "metadata": {},
     "output_type": "execute_result"
    }
   ],
   "source": [
    "titles"
   ]
  },
  {
   "cell_type": "code",
   "execution_count": 97,
   "metadata": {},
   "outputs": [],
   "source": [
    "titles = [title for title in titles if title != 'more' and '<div' not in title and '<span' not in title and '<div' not in title]\n"
   ]
  },
  {
   "cell_type": "code",
   "execution_count": 98,
   "metadata": {},
   "outputs": [
    {
     "data": {
      "text/plain": [
       "['The Champion- Notting Hill',\n",
       " 'Escudo de Cuba',\n",
       " 'BunBunBun Vietnamese Food',\n",
       " 'Goddards at Greenwich',\n",
       " 'Piccolino',\n",
       " 'Xi’An BiangBiang Noodles',\n",
       " 'Hoppers',\n",
       " 'Greenberry Café',\n",
       " 'Fish in a Tie',\n",
       " 'Chokhi Dhani',\n",
       " 'Da Mario Restaurant',\n",
       " 'Texas Joe’s',\n",
       " 'Bizzarro',\n",
       " 'Dinerama',\n",
       " 'The Barbary',\n",
       " 'Flat Iron',\n",
       " 'Black Axe Mangal',\n",
       " 'Busaba Soho',\n",
       " 'Cambridge Street',\n",
       " 'Restaurante Santafereño',\n",
       " 'Circolo Popolare',\n",
       " 'The Ivy',\n",
       " 'Fondue Factory London',\n",
       " 'The Lion &amp; Unicorn',\n",
       " 'Phat Phuc Noodle Bar',\n",
       " 'Balaio Brazilian Grill',\n",
       " 'Electric Diner',\n",
       " 'Bird of Smithfield',\n",
       " 'Kiln',\n",
       " 'CASK Pub and Kitchen']"
      ]
     },
     "execution_count": 98,
     "metadata": {},
     "output_type": "execute_result"
    }
   ],
   "source": [
    "titles"
   ]
  },
  {
   "cell_type": "code",
   "execution_count": 99,
   "metadata": {},
   "outputs": [],
   "source": [
    "num_reviews = yelp_scraper.find_all('span', {'class': 'lemon--span__373c0__3997G', \n",
    "                                        'class': 'text__373c0__2Kxyz',\n",
    "                                        'class': 'reviewCount__373c0__2r4xT',\n",
    "                                        'class': 'text-color--black-extra-light__373c0__2OyzO'})"
   ]
  },
  {
   "cell_type": "code",
   "execution_count": 100,
   "metadata": {},
   "outputs": [
    {
     "data": {
      "text/plain": [
       "<span class=\"lemon--span__373c0__3997G text__373c0__2Kxyz text-color--black-extra-light__373c0__2OyzO text-align--left__373c0__2XGa-\"><a class=\"lemon--a__373c0__IEZFH link__373c0__1G70M link-color--inherit__373c0__3dzpk link-size--default__373c0__7tls6\" href=\"/search?cflt=pubs&amp;find_desc=Restaurants&amp;find_loc=London%2C+United+Kingdom\" name=\"\" rel=\"\" role=\"link\" target=\"\">Pubs</a>, </span>"
      ]
     },
     "execution_count": 100,
     "metadata": {},
     "output_type": "execute_result"
    }
   ],
   "source": [
    "num_reviews[2]"
   ]
  },
  {
   "cell_type": "code",
   "execution_count": 101,
   "metadata": {},
   "outputs": [],
   "source": [
    "#change to a data type we can work with\n",
    "# we'll convert everything into a string\n",
    "num_reviews = [str(review) for review in num_reviews]"
   ]
  },
  {
   "cell_type": "code",
   "execution_count": 102,
   "metadata": {},
   "outputs": [
    {
     "data": {
      "text/plain": [
       "'<span class=\"lemon--span__373c0__3997G text__373c0__2Kxyz reviewCount__373c0__2r4xT text-color--black-extra-light__373c0__2OyzO text-align--left__373c0__2XGa-\">108</span>'"
      ]
     },
     "execution_count": 102,
     "metadata": {},
     "output_type": "execute_result"
    }
   ],
   "source": [
    "num_reviews[0]"
   ]
  },
  {
   "cell_type": "code",
   "execution_count": 103,
   "metadata": {},
   "outputs": [],
   "source": [
    "#remove the span replace it with nothing\n",
    "num_reviews = [review.replace('</span>', '') for review in num_reviews]"
   ]
  },
  {
   "cell_type": "code",
   "execution_count": 104,
   "metadata": {},
   "outputs": [
    {
     "data": {
      "text/plain": [
       "'<span class=\"lemon--span__373c0__3997G text__373c0__2Kxyz reviewCount__373c0__2r4xT text-color--black-extra-light__373c0__2OyzO text-align--left__373c0__2XGa-\">108'"
      ]
     },
     "execution_count": 104,
     "metadata": {},
     "output_type": "execute_result"
    }
   ],
   "source": [
    "num_reviews[0]"
   ]
  },
  {
   "cell_type": "code",
   "execution_count": 105,
   "metadata": {},
   "outputs": [],
   "source": [
    "# split on the > to get the last item\n",
    "num_reviews = [review.split('>')[-1] for review in num_reviews]"
   ]
  },
  {
   "cell_type": "code",
   "execution_count": 106,
   "metadata": {},
   "outputs": [
    {
     "data": {
      "text/plain": [
       "'8'"
      ]
     },
     "execution_count": 106,
     "metadata": {},
     "output_type": "execute_result"
    }
   ],
   "source": [
    "num_reviews[4]"
   ]
  },
  {
   "cell_type": "code",
   "execution_count": 107,
   "metadata": {},
   "outputs": [],
   "source": [
    "#it's a string that encodes a number\n",
    "num = '701'"
   ]
  },
  {
   "cell_type": "code",
   "execution_count": 108,
   "metadata": {},
   "outputs": [
    {
     "data": {
      "text/plain": [
       "True"
      ]
     },
     "execution_count": 108,
     "metadata": {},
     "output_type": "execute_result"
    }
   ],
   "source": [
    "num.isdigit()"
   ]
  },
  {
   "cell_type": "code",
   "execution_count": 109,
   "metadata": {},
   "outputs": [],
   "source": [
    "#return the item in the list if this statement returns true\n",
    "# do a check and just select the items that are numeric\n",
    "# the isdigit() string method will be helpful here\n",
    "num_reviews = [int(review) for review in num_reviews if review.isdigit()]"
   ]
  },
  {
   "cell_type": "code",
   "execution_count": 110,
   "metadata": {},
   "outputs": [
    {
     "data": {
      "text/plain": [
       "[108,\n",
       " 8,\n",
       " 33,\n",
       " 84,\n",
       " 47,\n",
       " 17,\n",
       " 113,\n",
       " 32,\n",
       " 33,\n",
       " 1,\n",
       " 139,\n",
       " 22,\n",
       " 149,\n",
       " 59,\n",
       " 64,\n",
       " 3,\n",
       " 10,\n",
       " 381,\n",
       " 50,\n",
       " 7,\n",
       " 11,\n",
       " 170,\n",
       " 1,\n",
       " 18,\n",
       " 56,\n",
       " 1,\n",
       " 108,\n",
       " 23,\n",
       " 51,\n",
       " 139]"
      ]
     },
     "execution_count": 110,
     "metadata": {},
     "output_type": "execute_result"
    }
   ],
   "source": [
    "num_reviews"
   ]
  },
  {
   "cell_type": "code",
   "execution_count": 111,
   "metadata": {},
   "outputs": [],
   "source": [
    "scraper = BeautifulSoup(req.text)"
   ]
  },
  {
   "cell_type": "code",
   "execution_count": 112,
   "metadata": {},
   "outputs": [],
   "source": [
    "price_ranges = scraper.find_all('span', {'class': 'lemon--span__373c0__3997G', \n",
    "                                        'class': 'text__373c0__2Kxyz',\n",
    "                                        'class': 'reviewCount__373c0__2r4xT',\n",
    "                                        'class': 'text-color--black-extra-light__373c0__2OyzO'})"
   ]
  },
  {
   "cell_type": "code",
   "execution_count": 113,
   "metadata": {},
   "outputs": [],
   "source": [
    "price_ranges = [str(range_) for range_ in price_ranges]"
   ]
  },
  {
   "cell_type": "code",
   "execution_count": 114,
   "metadata": {},
   "outputs": [],
   "source": [
    "price_ranges = [range_.replace('</span>', '') for range_ in price_ranges]"
   ]
  },
  {
   "cell_type": "code",
   "execution_count": 115,
   "metadata": {},
   "outputs": [],
   "source": [
    "price_ranges = [range_.split('>')[1] for range_ in price_ranges]"
   ]
  },
  {
   "cell_type": "code",
   "execution_count": 116,
   "metadata": {},
   "outputs": [],
   "source": [
    "# \\xA3 is unicode for the pound symbol\n",
    "price_ranges = [range_ for range_ in price_ranges if '\\xA3' in range_]"
   ]
  },
  {
   "cell_type": "code",
   "execution_count": 117,
   "metadata": {},
   "outputs": [],
   "source": [
    "star_ratings = yelp_scraper.find_all('div',{'class': 'lemon--div__373c0__1mboc',\n",
    "                                       'class': 'i-stars__373c0__1T6rz',\n",
    "                                       'class': 'i-stars--regular-4-half__373c0__1YrPo'})\n",
    "       "
   ]
  },
  {
   "cell_type": "code",
   "execution_count": 118,
   "metadata": {},
   "outputs": [
    {
     "data": {
      "text/plain": [
       "<div aria-label=\"4.5 star rating\" class=\"lemon--div__373c0__1mboc i-stars__373c0__1T6rz i-stars--regular-4-half__373c0__1YrPo border-color--default__373c0__3-ifU overflow--hidden__373c0__2y4YK\" role=\"img\"><img alt=\"\" class=\"lemon--img__373c0__3GQUb offscreen__373c0__1KofL\" height=\"560\" src=\"https://s3-media0.fl.yelpcdn.com/assets/public/stars_v2.yelp_design_web.yji-52d3d7a328db670d4402843cbddeed89.png\" width=\"132\"/></div>"
      ]
     },
     "execution_count": 118,
     "metadata": {},
     "output_type": "execute_result"
    }
   ],
   "source": [
    "star_ratings[0]"
   ]
  },
  {
   "cell_type": "code",
   "execution_count": 119,
   "metadata": {},
   "outputs": [
    {
     "data": {
      "text/plain": [
       "bs4.element.Tag"
      ]
     },
     "execution_count": 119,
     "metadata": {},
     "output_type": "execute_result"
    }
   ],
   "source": [
    "type(star_ratings[0])"
   ]
  },
  {
   "cell_type": "code",
   "execution_count": 120,
   "metadata": {},
   "outputs": [],
   "source": [
    "star_ratings = [str(star_ratings) for star_ratings in star_ratings]"
   ]
  },
  {
   "cell_type": "code",
   "execution_count": 121,
   "metadata": {},
   "outputs": [
    {
     "data": {
      "text/plain": [
       "str"
      ]
     },
     "execution_count": 121,
     "metadata": {},
     "output_type": "execute_result"
    }
   ],
   "source": [
    "type(star_ratings[0])"
   ]
  },
  {
   "cell_type": "code",
   "execution_count": 122,
   "metadata": {},
   "outputs": [],
   "source": [
    "star_ratings = [star_ratings.replace('</a>', '') for star_ratings in star_ratings]"
   ]
  },
  {
   "cell_type": "code",
   "execution_count": 123,
   "metadata": {},
   "outputs": [],
   "source": [
    "star_ratings = [star_ratings.split('>')[-1] for star_ratings in star_ratings]"
   ]
  },
  {
   "cell_type": "code",
   "execution_count": 124,
   "metadata": {},
   "outputs": [
    {
     "data": {
      "text/plain": [
       "['', '', '', '', '', '', '', '', '', '', '', '', '', '']"
      ]
     },
     "execution_count": 124,
     "metadata": {},
     "output_type": "execute_result"
    }
   ],
   "source": [
    "star_ratings"
   ]
  },
  {
   "cell_type": "code",
   "execution_count": 125,
   "metadata": {},
   "outputs": [],
   "source": [
    "cuisine = scraper.find_all('a', {'class': 'lemon--a__373c0__IEZFH', \n",
    "                              'class': 'link__373c0__1G70M', \n",
    "                              'class': 'link-color--inherit__373c0__3dzpk',\n",
    "                              'class': 'link-size--default__373c0__7tls6 '})"
   ]
  },
  {
   "cell_type": "code",
   "execution_count": 126,
   "metadata": {},
   "outputs": [
    {
     "ename": "IndexError",
     "evalue": "list index out of range",
     "output_type": "error",
     "traceback": [
      "\u001b[0;31m---------------------------------------------------------------------------\u001b[0m",
      "\u001b[0;31mIndexError\u001b[0m                                Traceback (most recent call last)",
      "\u001b[0;32m<ipython-input-126-47f423b27388>\u001b[0m in \u001b[0;36m<module>\u001b[0;34m\u001b[0m\n\u001b[0;32m----> 1\u001b[0;31m \u001b[0mcuisines\u001b[0m\u001b[0;34m[\u001b[0m\u001b[0;36m0\u001b[0m\u001b[0;34m]\u001b[0m\u001b[0;34m\u001b[0m\u001b[0;34m\u001b[0m\u001b[0m\n\u001b[0m",
      "\u001b[0;31mIndexError\u001b[0m: list index out of range"
     ]
    }
   ],
   "source": [
    "cuisines[0]"
   ]
  },
  {
   "cell_type": "code",
   "execution_count": 127,
   "metadata": {},
   "outputs": [],
   "source": [
    "cuisines = [str(cuisine) for cuisine in cuisine]"
   ]
  },
  {
   "cell_type": "code",
   "execution_count": 128,
   "metadata": {},
   "outputs": [
    {
     "ename": "IndexError",
     "evalue": "list index out of range",
     "output_type": "error",
     "traceback": [
      "\u001b[0;31m---------------------------------------------------------------------------\u001b[0m",
      "\u001b[0;31mIndexError\u001b[0m                                Traceback (most recent call last)",
      "\u001b[0;32m<ipython-input-128-ca619eea777d>\u001b[0m in \u001b[0;36m<module>\u001b[0;34m\u001b[0m\n\u001b[0;32m----> 1\u001b[0;31m \u001b[0mtype\u001b[0m\u001b[0;34m(\u001b[0m\u001b[0mcuisines\u001b[0m\u001b[0;34m[\u001b[0m\u001b[0;36m0\u001b[0m\u001b[0;34m]\u001b[0m\u001b[0;34m)\u001b[0m\u001b[0;34m\u001b[0m\u001b[0;34m\u001b[0m\u001b[0m\n\u001b[0m",
      "\u001b[0;31mIndexError\u001b[0m: list index out of range"
     ]
    }
   ],
   "source": [
    "type(cuisines[0])"
   ]
  },
  {
   "cell_type": "code",
   "execution_count": 129,
   "metadata": {},
   "outputs": [],
   "source": [
    "cuisines = [str(cuisines) for cuisine in cuisine]"
   ]
  },
  {
   "cell_type": "code",
   "execution_count": 130,
   "metadata": {},
   "outputs": [],
   "source": [
    "cuisines= [cuisines.replace('</a>', '') for cuisine in cuisine]"
   ]
  },
  {
   "cell_type": "code",
   "execution_count": 131,
   "metadata": {},
   "outputs": [],
   "source": [
    "cuisines = [cuisine.split('>')[1] for cuisine in cuisine ]"
   ]
  },
  {
   "cell_type": "code",
   "execution_count": 132,
   "metadata": {},
   "outputs": [
    {
     "data": {
      "text/plain": [
       "[]"
      ]
     },
     "execution_count": 132,
     "metadata": {},
     "output_type": "execute_result"
    }
   ],
   "source": [
    "cuisines"
   ]
  },
  {
   "cell_type": "code",
   "execution_count": 133,
   "metadata": {},
   "outputs": [],
   "source": [
    "cuisines = [cuisine for cuisines in cuisines if cuisines != 'more' and '<div' not in cuisines and '<span' not in cuisine]"
   ]
  },
  {
   "cell_type": "code",
   "execution_count": 134,
   "metadata": {},
   "outputs": [
    {
     "data": {
      "text/plain": [
       "[]"
      ]
     },
     "execution_count": 134,
     "metadata": {},
     "output_type": "execute_result"
    }
   ],
   "source": [
    "cuisines"
   ]
  },
  {
   "cell_type": "code",
   "execution_count": 135,
   "metadata": {},
   "outputs": [
    {
     "ename": "SyntaxError",
     "evalue": "invalid syntax (<ipython-input-135-0cf01d05d8ae>, line 5)",
     "output_type": "error",
     "traceback": [
      "\u001b[0;36m  File \u001b[0;32m\"<ipython-input-135-0cf01d05d8ae>\"\u001b[0;36m, line \u001b[0;32m5\u001b[0m\n\u001b[0;31m    'StarRatings': star_ratings\u001b[0m\n\u001b[0m    ^\u001b[0m\n\u001b[0;31mSyntaxError\u001b[0m\u001b[0;31m:\u001b[0m invalid syntax\n"
     ]
    }
   ],
   "source": [
    "df_dict = {\n",
    "    'Name': titles,\n",
    "    'NumReviews': num_reviews,\n",
    "    'PriceRange': price_ranges\n",
    "    'StarRatings': star_ratings\n",
    "    'Cuisines':cuisines\n",
    "}\n",
    "\n",
    "df = pd.DataFrame(df_dict)"
   ]
  },
  {
   "cell_type": "code",
   "execution_count": 137,
   "metadata": {},
   "outputs": [
    {
     "ename": "NameError",
     "evalue": "name 'df' is not defined",
     "output_type": "error",
     "traceback": [
      "\u001b[0;31m---------------------------------------------------------------------------\u001b[0m",
      "\u001b[0;31mNameError\u001b[0m                                 Traceback (most recent call last)",
      "\u001b[0;32m<ipython-input-137-00cf07b74dcd>\u001b[0m in \u001b[0;36m<module>\u001b[0;34m\u001b[0m\n\u001b[0;32m----> 1\u001b[0;31m \u001b[0mdf\u001b[0m\u001b[0;34m\u001b[0m\u001b[0;34m\u001b[0m\u001b[0m\n\u001b[0m",
      "\u001b[0;31mNameError\u001b[0m: name 'df' is not defined"
     ]
    }
   ],
   "source": [
    "df"
   ]
  },
  {
   "cell_type": "code",
   "execution_count": null,
   "metadata": {},
   "outputs": [],
   "source": []
  }
 ],
 "metadata": {
  "kernelspec": {
   "display_name": "Python 3",
   "language": "python",
   "name": "python3"
  },
  "language_info": {
   "codemirror_mode": {
    "name": "ipython",
    "version": 3
   },
   "file_extension": ".py",
   "mimetype": "text/x-python",
   "name": "python",
   "nbconvert_exporter": "python",
   "pygments_lexer": "ipython3",
   "version": "3.7.6"
  }
 },
 "nbformat": 4,
 "nbformat_minor": 4
}

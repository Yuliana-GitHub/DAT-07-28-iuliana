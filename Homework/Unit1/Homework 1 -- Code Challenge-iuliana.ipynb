{
 "cells": [
  {
   "cell_type": "markdown",
   "metadata": {},
   "source": [
    "<img src=\"http://imgur.com/1ZcRyrc.png\" style=\"float: left; margin: 20px; height: 55px\">\n",
    "\n",
    "# Project 1: Python Coding Exercises\n",
    "\n",
    "_Authors: Joseph Nelson (DC) _\n",
    "\n",
    "---"
   ]
  },
  {
   "cell_type": "markdown",
   "metadata": {},
   "source": [
    "The following code challenges are drawn from common exercises used in technical interviews.\n",
    "\n",
    "Please note that there may be several ways to approach each challenge. If you get stuck, try mapping out your approach in pseudocode first. Finally, while solutions to problems like these may be found online, remember that if you copy/paste code that you can't explain, you'll be missing out on the point of the project. The only way to truly learn a new skill is through practice, trial, and error - we can only help you improve by understanding where you are having trouble.\n",
    "\n",
    "**Note:** To receive the highest credit, make sure your answers are wrapped up in functions that we can call!"
   ]
  },
  {
   "cell_type": "markdown",
   "metadata": {},
   "source": [
    "### Challenge 1: Largest Palindrome\n",
    "A palindromic number reads the same both ways. For example, 1234321 is a palindrome. The largest palindrome made from the product of two two-digit numbers is 9009 = 91 × 99. Find the largest palindrome made from the product of two three-digit numbers. Afterward, write a brief explanation walking through your code's logic in markdown."
   ]
  },
  {
   "cell_type": "code",
   "execution_count": 28,
   "metadata": {},
   "outputs": [
    {
     "name": "stdout",
     "output_type": "stream",
     "text": [
      "the largest palindrome made from the product of two three-digit numbers is 906609\n"
     ]
    }
   ],
   "source": [
    "digit3 = list(range(100,1000))\n",
    "all_x = [i1*i2 for i1 in digit3 for i2 in digit3]\n",
    "def reverse (x):\n",
    "    x = str(x)\n",
    "    return x[::-1]\n",
    "all_palindrome = [palindrome for palindrome in all_x if str(palindrome) == reverse(palindrome)]\n",
    "the_largest = sorted(all_palindrome)[-1]\n",
    "print(f\"the largest palindrome made from the product of two three-digit numbers is {the_largest}\")"
   ]
  },
  {
   "cell_type": "markdown",
   "metadata": {},
   "source": [
    "### The markdown explanation: strings can be manipulated similar to lists"
   ]
  },
  {
   "cell_type": "markdown",
   "metadata": {},
   "source": [
    "\n",
    "### Challenge 2: Summation of Primes\n",
    "The sum of the primes below 10 is 2 + 3 + 5 + 7 = 17. Find the sum of all the primes below 2,000. Afterward, write a brief explanation walking through your code's logic in markdown."
   ]
  },
  {
   "cell_type": "code",
   "execution_count": 17,
   "metadata": {},
   "outputs": [
    {
     "name": "stdout",
     "output_type": "stream",
     "text": [
      "there are 303 primes below 2,000\n",
      "their sum is 277050\n"
     ]
    }
   ],
   "source": [
    "all_prime=[]\n",
    "for n in range(2,2001):\n",
    "    isPrime = True\n",
    "    for i in range(2, n):\n",
    "           if (n % i) == 0:\n",
    "                isPrime = False\n",
    "    if isPrime:\n",
    "        all_prime.append(n)\n",
    "all_prime\n",
    "print(f\"there are {len(all_prime)} primes below 2,000\") \n",
    "print(f\"their sum is {sum(all_prime)}\")"
   ]
  },
  {
   "cell_type": "markdown",
   "metadata": {},
   "source": [
    "### The markdown explanation: to evaluate if prime, I divited the number to all previous primes"
   ]
  },
  {
   "cell_type": "markdown",
   "metadata": {},
   "source": [
    "### Challenge 3: Multiples of 3 and 5\n",
    "If we list all of the natural numbers below 10 that are multiples of 3 or 5, we get 3, 5, 6, and 9. The sum of these multiples is 23. Find the sum of all the multiples of 3 and 5 below 1,000. Afterward, write a brief explanation walking through your code's logic in markdown."
   ]
  },
  {
   "cell_type": "code",
   "execution_count": 24,
   "metadata": {},
   "outputs": [
    {
     "name": "stdout",
     "output_type": "stream",
     "text": [
      "all the multiples of 3 and 5 are [15, 30, 45, 60, 75, 90, 105, 120, 135, 150, 165, 180, 195, 210, 225, 240, 255, 270, 285, 300, 315, 330, 345, 360, 375, 390, 405, 420, 435, 450, 465, 480, 495, 510, 525, 540, 555, 570, 585, 600, 615, 630, 645, 660, 675, 690, 705, 720, 735, 750, 765, 780, 795, 810, 825, 840, 855, 870, 885, 900, 915, 930, 945, 960, 975, 990]\n",
      "the sum of all the multiples of 3 and 5 below 1,000 is  33165\n"
     ]
    }
   ],
   "source": [
    "all =[i for i in range(15,1001) if i%3 == 0 and i%5 == 0]\n",
    "print(f\"all the multiples of 3 and 5 are {all}\")\n",
    "print (f\"the sum of all the multiples of 3 and 5 below 1,000 is  {sum(all)}\")"
   ]
  },
  {
   "cell_type": "markdown",
   "metadata": {},
   "source": [
    "### The markdown explanation: I unsed modulo 3 & 5"
   ]
  },
  {
   "cell_type": "markdown",
   "metadata": {},
   "source": [
    "### Challenge 4: String Compressor\n",
    "Implement a method to perform basic string compression using the counts of repeated characters. (This is called run-length encoding.) For example, the string \"aabcccccaaa\" would become a2b1c5a3. If the “compressed” string would not become smaller than the original string, your method should return the original string. You can assume the string has only uppercase and lowercase letters (a–z). Specify whether your solution is case sensitive or case insensitive and what you would need to change to make it the other. Afterward, write a brief explanation walking through your code's logic in markdown."
   ]
  },
  {
   "cell_type": "code",
   "execution_count": 97,
   "metadata": {},
   "outputs": [
    {
     "name": "stdout",
     "output_type": "stream",
     "text": [
      "enter the string you want to be compressed wwwwwWWWWuuuuUUUUUiiiiii\n",
      "if case sensitive, then enter 'yes': \n",
      "w9u9i6\n"
     ]
    }
   ],
   "source": [
    "string = input (\"enter the string you want to be compressed \")\n",
    "case_sensitive = input (\"if case sensitive, then enter 'yes': \")\n",
    "def compressing (string):\n",
    "    compression = []\n",
    "    count = 0\n",
    "    previous_letter = string[0]\n",
    "    if case_sensitive != 'yes':\n",
    "        string = string.lower()\n",
    "    for letter in string:\n",
    "        if letter == previous_letter:\n",
    "            count +=1\n",
    "        else: \n",
    "            compression.append(previous_letter+str(count))\n",
    "            previous_letter = letter\n",
    "            count =1\n",
    "    compression.append(previous_letter+str(count))       \n",
    "    return \"\".join(compression)\n",
    "if len((compressing(string)))>len(string):\n",
    "    print(string)\n",
    "else:\n",
    "    print (compressing(string))"
   ]
  },
  {
   "cell_type": "markdown",
   "metadata": {},
   "source": [
    "### The markdown explanation: I change the string to lowercases if not case sensitive"
   ]
  },
  {
   "cell_type": "markdown",
   "metadata": {},
   "source": [
    "### *BONUS* Challenge: FizzBuzz\n",
    "Write a program that prints all of the numbers from 1 to 100. For multiples of 3, instead of the number, print \"Fizz;\" for multiples of 5, print \"Buzz.\" For numbers that are multiples of both 3 and 5, print \"FizzBuzz.\" Afterward, write a brief explanation walking through your code's logic in markdown."
   ]
  },
  {
   "cell_type": "code",
   "execution_count": 101,
   "metadata": {},
   "outputs": [
    {
     "name": "stdout",
     "output_type": "stream",
     "text": [
      "the list is: [1, 2, 3, 4, 5, 6, 7, 8, 9, 10, 11, 12, 13, 14, 15, 16, 17, 18, 19, 20, 21, 22, 23, 24, 25, 26, 27, 28, 29, 30, 31, 32, 33, 34, 35, 36, 37, 38, 39, 40, 41, 42, 43, 44, 45, 46, 47, 48, 49, 50, 51, 52, 53, 54, 55, 56, 57, 58, 59, 60, 61, 62, 63, 64, 65, 66, 67, 68, 69, 70, 71, 72, 73, 74, 75, 76, 77, 78, 79, 80, 81, 82, 83, 84, 85, 86, 87, 88, 89, 90, 91, 92, 93, 94, 95, 96, 97, 98, 99, 100]\n",
      "the FizzBuzz is: [1, 2, 'Fizz', 4, 'Buzz', 'Fizz', 7, 8, 'Fizz', 'Buzz', 11, 'Fizz', 13, 14, 'FizzBuzz', 16, 17, 'Fizz', 19, 'Buzz', 'Fizz', 22, 23, 'Fizz', 'Buzz', 26, 'Fizz', 28, 29, 'FizzBuzz', 31, 32, 'Fizz', 34, 'Buzz', 'Fizz', 37, 38, 'Fizz', 'Buzz', 41, 'Fizz', 43, 44, 'FizzBuzz', 46, 47, 'Fizz', 49, 'Buzz', 'Fizz', 52, 53, 'Fizz', 'Buzz', 56, 'Fizz', 58, 59, 'FizzBuzz', 61, 62, 'Fizz', 64, 'Buzz', 'Fizz', 67, 68, 'Fizz', 'Buzz', 71, 'Fizz', 73, 74, 'FizzBuzz', 76, 77, 'Fizz', 79, 'Buzz', 'Fizz', 82, 83, 'Fizz', 'Buzz', 86, 'Fizz', 88, 89, 'FizzBuzz', 91, 92, 'Fizz', 94, 'Buzz', 'Fizz', 97, 98, 'Fizz', 'Buzz']\n"
     ]
    }
   ],
   "source": [
    "numbers =list(range(1,101))\n",
    "print(f\"the list is: {numbers}\")\n",
    "multiples = []\n",
    "for nr in numbers:\n",
    "    if nr % 3 == 0 and nr %5 == 0:\n",
    "        multiples.append(\"FizzBuzz\")\n",
    "    elif nr % 3 == 0:\n",
    "        multiples.append(\"Fizz\")\n",
    "    elif nr % 5 ==0:\n",
    "        multiples.append(\"Buzz\")\n",
    "    else:\n",
    "        multiples.append(nr)\n",
    "print (f\"the FizzBuzz is: {multiples}\")\n",
    "    "
   ]
  },
  {
   "cell_type": "markdown",
   "metadata": {},
   "source": [
    "### The markdown explanation: I used if-elif-else to calculate modulo "
   ]
  },
  {
   "cell_type": "code",
   "execution_count": null,
   "metadata": {},
   "outputs": [],
   "source": []
  }
 ],
 "metadata": {
  "anaconda-cloud": {},
  "kernelspec": {
   "display_name": "Python 3",
   "language": "python",
   "name": "python3"
  },
  "language_info": {
   "codemirror_mode": {
    "name": "ipython",
    "version": 3
   },
   "file_extension": ".py",
   "mimetype": "text/x-python",
   "name": "python",
   "nbconvert_exporter": "python",
   "pygments_lexer": "ipython3",
   "version": "3.8.3"
  }
 },
 "nbformat": 4,
 "nbformat_minor": 2
}
